{
 "cells": [
  {
   "cell_type": "code",
   "execution_count": 7,
   "outputs": [],
   "source": [
    "import pandas as pd\n",
    "import numpy as np\n",
    "import torch\n",
    "import os\n",
    "import seaborn as sns\n",
    "from sklearn.preprocessing import StandardScaler\n",
    "from sklearn.model_selection import train_test_split\n",
    "from sklearn.linear_model import LogisticRegression\n",
    "from sklearn.neighbors import KNeighborsClassifier\n",
    "import operator"
   ],
   "metadata": {
    "collapsed": false,
    "pycharm": {
     "name": "#%%\n"
    }
   }
  },
  {
   "cell_type": "code",
   "execution_count": 8,
   "outputs": [],
   "source": [
    "def load_train(data_dir:str) -> pd.DataFrame():\n",
    "    train_transaction_df = pd.read_csv(os.path.join(data_dir, \"train_transaction.csv\"))\n",
    "    train_identity_df = pd.read_csv(os.path.join(data_dir, \"train_identity.csv\"))\n",
    "    train_transaction_df = train_transaction_df.merge(train_identity_df,how='left',on='TransactionID')\n",
    "    return train_transaction_df\n",
    "train_data=load_train(data_dir=\"/Users/alexkosa/Desktop/AcLabs/TrainingData\")"
   ],
   "metadata": {
    "collapsed": false,
    "pycharm": {
     "name": "#%%\n"
    }
   }
  },
  {
   "cell_type": "code",
   "execution_count": 9,
   "outputs": [],
   "source": [
    "train_data.drop(['TransactionID'], axis=1, inplace=True)\n",
    "#train_data=reduce_mem_usage(train_data)"
   ],
   "metadata": {
    "collapsed": false,
    "pycharm": {
     "name": "#%%\n"
    }
   }
  },
  {
   "cell_type": "code",
   "execution_count": 8,
   "outputs": [
    {
     "data": {
      "text/plain": "   isFraud  TransactionDT  TransactionAmt ProductCD  card1  card2  card3  \\\n0        0          86400            68.5         W  13926    NaN  150.0   \n1        0          86401            29.0         W   2755  404.0  150.0   \n2        0          86469            59.0         W   4663  490.0  150.0   \n3        0          86499            50.0         W  18132  567.0  150.0   \n4        0          86506            50.0         H   4497  514.0  150.0   \n5        0          86510            49.0         W   5937  555.0  150.0   \n6        0          86522           159.0         W  12308  360.0  150.0   \n7        0          86529           422.5         W  12695  490.0  150.0   \n8        0          86535            15.0         H   2803  100.0  150.0   \n9        0          86536           117.0         W  17399  111.0  150.0   \n\n        card4  card5   card6  ...                id_31  id_32      id_33  \\\n0    discover  142.0  credit  ...                  NaN    NaN        NaN   \n1  mastercard  102.0  credit  ...                  NaN    NaN        NaN   \n2        visa  166.0   debit  ...                  NaN    NaN        NaN   \n3  mastercard  117.0   debit  ...                  NaN    NaN        NaN   \n4  mastercard  102.0  credit  ...  samsung browser 6.2   32.0  2220x1080   \n5        visa  226.0   debit  ...                  NaN    NaN        NaN   \n6        visa  166.0   debit  ...                  NaN    NaN        NaN   \n7        visa  226.0   debit  ...                  NaN    NaN        NaN   \n8        visa  226.0   debit  ...   mobile safari 11.0   32.0   1334x750   \n9  mastercard  224.0   debit  ...                  NaN    NaN        NaN   \n\n            id_34 id_35 id_36  id_37  id_38  DeviceType  \\\n0             NaN   NaN   NaN    NaN    NaN         NaN   \n1             NaN   NaN   NaN    NaN    NaN         NaN   \n2             NaN   NaN   NaN    NaN    NaN         NaN   \n3             NaN   NaN   NaN    NaN    NaN         NaN   \n4  match_status:2     T     F      T      T      mobile   \n5             NaN   NaN   NaN    NaN    NaN         NaN   \n6             NaN   NaN   NaN    NaN    NaN         NaN   \n7             NaN   NaN   NaN    NaN    NaN         NaN   \n8  match_status:1     T     F      F      T      mobile   \n9             NaN   NaN   NaN    NaN    NaN         NaN   \n\n                      DeviceInfo  \n0                            NaN  \n1                            NaN  \n2                            NaN  \n3                            NaN  \n4  SAMSUNG SM-G892A Build/NRD90M  \n5                            NaN  \n6                            NaN  \n7                            NaN  \n8                     iOS Device  \n9                            NaN  \n\n[10 rows x 433 columns]",
      "text/html": "<div>\n<style scoped>\n    .dataframe tbody tr th:only-of-type {\n        vertical-align: middle;\n    }\n\n    .dataframe tbody tr th {\n        vertical-align: top;\n    }\n\n    .dataframe thead th {\n        text-align: right;\n    }\n</style>\n<table border=\"1\" class=\"dataframe\">\n  <thead>\n    <tr style=\"text-align: right;\">\n      <th></th>\n      <th>isFraud</th>\n      <th>TransactionDT</th>\n      <th>TransactionAmt</th>\n      <th>ProductCD</th>\n      <th>card1</th>\n      <th>card2</th>\n      <th>card3</th>\n      <th>card4</th>\n      <th>card5</th>\n      <th>card6</th>\n      <th>...</th>\n      <th>id_31</th>\n      <th>id_32</th>\n      <th>id_33</th>\n      <th>id_34</th>\n      <th>id_35</th>\n      <th>id_36</th>\n      <th>id_37</th>\n      <th>id_38</th>\n      <th>DeviceType</th>\n      <th>DeviceInfo</th>\n    </tr>\n  </thead>\n  <tbody>\n    <tr>\n      <th>0</th>\n      <td>0</td>\n      <td>86400</td>\n      <td>68.5</td>\n      <td>W</td>\n      <td>13926</td>\n      <td>NaN</td>\n      <td>150.0</td>\n      <td>discover</td>\n      <td>142.0</td>\n      <td>credit</td>\n      <td>...</td>\n      <td>NaN</td>\n      <td>NaN</td>\n      <td>NaN</td>\n      <td>NaN</td>\n      <td>NaN</td>\n      <td>NaN</td>\n      <td>NaN</td>\n      <td>NaN</td>\n      <td>NaN</td>\n      <td>NaN</td>\n    </tr>\n    <tr>\n      <th>1</th>\n      <td>0</td>\n      <td>86401</td>\n      <td>29.0</td>\n      <td>W</td>\n      <td>2755</td>\n      <td>404.0</td>\n      <td>150.0</td>\n      <td>mastercard</td>\n      <td>102.0</td>\n      <td>credit</td>\n      <td>...</td>\n      <td>NaN</td>\n      <td>NaN</td>\n      <td>NaN</td>\n      <td>NaN</td>\n      <td>NaN</td>\n      <td>NaN</td>\n      <td>NaN</td>\n      <td>NaN</td>\n      <td>NaN</td>\n      <td>NaN</td>\n    </tr>\n    <tr>\n      <th>2</th>\n      <td>0</td>\n      <td>86469</td>\n      <td>59.0</td>\n      <td>W</td>\n      <td>4663</td>\n      <td>490.0</td>\n      <td>150.0</td>\n      <td>visa</td>\n      <td>166.0</td>\n      <td>debit</td>\n      <td>...</td>\n      <td>NaN</td>\n      <td>NaN</td>\n      <td>NaN</td>\n      <td>NaN</td>\n      <td>NaN</td>\n      <td>NaN</td>\n      <td>NaN</td>\n      <td>NaN</td>\n      <td>NaN</td>\n      <td>NaN</td>\n    </tr>\n    <tr>\n      <th>3</th>\n      <td>0</td>\n      <td>86499</td>\n      <td>50.0</td>\n      <td>W</td>\n      <td>18132</td>\n      <td>567.0</td>\n      <td>150.0</td>\n      <td>mastercard</td>\n      <td>117.0</td>\n      <td>debit</td>\n      <td>...</td>\n      <td>NaN</td>\n      <td>NaN</td>\n      <td>NaN</td>\n      <td>NaN</td>\n      <td>NaN</td>\n      <td>NaN</td>\n      <td>NaN</td>\n      <td>NaN</td>\n      <td>NaN</td>\n      <td>NaN</td>\n    </tr>\n    <tr>\n      <th>4</th>\n      <td>0</td>\n      <td>86506</td>\n      <td>50.0</td>\n      <td>H</td>\n      <td>4497</td>\n      <td>514.0</td>\n      <td>150.0</td>\n      <td>mastercard</td>\n      <td>102.0</td>\n      <td>credit</td>\n      <td>...</td>\n      <td>samsung browser 6.2</td>\n      <td>32.0</td>\n      <td>2220x1080</td>\n      <td>match_status:2</td>\n      <td>T</td>\n      <td>F</td>\n      <td>T</td>\n      <td>T</td>\n      <td>mobile</td>\n      <td>SAMSUNG SM-G892A Build/NRD90M</td>\n    </tr>\n    <tr>\n      <th>5</th>\n      <td>0</td>\n      <td>86510</td>\n      <td>49.0</td>\n      <td>W</td>\n      <td>5937</td>\n      <td>555.0</td>\n      <td>150.0</td>\n      <td>visa</td>\n      <td>226.0</td>\n      <td>debit</td>\n      <td>...</td>\n      <td>NaN</td>\n      <td>NaN</td>\n      <td>NaN</td>\n      <td>NaN</td>\n      <td>NaN</td>\n      <td>NaN</td>\n      <td>NaN</td>\n      <td>NaN</td>\n      <td>NaN</td>\n      <td>NaN</td>\n    </tr>\n    <tr>\n      <th>6</th>\n      <td>0</td>\n      <td>86522</td>\n      <td>159.0</td>\n      <td>W</td>\n      <td>12308</td>\n      <td>360.0</td>\n      <td>150.0</td>\n      <td>visa</td>\n      <td>166.0</td>\n      <td>debit</td>\n      <td>...</td>\n      <td>NaN</td>\n      <td>NaN</td>\n      <td>NaN</td>\n      <td>NaN</td>\n      <td>NaN</td>\n      <td>NaN</td>\n      <td>NaN</td>\n      <td>NaN</td>\n      <td>NaN</td>\n      <td>NaN</td>\n    </tr>\n    <tr>\n      <th>7</th>\n      <td>0</td>\n      <td>86529</td>\n      <td>422.5</td>\n      <td>W</td>\n      <td>12695</td>\n      <td>490.0</td>\n      <td>150.0</td>\n      <td>visa</td>\n      <td>226.0</td>\n      <td>debit</td>\n      <td>...</td>\n      <td>NaN</td>\n      <td>NaN</td>\n      <td>NaN</td>\n      <td>NaN</td>\n      <td>NaN</td>\n      <td>NaN</td>\n      <td>NaN</td>\n      <td>NaN</td>\n      <td>NaN</td>\n      <td>NaN</td>\n    </tr>\n    <tr>\n      <th>8</th>\n      <td>0</td>\n      <td>86535</td>\n      <td>15.0</td>\n      <td>H</td>\n      <td>2803</td>\n      <td>100.0</td>\n      <td>150.0</td>\n      <td>visa</td>\n      <td>226.0</td>\n      <td>debit</td>\n      <td>...</td>\n      <td>mobile safari 11.0</td>\n      <td>32.0</td>\n      <td>1334x750</td>\n      <td>match_status:1</td>\n      <td>T</td>\n      <td>F</td>\n      <td>F</td>\n      <td>T</td>\n      <td>mobile</td>\n      <td>iOS Device</td>\n    </tr>\n    <tr>\n      <th>9</th>\n      <td>0</td>\n      <td>86536</td>\n      <td>117.0</td>\n      <td>W</td>\n      <td>17399</td>\n      <td>111.0</td>\n      <td>150.0</td>\n      <td>mastercard</td>\n      <td>224.0</td>\n      <td>debit</td>\n      <td>...</td>\n      <td>NaN</td>\n      <td>NaN</td>\n      <td>NaN</td>\n      <td>NaN</td>\n      <td>NaN</td>\n      <td>NaN</td>\n      <td>NaN</td>\n      <td>NaN</td>\n      <td>NaN</td>\n      <td>NaN</td>\n    </tr>\n  </tbody>\n</table>\n<p>10 rows × 433 columns</p>\n</div>"
     },
     "execution_count": 8,
     "metadata": {},
     "output_type": "execute_result"
    }
   ],
   "source": [
    "train_data.head(n=10)"
   ],
   "metadata": {
    "collapsed": false,
    "pycharm": {
     "name": "#%%\n"
    }
   }
  },
  {
   "cell_type": "code",
   "execution_count": 10,
   "outputs": [
    {
     "name": "stdout",
     "output_type": "stream",
     "text": [
      "<class 'pandas.core.frame.DataFrame'>\n",
      "Int64Index: 590540 entries, 0 to 590539\n",
      "Columns: 433 entries, isFraud to DeviceInfo\n",
      "dtypes: float64(399), int64(3), object(31)\n",
      "memory usage: 1.9+ GB\n"
     ]
    }
   ],
   "source": [
    "rows=train_data.shape[0]\n",
    "columns=train_data.shape[1]\n",
    "train_data.info()"
   ],
   "metadata": {
    "collapsed": false,
    "pycharm": {
     "name": "#%%\n"
    }
   }
  },
  {
   "cell_type": "code",
   "execution_count": 11,
   "outputs": [
    {
     "name": "stdout",
     "output_type": "stream",
     "text": [
      "2.771362586605081\n"
     ]
    }
   ],
   "source": [
    "# 2.77 % of features have more then 90 % of values NaN\n",
    "sum=0\n",
    "for col in train_data.columns:\n",
    "    sum+=train_data[col].isna().sum()/rows>0.90\n",
    "\n",
    "print(sum/columns*100)\n"
   ],
   "metadata": {
    "collapsed": false,
    "pycharm": {
     "name": "#%%\n"
    }
   }
  },
  {
   "cell_type": "markdown",
   "source": [
    "DROPPING FEATURES WITH NR OF NANS > 90%"
   ],
   "metadata": {
    "collapsed": false,
    "pycharm": {
     "name": "#%% md\n"
    }
   }
  },
  {
   "cell_type": "code",
   "execution_count": 12,
   "outputs": [
    {
     "data": {
      "text/plain": "        isFraud  TransactionDT  TransactionAmt ProductCD  card1  card2  card3  \\\n0             0          86400           68.50         W  13926    NaN  150.0   \n1             0          86401           29.00         W   2755  404.0  150.0   \n2             0          86469           59.00         W   4663  490.0  150.0   \n3             0          86499           50.00         W  18132  567.0  150.0   \n4             0          86506           50.00         H   4497  514.0  150.0   \n...         ...            ...             ...       ...    ...    ...    ...   \n590535        0       15811047           49.00         W   6550    NaN  150.0   \n590536        0       15811049           39.50         W  10444  225.0  150.0   \n590537        0       15811079           30.95         W  12037  595.0  150.0   \n590538        0       15811088          117.00         W   7826  481.0  150.0   \n590539        0       15811131          279.95         W  15066  170.0  150.0   \n\n             card4  card5   card6  ...                id_31  id_32      id_33  \\\n0         discover  142.0  credit  ...                  NaN    NaN        NaN   \n1       mastercard  102.0  credit  ...                  NaN    NaN        NaN   \n2             visa  166.0   debit  ...                  NaN    NaN        NaN   \n3       mastercard  117.0   debit  ...                  NaN    NaN        NaN   \n4       mastercard  102.0  credit  ...  samsung browser 6.2   32.0  2220x1080   \n...            ...    ...     ...  ...                  ...    ...        ...   \n590535        visa  226.0   debit  ...                  NaN    NaN        NaN   \n590536  mastercard  224.0   debit  ...                  NaN    NaN        NaN   \n590537  mastercard  224.0   debit  ...                  NaN    NaN        NaN   \n590538  mastercard  224.0   debit  ...                  NaN    NaN        NaN   \n590539  mastercard  102.0  credit  ...                  NaN    NaN        NaN   \n\n                 id_34 id_35  id_36  id_37  id_38  DeviceType  \\\n0                  NaN   NaN    NaN    NaN    NaN         NaN   \n1                  NaN   NaN    NaN    NaN    NaN         NaN   \n2                  NaN   NaN    NaN    NaN    NaN         NaN   \n3                  NaN   NaN    NaN    NaN    NaN         NaN   \n4       match_status:2     T      F      T      T      mobile   \n...                ...   ...    ...    ...    ...         ...   \n590535             NaN   NaN    NaN    NaN    NaN         NaN   \n590536             NaN   NaN    NaN    NaN    NaN         NaN   \n590537             NaN   NaN    NaN    NaN    NaN         NaN   \n590538             NaN   NaN    NaN    NaN    NaN         NaN   \n590539             NaN   NaN    NaN    NaN    NaN         NaN   \n\n                           DeviceInfo  \n0                                 NaN  \n1                                 NaN  \n2                                 NaN  \n3                                 NaN  \n4       SAMSUNG SM-G892A Build/NRD90M  \n...                               ...  \n590535                            NaN  \n590536                            NaN  \n590537                            NaN  \n590538                            NaN  \n590539                            NaN  \n\n[590540 rows x 421 columns]",
      "text/html": "<div>\n<style scoped>\n    .dataframe tbody tr th:only-of-type {\n        vertical-align: middle;\n    }\n\n    .dataframe tbody tr th {\n        vertical-align: top;\n    }\n\n    .dataframe thead th {\n        text-align: right;\n    }\n</style>\n<table border=\"1\" class=\"dataframe\">\n  <thead>\n    <tr style=\"text-align: right;\">\n      <th></th>\n      <th>isFraud</th>\n      <th>TransactionDT</th>\n      <th>TransactionAmt</th>\n      <th>ProductCD</th>\n      <th>card1</th>\n      <th>card2</th>\n      <th>card3</th>\n      <th>card4</th>\n      <th>card5</th>\n      <th>card6</th>\n      <th>...</th>\n      <th>id_31</th>\n      <th>id_32</th>\n      <th>id_33</th>\n      <th>id_34</th>\n      <th>id_35</th>\n      <th>id_36</th>\n      <th>id_37</th>\n      <th>id_38</th>\n      <th>DeviceType</th>\n      <th>DeviceInfo</th>\n    </tr>\n  </thead>\n  <tbody>\n    <tr>\n      <th>0</th>\n      <td>0</td>\n      <td>86400</td>\n      <td>68.50</td>\n      <td>W</td>\n      <td>13926</td>\n      <td>NaN</td>\n      <td>150.0</td>\n      <td>discover</td>\n      <td>142.0</td>\n      <td>credit</td>\n      <td>...</td>\n      <td>NaN</td>\n      <td>NaN</td>\n      <td>NaN</td>\n      <td>NaN</td>\n      <td>NaN</td>\n      <td>NaN</td>\n      <td>NaN</td>\n      <td>NaN</td>\n      <td>NaN</td>\n      <td>NaN</td>\n    </tr>\n    <tr>\n      <th>1</th>\n      <td>0</td>\n      <td>86401</td>\n      <td>29.00</td>\n      <td>W</td>\n      <td>2755</td>\n      <td>404.0</td>\n      <td>150.0</td>\n      <td>mastercard</td>\n      <td>102.0</td>\n      <td>credit</td>\n      <td>...</td>\n      <td>NaN</td>\n      <td>NaN</td>\n      <td>NaN</td>\n      <td>NaN</td>\n      <td>NaN</td>\n      <td>NaN</td>\n      <td>NaN</td>\n      <td>NaN</td>\n      <td>NaN</td>\n      <td>NaN</td>\n    </tr>\n    <tr>\n      <th>2</th>\n      <td>0</td>\n      <td>86469</td>\n      <td>59.00</td>\n      <td>W</td>\n      <td>4663</td>\n      <td>490.0</td>\n      <td>150.0</td>\n      <td>visa</td>\n      <td>166.0</td>\n      <td>debit</td>\n      <td>...</td>\n      <td>NaN</td>\n      <td>NaN</td>\n      <td>NaN</td>\n      <td>NaN</td>\n      <td>NaN</td>\n      <td>NaN</td>\n      <td>NaN</td>\n      <td>NaN</td>\n      <td>NaN</td>\n      <td>NaN</td>\n    </tr>\n    <tr>\n      <th>3</th>\n      <td>0</td>\n      <td>86499</td>\n      <td>50.00</td>\n      <td>W</td>\n      <td>18132</td>\n      <td>567.0</td>\n      <td>150.0</td>\n      <td>mastercard</td>\n      <td>117.0</td>\n      <td>debit</td>\n      <td>...</td>\n      <td>NaN</td>\n      <td>NaN</td>\n      <td>NaN</td>\n      <td>NaN</td>\n      <td>NaN</td>\n      <td>NaN</td>\n      <td>NaN</td>\n      <td>NaN</td>\n      <td>NaN</td>\n      <td>NaN</td>\n    </tr>\n    <tr>\n      <th>4</th>\n      <td>0</td>\n      <td>86506</td>\n      <td>50.00</td>\n      <td>H</td>\n      <td>4497</td>\n      <td>514.0</td>\n      <td>150.0</td>\n      <td>mastercard</td>\n      <td>102.0</td>\n      <td>credit</td>\n      <td>...</td>\n      <td>samsung browser 6.2</td>\n      <td>32.0</td>\n      <td>2220x1080</td>\n      <td>match_status:2</td>\n      <td>T</td>\n      <td>F</td>\n      <td>T</td>\n      <td>T</td>\n      <td>mobile</td>\n      <td>SAMSUNG SM-G892A Build/NRD90M</td>\n    </tr>\n    <tr>\n      <th>...</th>\n      <td>...</td>\n      <td>...</td>\n      <td>...</td>\n      <td>...</td>\n      <td>...</td>\n      <td>...</td>\n      <td>...</td>\n      <td>...</td>\n      <td>...</td>\n      <td>...</td>\n      <td>...</td>\n      <td>...</td>\n      <td>...</td>\n      <td>...</td>\n      <td>...</td>\n      <td>...</td>\n      <td>...</td>\n      <td>...</td>\n      <td>...</td>\n      <td>...</td>\n      <td>...</td>\n    </tr>\n    <tr>\n      <th>590535</th>\n      <td>0</td>\n      <td>15811047</td>\n      <td>49.00</td>\n      <td>W</td>\n      <td>6550</td>\n      <td>NaN</td>\n      <td>150.0</td>\n      <td>visa</td>\n      <td>226.0</td>\n      <td>debit</td>\n      <td>...</td>\n      <td>NaN</td>\n      <td>NaN</td>\n      <td>NaN</td>\n      <td>NaN</td>\n      <td>NaN</td>\n      <td>NaN</td>\n      <td>NaN</td>\n      <td>NaN</td>\n      <td>NaN</td>\n      <td>NaN</td>\n    </tr>\n    <tr>\n      <th>590536</th>\n      <td>0</td>\n      <td>15811049</td>\n      <td>39.50</td>\n      <td>W</td>\n      <td>10444</td>\n      <td>225.0</td>\n      <td>150.0</td>\n      <td>mastercard</td>\n      <td>224.0</td>\n      <td>debit</td>\n      <td>...</td>\n      <td>NaN</td>\n      <td>NaN</td>\n      <td>NaN</td>\n      <td>NaN</td>\n      <td>NaN</td>\n      <td>NaN</td>\n      <td>NaN</td>\n      <td>NaN</td>\n      <td>NaN</td>\n      <td>NaN</td>\n    </tr>\n    <tr>\n      <th>590537</th>\n      <td>0</td>\n      <td>15811079</td>\n      <td>30.95</td>\n      <td>W</td>\n      <td>12037</td>\n      <td>595.0</td>\n      <td>150.0</td>\n      <td>mastercard</td>\n      <td>224.0</td>\n      <td>debit</td>\n      <td>...</td>\n      <td>NaN</td>\n      <td>NaN</td>\n      <td>NaN</td>\n      <td>NaN</td>\n      <td>NaN</td>\n      <td>NaN</td>\n      <td>NaN</td>\n      <td>NaN</td>\n      <td>NaN</td>\n      <td>NaN</td>\n    </tr>\n    <tr>\n      <th>590538</th>\n      <td>0</td>\n      <td>15811088</td>\n      <td>117.00</td>\n      <td>W</td>\n      <td>7826</td>\n      <td>481.0</td>\n      <td>150.0</td>\n      <td>mastercard</td>\n      <td>224.0</td>\n      <td>debit</td>\n      <td>...</td>\n      <td>NaN</td>\n      <td>NaN</td>\n      <td>NaN</td>\n      <td>NaN</td>\n      <td>NaN</td>\n      <td>NaN</td>\n      <td>NaN</td>\n      <td>NaN</td>\n      <td>NaN</td>\n      <td>NaN</td>\n    </tr>\n    <tr>\n      <th>590539</th>\n      <td>0</td>\n      <td>15811131</td>\n      <td>279.95</td>\n      <td>W</td>\n      <td>15066</td>\n      <td>170.0</td>\n      <td>150.0</td>\n      <td>mastercard</td>\n      <td>102.0</td>\n      <td>credit</td>\n      <td>...</td>\n      <td>NaN</td>\n      <td>NaN</td>\n      <td>NaN</td>\n      <td>NaN</td>\n      <td>NaN</td>\n      <td>NaN</td>\n      <td>NaN</td>\n      <td>NaN</td>\n      <td>NaN</td>\n      <td>NaN</td>\n    </tr>\n  </tbody>\n</table>\n<p>590540 rows × 421 columns</p>\n</div>"
     },
     "execution_count": 12,
     "metadata": {},
     "output_type": "execute_result"
    }
   ],
   "source": [
    "aux=train_data.copy()\n",
    "aux.drop(aux.columns[aux.apply(lambda col: col.isnull().sum()/rows > 0.90)],axis=1,inplace=True)\n",
    "aux\n",
    "\n"
   ],
   "metadata": {
    "collapsed": false,
    "pycharm": {
     "name": "#%%\n"
    }
   }
  },
  {
   "cell_type": "markdown",
   "source": [
    "TRANSFORM TRANSACTIONDT TO HOUR AND DAY"
   ],
   "metadata": {
    "collapsed": false,
    "pycharm": {
     "name": "#%% md\n"
    }
   }
  },
  {
   "cell_type": "code",
   "execution_count": 13,
   "outputs": [
    {
     "data": {
      "text/plain": "0          0.000000\n1          0.000278\n2          0.019167\n3          0.027500\n4          0.029444\n            ...    \n590535    23.957500\n590536    23.958056\n590537    23.966389\n590538    23.968889\n590539    23.980833\nName: TransactionHour, Length: 590540, dtype: float64"
     },
     "execution_count": 13,
     "metadata": {},
     "output_type": "execute_result"
    }
   ],
   "source": [
    "aux['TransactionHour']=aux['TransactionDT']/3600 % 24\n",
    "aux['TransactionDay']=aux['TransactionDT']/(3600*24)%7\n",
    "aux.drop(['TransactionDT'],axis=1,inplace=True)\n",
    "aux['TransactionHour']"
   ],
   "metadata": {
    "collapsed": false,
    "pycharm": {
     "name": "#%%\n"
    }
   }
  },
  {
   "cell_type": "code",
   "execution_count": 150,
   "outputs": [
    {
     "data": {
      "text/plain": "   isFraud  TransactionAmt ProductCD  card1  card2  card3       card4  card5  \\\n0        0            68.5         W  13926    NaN  150.0    discover  142.0   \n1        0            29.0         W   2755  404.0  150.0  mastercard  102.0   \n2        0            59.0         W   4663  490.0  150.0        visa  166.0   \n3        0            50.0         W  18132  567.0  150.0  mastercard  117.0   \n4        0            50.0         H   4497  514.0  150.0  mastercard  102.0   \n\n    card6  addr1  ...  id_35  id_36  id_37  id_38  DeviceType  \\\n0  credit  315.0  ...    NaN    NaN    NaN    NaN         NaN   \n1  credit  325.0  ...    NaN    NaN    NaN    NaN         NaN   \n2   debit  330.0  ...    NaN    NaN    NaN    NaN         NaN   \n3   debit  476.0  ...    NaN    NaN    NaN    NaN         NaN   \n4  credit  420.0  ...      T      F      T      T      mobile   \n\n                      DeviceInfo  TransactionHour  TransactionDay  \\\n0                            NaN         0.000000        1.000000   \n1                            NaN         0.000278        1.000012   \n2                            NaN         0.019167        1.000799   \n3                            NaN         0.027500        1.001146   \n4  SAMSUNG SM-G892A Build/NRD90M         0.029444        1.001227   \n\n   DifferentEmailDomain  MissingEmailDomain  \n0                     0                   1  \n1                     0                   0  \n2                     0                   0  \n3                     0                   0  \n4                     0                   0  \n\n[5 rows x 422 columns]",
      "text/html": "<div>\n<style scoped>\n    .dataframe tbody tr th:only-of-type {\n        vertical-align: middle;\n    }\n\n    .dataframe tbody tr th {\n        vertical-align: top;\n    }\n\n    .dataframe thead th {\n        text-align: right;\n    }\n</style>\n<table border=\"1\" class=\"dataframe\">\n  <thead>\n    <tr style=\"text-align: right;\">\n      <th></th>\n      <th>isFraud</th>\n      <th>TransactionAmt</th>\n      <th>ProductCD</th>\n      <th>card1</th>\n      <th>card2</th>\n      <th>card3</th>\n      <th>card4</th>\n      <th>card5</th>\n      <th>card6</th>\n      <th>addr1</th>\n      <th>...</th>\n      <th>id_35</th>\n      <th>id_36</th>\n      <th>id_37</th>\n      <th>id_38</th>\n      <th>DeviceType</th>\n      <th>DeviceInfo</th>\n      <th>TransactionHour</th>\n      <th>TransactionDay</th>\n      <th>DifferentEmailDomain</th>\n      <th>MissingEmailDomain</th>\n    </tr>\n  </thead>\n  <tbody>\n    <tr>\n      <th>0</th>\n      <td>0</td>\n      <td>68.5</td>\n      <td>W</td>\n      <td>13926</td>\n      <td>NaN</td>\n      <td>150.0</td>\n      <td>discover</td>\n      <td>142.0</td>\n      <td>credit</td>\n      <td>315.0</td>\n      <td>...</td>\n      <td>NaN</td>\n      <td>NaN</td>\n      <td>NaN</td>\n      <td>NaN</td>\n      <td>NaN</td>\n      <td>NaN</td>\n      <td>0.000000</td>\n      <td>1.000000</td>\n      <td>0</td>\n      <td>1</td>\n    </tr>\n    <tr>\n      <th>1</th>\n      <td>0</td>\n      <td>29.0</td>\n      <td>W</td>\n      <td>2755</td>\n      <td>404.0</td>\n      <td>150.0</td>\n      <td>mastercard</td>\n      <td>102.0</td>\n      <td>credit</td>\n      <td>325.0</td>\n      <td>...</td>\n      <td>NaN</td>\n      <td>NaN</td>\n      <td>NaN</td>\n      <td>NaN</td>\n      <td>NaN</td>\n      <td>NaN</td>\n      <td>0.000278</td>\n      <td>1.000012</td>\n      <td>0</td>\n      <td>0</td>\n    </tr>\n    <tr>\n      <th>2</th>\n      <td>0</td>\n      <td>59.0</td>\n      <td>W</td>\n      <td>4663</td>\n      <td>490.0</td>\n      <td>150.0</td>\n      <td>visa</td>\n      <td>166.0</td>\n      <td>debit</td>\n      <td>330.0</td>\n      <td>...</td>\n      <td>NaN</td>\n      <td>NaN</td>\n      <td>NaN</td>\n      <td>NaN</td>\n      <td>NaN</td>\n      <td>NaN</td>\n      <td>0.019167</td>\n      <td>1.000799</td>\n      <td>0</td>\n      <td>0</td>\n    </tr>\n    <tr>\n      <th>3</th>\n      <td>0</td>\n      <td>50.0</td>\n      <td>W</td>\n      <td>18132</td>\n      <td>567.0</td>\n      <td>150.0</td>\n      <td>mastercard</td>\n      <td>117.0</td>\n      <td>debit</td>\n      <td>476.0</td>\n      <td>...</td>\n      <td>NaN</td>\n      <td>NaN</td>\n      <td>NaN</td>\n      <td>NaN</td>\n      <td>NaN</td>\n      <td>NaN</td>\n      <td>0.027500</td>\n      <td>1.001146</td>\n      <td>0</td>\n      <td>0</td>\n    </tr>\n    <tr>\n      <th>4</th>\n      <td>0</td>\n      <td>50.0</td>\n      <td>H</td>\n      <td>4497</td>\n      <td>514.0</td>\n      <td>150.0</td>\n      <td>mastercard</td>\n      <td>102.0</td>\n      <td>credit</td>\n      <td>420.0</td>\n      <td>...</td>\n      <td>T</td>\n      <td>F</td>\n      <td>T</td>\n      <td>T</td>\n      <td>mobile</td>\n      <td>SAMSUNG SM-G892A Build/NRD90M</td>\n      <td>0.029444</td>\n      <td>1.001227</td>\n      <td>0</td>\n      <td>0</td>\n    </tr>\n  </tbody>\n</table>\n<p>5 rows × 422 columns</p>\n</div>"
     },
     "execution_count": 150,
     "metadata": {},
     "output_type": "execute_result"
    }
   ],
   "source": [
    "aux.head()"
   ],
   "metadata": {
    "collapsed": false,
    "pycharm": {
     "name": "#%%\n"
    }
   }
  },
  {
   "cell_type": "code",
   "execution_count": 145,
   "outputs": [
    {
     "data": {
      "text/plain": "['ProductCD',\n 'card4',\n 'card6',\n 'P_emaildomain',\n 'R_emaildomain',\n 'M1',\n 'M2',\n 'M3',\n 'M4',\n 'M5',\n 'M6',\n 'M7',\n 'M8',\n 'M9',\n 'id_12',\n 'id_15',\n 'id_16',\n 'id_28',\n 'id_29',\n 'id_30',\n 'id_31',\n 'id_33',\n 'id_34',\n 'id_35',\n 'id_36',\n 'id_37',\n 'id_38',\n 'DeviceType',\n 'DeviceInfo']"
     },
     "execution_count": 145,
     "metadata": {},
     "output_type": "execute_result"
    }
   ],
   "source": [
    "aux.select_dtypes(include=[\"object\"]).columns.tolist()"
   ],
   "metadata": {
    "collapsed": false,
    "pycharm": {
     "name": "#%%\n"
    }
   }
  },
  {
   "cell_type": "markdown",
   "source": [
    "ADDING NEW FEATURES"
   ],
   "metadata": {
    "collapsed": false,
    "pycharm": {
     "name": "#%% md\n"
    }
   }
  },
  {
   "cell_type": "code",
   "execution_count": 14,
   "outputs": [],
   "source": [
    "def adding_new_features(aux):\n",
    "    aux['P_emaildomain'].fillna(value=aux['R_emaildomain'], inplace=True)\n",
    "    aux['R_emaildomain'].fillna(value=aux['P_emaildomain'], inplace=True)\n",
    "    aux['P_emaildomain'].fillna(value='missing', inplace=True)\n",
    "    aux['R_emaildomain'].fillna(value='missing', inplace=True)\n",
    "    aux['DifferentEmailDomain'] = (aux['P_emaildomain'] != aux['R_emaildomain']).astype(int)\n",
    "    aux['MissingEmailDomain']=(aux['P_emaildomain']=='missing').astype(int)\n",
    "    aux.drop(['P_emaildomain'], axis=1, inplace=True)\n",
    "    aux.drop(['R_emaildomain'], axis=1, inplace=True)\n",
    "    return aux"
   ],
   "metadata": {
    "collapsed": false,
    "pycharm": {
     "name": "#%%\n"
    }
   }
  },
  {
   "cell_type": "code",
   "execution_count": 15,
   "outputs": [
    {
     "data": {
      "text/plain": "   isFraud  TransactionAmt ProductCD  card1  card2  card3       card4  card5  \\\n0        0            68.5         W  13926    NaN  150.0    discover  142.0   \n1        0            29.0         W   2755  404.0  150.0  mastercard  102.0   \n2        0            59.0         W   4663  490.0  150.0        visa  166.0   \n3        0            50.0         W  18132  567.0  150.0  mastercard  117.0   \n4        0            50.0         H   4497  514.0  150.0  mastercard  102.0   \n5        0            49.0         W   5937  555.0  150.0        visa  226.0   \n6        0           159.0         W  12308  360.0  150.0        visa  166.0   \n7        0           422.5         W  12695  490.0  150.0        visa  226.0   \n8        0            15.0         H   2803  100.0  150.0        visa  226.0   \n9        0           117.0         W  17399  111.0  150.0  mastercard  224.0   \n\n    card6  addr1  ...  id_35  id_36  id_37  id_38  DeviceType  \\\n0  credit  315.0  ...    NaN    NaN    NaN    NaN         NaN   \n1  credit  325.0  ...    NaN    NaN    NaN    NaN         NaN   \n2   debit  330.0  ...    NaN    NaN    NaN    NaN         NaN   \n3   debit  476.0  ...    NaN    NaN    NaN    NaN         NaN   \n4  credit  420.0  ...      T      F      T      T      mobile   \n5   debit  272.0  ...    NaN    NaN    NaN    NaN         NaN   \n6   debit  126.0  ...    NaN    NaN    NaN    NaN         NaN   \n7   debit  325.0  ...    NaN    NaN    NaN    NaN         NaN   \n8   debit  337.0  ...      T      F      F      T      mobile   \n9   debit  204.0  ...    NaN    NaN    NaN    NaN         NaN   \n\n                      DeviceInfo  TransactionHour  TransactionDay  \\\n0                            NaN         0.000000        1.000000   \n1                            NaN         0.000278        1.000012   \n2                            NaN         0.019167        1.000799   \n3                            NaN         0.027500        1.001146   \n4  SAMSUNG SM-G892A Build/NRD90M         0.029444        1.001227   \n5                            NaN         0.030556        1.001273   \n6                            NaN         0.033889        1.001412   \n7                            NaN         0.035833        1.001493   \n8                     iOS Device         0.037500        1.001562   \n9                            NaN         0.037778        1.001574   \n\n   DifferentEmailDomain  MissingEmailDomain  \n0                     0                   1  \n1                     0                   0  \n2                     0                   0  \n3                     0                   0  \n4                     0                   0  \n5                     0                   0  \n6                     0                   0  \n7                     0                   0  \n8                     0                   0  \n9                     0                   0  \n\n[10 rows x 422 columns]",
      "text/html": "<div>\n<style scoped>\n    .dataframe tbody tr th:only-of-type {\n        vertical-align: middle;\n    }\n\n    .dataframe tbody tr th {\n        vertical-align: top;\n    }\n\n    .dataframe thead th {\n        text-align: right;\n    }\n</style>\n<table border=\"1\" class=\"dataframe\">\n  <thead>\n    <tr style=\"text-align: right;\">\n      <th></th>\n      <th>isFraud</th>\n      <th>TransactionAmt</th>\n      <th>ProductCD</th>\n      <th>card1</th>\n      <th>card2</th>\n      <th>card3</th>\n      <th>card4</th>\n      <th>card5</th>\n      <th>card6</th>\n      <th>addr1</th>\n      <th>...</th>\n      <th>id_35</th>\n      <th>id_36</th>\n      <th>id_37</th>\n      <th>id_38</th>\n      <th>DeviceType</th>\n      <th>DeviceInfo</th>\n      <th>TransactionHour</th>\n      <th>TransactionDay</th>\n      <th>DifferentEmailDomain</th>\n      <th>MissingEmailDomain</th>\n    </tr>\n  </thead>\n  <tbody>\n    <tr>\n      <th>0</th>\n      <td>0</td>\n      <td>68.5</td>\n      <td>W</td>\n      <td>13926</td>\n      <td>NaN</td>\n      <td>150.0</td>\n      <td>discover</td>\n      <td>142.0</td>\n      <td>credit</td>\n      <td>315.0</td>\n      <td>...</td>\n      <td>NaN</td>\n      <td>NaN</td>\n      <td>NaN</td>\n      <td>NaN</td>\n      <td>NaN</td>\n      <td>NaN</td>\n      <td>0.000000</td>\n      <td>1.000000</td>\n      <td>0</td>\n      <td>1</td>\n    </tr>\n    <tr>\n      <th>1</th>\n      <td>0</td>\n      <td>29.0</td>\n      <td>W</td>\n      <td>2755</td>\n      <td>404.0</td>\n      <td>150.0</td>\n      <td>mastercard</td>\n      <td>102.0</td>\n      <td>credit</td>\n      <td>325.0</td>\n      <td>...</td>\n      <td>NaN</td>\n      <td>NaN</td>\n      <td>NaN</td>\n      <td>NaN</td>\n      <td>NaN</td>\n      <td>NaN</td>\n      <td>0.000278</td>\n      <td>1.000012</td>\n      <td>0</td>\n      <td>0</td>\n    </tr>\n    <tr>\n      <th>2</th>\n      <td>0</td>\n      <td>59.0</td>\n      <td>W</td>\n      <td>4663</td>\n      <td>490.0</td>\n      <td>150.0</td>\n      <td>visa</td>\n      <td>166.0</td>\n      <td>debit</td>\n      <td>330.0</td>\n      <td>...</td>\n      <td>NaN</td>\n      <td>NaN</td>\n      <td>NaN</td>\n      <td>NaN</td>\n      <td>NaN</td>\n      <td>NaN</td>\n      <td>0.019167</td>\n      <td>1.000799</td>\n      <td>0</td>\n      <td>0</td>\n    </tr>\n    <tr>\n      <th>3</th>\n      <td>0</td>\n      <td>50.0</td>\n      <td>W</td>\n      <td>18132</td>\n      <td>567.0</td>\n      <td>150.0</td>\n      <td>mastercard</td>\n      <td>117.0</td>\n      <td>debit</td>\n      <td>476.0</td>\n      <td>...</td>\n      <td>NaN</td>\n      <td>NaN</td>\n      <td>NaN</td>\n      <td>NaN</td>\n      <td>NaN</td>\n      <td>NaN</td>\n      <td>0.027500</td>\n      <td>1.001146</td>\n      <td>0</td>\n      <td>0</td>\n    </tr>\n    <tr>\n      <th>4</th>\n      <td>0</td>\n      <td>50.0</td>\n      <td>H</td>\n      <td>4497</td>\n      <td>514.0</td>\n      <td>150.0</td>\n      <td>mastercard</td>\n      <td>102.0</td>\n      <td>credit</td>\n      <td>420.0</td>\n      <td>...</td>\n      <td>T</td>\n      <td>F</td>\n      <td>T</td>\n      <td>T</td>\n      <td>mobile</td>\n      <td>SAMSUNG SM-G892A Build/NRD90M</td>\n      <td>0.029444</td>\n      <td>1.001227</td>\n      <td>0</td>\n      <td>0</td>\n    </tr>\n    <tr>\n      <th>5</th>\n      <td>0</td>\n      <td>49.0</td>\n      <td>W</td>\n      <td>5937</td>\n      <td>555.0</td>\n      <td>150.0</td>\n      <td>visa</td>\n      <td>226.0</td>\n      <td>debit</td>\n      <td>272.0</td>\n      <td>...</td>\n      <td>NaN</td>\n      <td>NaN</td>\n      <td>NaN</td>\n      <td>NaN</td>\n      <td>NaN</td>\n      <td>NaN</td>\n      <td>0.030556</td>\n      <td>1.001273</td>\n      <td>0</td>\n      <td>0</td>\n    </tr>\n    <tr>\n      <th>6</th>\n      <td>0</td>\n      <td>159.0</td>\n      <td>W</td>\n      <td>12308</td>\n      <td>360.0</td>\n      <td>150.0</td>\n      <td>visa</td>\n      <td>166.0</td>\n      <td>debit</td>\n      <td>126.0</td>\n      <td>...</td>\n      <td>NaN</td>\n      <td>NaN</td>\n      <td>NaN</td>\n      <td>NaN</td>\n      <td>NaN</td>\n      <td>NaN</td>\n      <td>0.033889</td>\n      <td>1.001412</td>\n      <td>0</td>\n      <td>0</td>\n    </tr>\n    <tr>\n      <th>7</th>\n      <td>0</td>\n      <td>422.5</td>\n      <td>W</td>\n      <td>12695</td>\n      <td>490.0</td>\n      <td>150.0</td>\n      <td>visa</td>\n      <td>226.0</td>\n      <td>debit</td>\n      <td>325.0</td>\n      <td>...</td>\n      <td>NaN</td>\n      <td>NaN</td>\n      <td>NaN</td>\n      <td>NaN</td>\n      <td>NaN</td>\n      <td>NaN</td>\n      <td>0.035833</td>\n      <td>1.001493</td>\n      <td>0</td>\n      <td>0</td>\n    </tr>\n    <tr>\n      <th>8</th>\n      <td>0</td>\n      <td>15.0</td>\n      <td>H</td>\n      <td>2803</td>\n      <td>100.0</td>\n      <td>150.0</td>\n      <td>visa</td>\n      <td>226.0</td>\n      <td>debit</td>\n      <td>337.0</td>\n      <td>...</td>\n      <td>T</td>\n      <td>F</td>\n      <td>F</td>\n      <td>T</td>\n      <td>mobile</td>\n      <td>iOS Device</td>\n      <td>0.037500</td>\n      <td>1.001562</td>\n      <td>0</td>\n      <td>0</td>\n    </tr>\n    <tr>\n      <th>9</th>\n      <td>0</td>\n      <td>117.0</td>\n      <td>W</td>\n      <td>17399</td>\n      <td>111.0</td>\n      <td>150.0</td>\n      <td>mastercard</td>\n      <td>224.0</td>\n      <td>debit</td>\n      <td>204.0</td>\n      <td>...</td>\n      <td>NaN</td>\n      <td>NaN</td>\n      <td>NaN</td>\n      <td>NaN</td>\n      <td>NaN</td>\n      <td>NaN</td>\n      <td>0.037778</td>\n      <td>1.001574</td>\n      <td>0</td>\n      <td>0</td>\n    </tr>\n  </tbody>\n</table>\n<p>10 rows × 422 columns</p>\n</div>"
     },
     "execution_count": 15,
     "metadata": {},
     "output_type": "execute_result"
    }
   ],
   "source": [
    "aux=adding_new_features(aux)\n",
    "aux.head(n=10)"
   ],
   "metadata": {
    "collapsed": false,
    "pycharm": {
     "name": "#%%\n"
    }
   }
  },
  {
   "cell_type": "code",
   "execution_count": 148,
   "outputs": [
    {
     "data": {
      "text/plain": "23723"
     },
     "execution_count": 148,
     "metadata": {},
     "output_type": "execute_result"
    }
   ],
   "source": [
    "aux['DifferentEmailDomain'].sum()"
   ],
   "metadata": {
    "collapsed": false,
    "pycharm": {
     "name": "#%%\n"
    }
   }
  },
  {
   "cell_type": "code",
   "execution_count": 149,
   "outputs": [
    {
     "data": {
      "text/plain": "3.300585587765571"
     },
     "execution_count": 149,
     "metadata": {},
     "output_type": "execute_result"
    }
   ],
   "source": [
    "((aux['DifferentEmailDomain']==1) & (aux['isFraud']==1)).sum()/(aux['isFraud'].sum())*100#fraud when different domains\n"
   ],
   "metadata": {
    "collapsed": false,
    "pycharm": {
     "name": "#%%\n"
    }
   }
  },
  {
   "cell_type": "markdown",
   "source": [
    "Frauds density"
   ],
   "metadata": {
    "collapsed": false,
    "pycharm": {
     "name": "#%% md\n"
    }
   }
  },
  {
   "cell_type": "code",
   "execution_count": 42,
   "outputs": [
    {
     "data": {
      "text/plain": "<AxesSubplot:ylabel='Density'>"
     },
     "execution_count": 42,
     "metadata": {},
     "output_type": "execute_result"
    },
    {
     "data": {
      "text/plain": "<Figure size 432x288 with 1 Axes>",
      "image/png": "[encoded data removed]"
     },
     "metadata": {
      "needs_background": "light"
     },
     "output_type": "display_data"
    }
   ],
   "source": [
    "aux.plot(x='TransactionHour',y='isFraud',kind='kde')"
   ],
   "metadata": {
    "collapsed": false,
    "pycharm": {
     "name": "#%%\n"
    }
   }
  },
  {
   "cell_type": "code",
   "execution_count": 16,
   "outputs": [
    {
     "data": {
      "text/plain": "        isFraud  TransactionAmt ProductCD  card1  card2  card3  \\\n203           1         445.000         W  18268  583.0  150.0   \n240           1          37.098         C  13413  103.0  185.0   \n243           1          37.098         C  13413  103.0  185.0   \n245           1          37.098         C  13413  103.0  185.0   \n288           1         155.521         C  16578  545.0  185.0   \n...         ...             ...       ...    ...    ...    ...   \n590361        1        1224.000         W   3278  453.0  150.0   \n590364        1          69.964         C   5812  408.0  185.0   \n590368        1         100.000         H   6758  399.0  150.0   \n590372        1         117.000         W  14037  111.0  150.0   \n590526        1         250.000         R   1214  174.0  150.0   \n\n                   card4  card5   card6  addr1  ...  id_35  id_36  id_37  \\\n203                 visa  226.0  credit  251.0  ...    NaN    NaN    NaN   \n240                 visa  137.0  credit    NaN  ...      F      F      T   \n243                 visa  137.0  credit    NaN  ...      F      F      T   \n245                 visa  137.0  credit    NaN  ...      F      F      T   \n288                 visa  226.0  credit    NaN  ...      F      F      F   \n...                  ...    ...     ...    ...  ...    ...    ...    ...   \n590361              visa  226.0   debit  191.0  ...    NaN    NaN    NaN   \n590364        mastercard  224.0   debit    NaN  ...      F      F      T   \n590368  american express  146.0  credit  299.0  ...      T      F      F   \n590372              visa  226.0  credit  272.0  ...    NaN    NaN    NaN   \n590526              visa  226.0  credit  272.0  ...      T      F      T   \n\n        id_38  DeviceType                     DeviceInfo  TransactionHour  \\\n203       NaN         NaN                            NaN         0.933333   \n240         T      mobile      Redmi Note 4 Build/MMB29M         1.053611   \n243         T      mobile      Redmi Note 4 Build/MMB29M         1.068333   \n245         T      mobile      Redmi Note 4 Build/MMB29M         1.081944   \n288         F      mobile                            NaN         1.273889   \n...       ...         ...                            ...              ...   \n590361    NaN         NaN                            NaN        22.935556   \n590364      F      mobile  SAMSUNG SM-J700M Build/MMB29K        22.976667   \n590368      T      mobile                     iOS Device        23.021389   \n590372    NaN         NaN                            NaN        23.043889   \n590526      F      mobile            A574BL Build/NMF26F        23.910000   \n\n        TransactionDay  DifferentEmailDomain  MissingEmailDomain  \n203           1.038889                     0                   0  \n240           1.043900                     0                   0  \n243           1.044514                     0                   0  \n245           1.045081                     0                   0  \n288           1.053079                     0                   0  \n...                ...                   ...                 ...  \n590361        0.955648                     0                   0  \n590364        0.957361                     0                   0  \n590368        0.959225                     0                   0  \n590372        0.960162                     0                   0  \n590526        0.996250                     0                   0  \n\n[20663 rows x 422 columns]",
      "text/html": "<div>\n<style scoped>\n    .dataframe tbody tr th:only-of-type {\n        vertical-align: middle;\n    }\n\n    .dataframe tbody tr th {\n        vertical-align: top;\n    }\n\n    .dataframe thead th {\n        text-align: right;\n    }\n</style>\n<table border=\"1\" class=\"dataframe\">\n  <thead>\n    <tr style=\"text-align: right;\">\n      <th></th>\n      <th>isFraud</th>\n      <th>TransactionAmt</th>\n      <th>ProductCD</th>\n      <th>card1</th>\n      <th>card2</th>\n      <th>card3</th>\n      <th>card4</th>\n      <th>card5</th>\n      <th>card6</th>\n      <th>addr1</th>\n      <th>...</th>\n      <th>id_35</th>\n      <th>id_36</th>\n      <th>id_37</th>\n      <th>id_38</th>\n      <th>DeviceType</th>\n      <th>DeviceInfo</th>\n      <th>TransactionHour</th>\n      <th>TransactionDay</th>\n      <th>DifferentEmailDomain</th>\n      <th>MissingEmailDomain</th>\n    </tr>\n  </thead>\n  <tbody>\n    <tr>\n      <th>203</th>\n      <td>1</td>\n      <td>445.000</td>\n      <td>W</td>\n      <td>18268</td>\n      <td>583.0</td>\n      <td>150.0</td>\n      <td>visa</td>\n      <td>226.0</td>\n      <td>credit</td>\n      <td>251.0</td>\n      <td>...</td>\n      <td>NaN</td>\n      <td>NaN</td>\n      <td>NaN</td>\n      <td>NaN</td>\n      <td>NaN</td>\n      <td>NaN</td>\n      <td>0.933333</td>\n      <td>1.038889</td>\n      <td>0</td>\n      <td>0</td>\n    </tr>\n    <tr>\n      <th>240</th>\n      <td>1</td>\n      <td>37.098</td>\n      <td>C</td>\n      <td>13413</td>\n      <td>103.0</td>\n      <td>185.0</td>\n      <td>visa</td>\n      <td>137.0</td>\n      <td>credit</td>\n      <td>NaN</td>\n      <td>...</td>\n      <td>F</td>\n      <td>F</td>\n      <td>T</td>\n      <td>T</td>\n      <td>mobile</td>\n      <td>Redmi Note 4 Build/MMB29M</td>\n      <td>1.053611</td>\n      <td>1.043900</td>\n      <td>0</td>\n      <td>0</td>\n    </tr>\n    <tr>\n      <th>243</th>\n      <td>1</td>\n      <td>37.098</td>\n      <td>C</td>\n      <td>13413</td>\n      <td>103.0</td>\n      <td>185.0</td>\n      <td>visa</td>\n      <td>137.0</td>\n      <td>credit</td>\n      <td>NaN</td>\n      <td>...</td>\n      <td>F</td>\n      <td>F</td>\n      <td>T</td>\n      <td>T</td>\n      <td>mobile</td>\n      <td>Redmi Note 4 Build/MMB29M</td>\n      <td>1.068333</td>\n      <td>1.044514</td>\n      <td>0</td>\n      <td>0</td>\n    </tr>\n    <tr>\n      <th>245</th>\n      <td>1</td>\n      <td>37.098</td>\n      <td>C</td>\n      <td>13413</td>\n      <td>103.0</td>\n      <td>185.0</td>\n      <td>visa</td>\n      <td>137.0</td>\n      <td>credit</td>\n      <td>NaN</td>\n      <td>...</td>\n      <td>F</td>\n      <td>F</td>\n      <td>T</td>\n      <td>T</td>\n      <td>mobile</td>\n      <td>Redmi Note 4 Build/MMB29M</td>\n      <td>1.081944</td>\n      <td>1.045081</td>\n      <td>0</td>\n      <td>0</td>\n    </tr>\n    <tr>\n      <th>288</th>\n      <td>1</td>\n      <td>155.521</td>\n      <td>C</td>\n      <td>16578</td>\n      <td>545.0</td>\n      <td>185.0</td>\n      <td>visa</td>\n      <td>226.0</td>\n      <td>credit</td>\n      <td>NaN</td>\n      <td>...</td>\n      <td>F</td>\n      <td>F</td>\n      <td>F</td>\n      <td>F</td>\n      <td>mobile</td>\n      <td>NaN</td>\n      <td>1.273889</td>\n      <td>1.053079</td>\n      <td>0</td>\n      <td>0</td>\n    </tr>\n    <tr>\n      <th>...</th>\n      <td>...</td>\n      <td>...</td>\n      <td>...</td>\n      <td>...</td>\n      <td>...</td>\n      <td>...</td>\n      <td>...</td>\n      <td>...</td>\n      <td>...</td>\n      <td>...</td>\n      <td>...</td>\n      <td>...</td>\n      <td>...</td>\n      <td>...</td>\n      <td>...</td>\n      <td>...</td>\n      <td>...</td>\n      <td>...</td>\n      <td>...</td>\n      <td>...</td>\n      <td>...</td>\n    </tr>\n    <tr>\n      <th>590361</th>\n      <td>1</td>\n      <td>1224.000</td>\n      <td>W</td>\n      <td>3278</td>\n      <td>453.0</td>\n      <td>150.0</td>\n      <td>visa</td>\n      <td>226.0</td>\n      <td>debit</td>\n      <td>191.0</td>\n      <td>...</td>\n      <td>NaN</td>\n      <td>NaN</td>\n      <td>NaN</td>\n      <td>NaN</td>\n      <td>NaN</td>\n      <td>NaN</td>\n      <td>22.935556</td>\n      <td>0.955648</td>\n      <td>0</td>\n      <td>0</td>\n    </tr>\n    <tr>\n      <th>590364</th>\n      <td>1</td>\n      <td>69.964</td>\n      <td>C</td>\n      <td>5812</td>\n      <td>408.0</td>\n      <td>185.0</td>\n      <td>mastercard</td>\n      <td>224.0</td>\n      <td>debit</td>\n      <td>NaN</td>\n      <td>...</td>\n      <td>F</td>\n      <td>F</td>\n      <td>T</td>\n      <td>F</td>\n      <td>mobile</td>\n      <td>SAMSUNG SM-J700M Build/MMB29K</td>\n      <td>22.976667</td>\n      <td>0.957361</td>\n      <td>0</td>\n      <td>0</td>\n    </tr>\n    <tr>\n      <th>590368</th>\n      <td>1</td>\n      <td>100.000</td>\n      <td>H</td>\n      <td>6758</td>\n      <td>399.0</td>\n      <td>150.0</td>\n      <td>american express</td>\n      <td>146.0</td>\n      <td>credit</td>\n      <td>299.0</td>\n      <td>...</td>\n      <td>T</td>\n      <td>F</td>\n      <td>F</td>\n      <td>T</td>\n      <td>mobile</td>\n      <td>iOS Device</td>\n      <td>23.021389</td>\n      <td>0.959225</td>\n      <td>0</td>\n      <td>0</td>\n    </tr>\n    <tr>\n      <th>590372</th>\n      <td>1</td>\n      <td>117.000</td>\n      <td>W</td>\n      <td>14037</td>\n      <td>111.0</td>\n      <td>150.0</td>\n      <td>visa</td>\n      <td>226.0</td>\n      <td>credit</td>\n      <td>272.0</td>\n      <td>...</td>\n      <td>NaN</td>\n      <td>NaN</td>\n      <td>NaN</td>\n      <td>NaN</td>\n      <td>NaN</td>\n      <td>NaN</td>\n      <td>23.043889</td>\n      <td>0.960162</td>\n      <td>0</td>\n      <td>0</td>\n    </tr>\n    <tr>\n      <th>590526</th>\n      <td>1</td>\n      <td>250.000</td>\n      <td>R</td>\n      <td>1214</td>\n      <td>174.0</td>\n      <td>150.0</td>\n      <td>visa</td>\n      <td>226.0</td>\n      <td>credit</td>\n      <td>272.0</td>\n      <td>...</td>\n      <td>T</td>\n      <td>F</td>\n      <td>T</td>\n      <td>F</td>\n      <td>mobile</td>\n      <td>A574BL Build/NMF26F</td>\n      <td>23.910000</td>\n      <td>0.996250</td>\n      <td>0</td>\n      <td>0</td>\n    </tr>\n  </tbody>\n</table>\n<p>20663 rows × 422 columns</p>\n</div>"
     },
     "execution_count": 16,
     "metadata": {},
     "output_type": "execute_result"
    }
   ],
   "source": [
    "aux_isFraud=aux.copy()\n",
    "aux_isFraud=aux_isFraud.loc[aux_isFraud['isFraud']==True]\n",
    "aux_isFraud"
   ],
   "metadata": {
    "collapsed": false,
    "pycharm": {
     "name": "#%%\n"
    }
   }
  },
  {
   "cell_type": "code",
   "execution_count": 44,
   "outputs": [],
   "source": [
    "aux_isFraud[\"TransactionHour\"] = np.floor(aux_isFraud[\"TransactionHour\"].astype(\"float32\")).astype(\"int8\").astype(\"category\")"
   ],
   "metadata": {
    "collapsed": false,
    "pycharm": {
     "name": "#%%\n"
    }
   }
  },
  {
   "cell_type": "code",
   "execution_count": 45,
   "outputs": [
    {
     "data": {
      "text/plain": "<Figure size 864x504 with 1 Axes>",
      "image/png": "[encoded data removed]"
     },
     "metadata": {
      "needs_background": "light"
     },
     "output_type": "display_data"
    }
   ],
   "source": [
    "ax = aux_isFraud[\"TransactionHour\"].value_counts().sort_index().plot.bar(figsize=(12, 7))\n",
    "ax.set_title(\"Hourly Frauds\");"
   ],
   "metadata": {
    "collapsed": false,
    "pycharm": {
     "name": "#%%\n"
    }
   }
  },
  {
   "cell_type": "code",
   "execution_count": 46,
   "outputs": [],
   "source": [
    "aux_isFraud[\"TransactionDay\"] = np.floor(aux_isFraud[\"TransactionDay\"].astype(\"float32\")).astype(\"int8\").astype(\"category\")"
   ],
   "metadata": {
    "collapsed": false,
    "pycharm": {
     "name": "#%%\n"
    }
   }
  },
  {
   "cell_type": "code",
   "execution_count": 47,
   "outputs": [
    {
     "data": {
      "text/plain": "<Figure size 864x504 with 1 Axes>",
      "image/png": "[encoded data removed]"
     },
     "metadata": {
      "needs_background": "light"
     },
     "output_type": "display_data"
    }
   ],
   "source": [
    "ax = aux_isFraud[\"TransactionDay\"].value_counts().sort_index().plot.bar(figsize=(12, 7))\n",
    "ax.set_title(\"Daily Frauds\");"
   ],
   "metadata": {
    "collapsed": false,
    "pycharm": {
     "name": "#%%\n"
    }
   }
  },
  {
   "cell_type": "markdown",
   "source": [
    "BALANCED DATASET"
   ],
   "metadata": {
    "collapsed": false,
    "pycharm": {
     "name": "#%% md\n"
    }
   }
  },
  {
   "cell_type": "code",
   "execution_count": 17,
   "outputs": [
    {
     "data": {
      "text/plain": "         isFraud  TransactionAmt ProductCD  card1  card2  card3  \\\n0              0          68.500         W  13926    NaN  150.0   \n1              0          29.000         W   2755  404.0  150.0   \n2              0          59.000         W   4663  490.0  150.0   \n3              0          50.000         W  18132  567.0  150.0   \n4              0          50.000         H   4497  514.0  150.0   \n...          ...             ...       ...    ...    ...    ...   \n1003795        1        1224.000         W   3278  453.0  150.0   \n1003796        1          69.964         C   5812  408.0  185.0   \n1003797        1         100.000         H   6758  399.0  150.0   \n1003798        1         117.000         W  14037  111.0  150.0   \n1003799        1         250.000         R   1214  174.0  150.0   \n\n                    card4  card5   card6  addr1  ...  id_35  id_36  id_37  \\\n0                discover  142.0  credit  315.0  ...    NaN    NaN    NaN   \n1              mastercard  102.0  credit  325.0  ...    NaN    NaN    NaN   \n2                    visa  166.0   debit  330.0  ...    NaN    NaN    NaN   \n3              mastercard  117.0   debit  476.0  ...    NaN    NaN    NaN   \n4              mastercard  102.0  credit  420.0  ...      T      F      T   \n...                   ...    ...     ...    ...  ...    ...    ...    ...   \n1003795              visa  226.0   debit  191.0  ...    NaN    NaN    NaN   \n1003796        mastercard  224.0   debit    NaN  ...      F      F      T   \n1003797  american express  146.0  credit  299.0  ...      T      F      F   \n1003798              visa  226.0  credit  272.0  ...    NaN    NaN    NaN   \n1003799              visa  226.0  credit  272.0  ...      T      F      T   \n\n         id_38  DeviceType                     DeviceInfo  TransactionHour  \\\n0          NaN         NaN                            NaN         0.000000   \n1          NaN         NaN                            NaN         0.000278   \n2          NaN         NaN                            NaN         0.019167   \n3          NaN         NaN                            NaN         0.027500   \n4            T      mobile  SAMSUNG SM-G892A Build/NRD90M         0.029444   \n...        ...         ...                            ...              ...   \n1003795    NaN         NaN                            NaN        22.935556   \n1003796      F      mobile  SAMSUNG SM-J700M Build/MMB29K        22.976667   \n1003797      T      mobile                     iOS Device        23.021389   \n1003798    NaN         NaN                            NaN        23.043889   \n1003799      F      mobile            A574BL Build/NMF26F        23.910000   \n\n         TransactionDay  DifferentEmailDomain  MissingEmailDomain  \n0              1.000000                     0                   1  \n1              1.000012                     0                   0  \n2              1.000799                     0                   0  \n3              1.001146                     0                   0  \n4              1.001227                     0                   0  \n...                 ...                   ...                 ...  \n1003795        0.955648                     0                   0  \n1003796        0.957361                     0                   0  \n1003797        0.959225                     0                   0  \n1003798        0.960162                     0                   0  \n1003799        0.996250                     0                   0  \n\n[1003800 rows x 422 columns]",
      "text/html": "<div>\n<style scoped>\n    .dataframe tbody tr th:only-of-type {\n        vertical-align: middle;\n    }\n\n    .dataframe tbody tr th {\n        vertical-align: top;\n    }\n\n    .dataframe thead th {\n        text-align: right;\n    }\n</style>\n<table border=\"1\" class=\"dataframe\">\n  <thead>\n    <tr style=\"text-align: right;\">\n      <th></th>\n      <th>isFraud</th>\n      <th>TransactionAmt</th>\n      <th>ProductCD</th>\n      <th>card1</th>\n      <th>card2</th>\n      <th>card3</th>\n      <th>card4</th>\n      <th>card5</th>\n      <th>card6</th>\n      <th>addr1</th>\n      <th>...</th>\n      <th>id_35</th>\n      <th>id_36</th>\n      <th>id_37</th>\n      <th>id_38</th>\n      <th>DeviceType</th>\n      <th>DeviceInfo</th>\n      <th>TransactionHour</th>\n      <th>TransactionDay</th>\n      <th>DifferentEmailDomain</th>\n      <th>MissingEmailDomain</th>\n    </tr>\n  </thead>\n  <tbody>\n    <tr>\n      <th>0</th>\n      <td>0</td>\n      <td>68.500</td>\n      <td>W</td>\n      <td>13926</td>\n      <td>NaN</td>\n      <td>150.0</td>\n      <td>discover</td>\n      <td>142.0</td>\n      <td>credit</td>\n      <td>315.0</td>\n      <td>...</td>\n      <td>NaN</td>\n      <td>NaN</td>\n      <td>NaN</td>\n      <td>NaN</td>\n      <td>NaN</td>\n      <td>NaN</td>\n      <td>0.000000</td>\n      <td>1.000000</td>\n      <td>0</td>\n      <td>1</td>\n    </tr>\n    <tr>\n      <th>1</th>\n      <td>0</td>\n      <td>29.000</td>\n      <td>W</td>\n      <td>2755</td>\n      <td>404.0</td>\n      <td>150.0</td>\n      <td>mastercard</td>\n      <td>102.0</td>\n      <td>credit</td>\n      <td>325.0</td>\n      <td>...</td>\n      <td>NaN</td>\n      <td>NaN</td>\n      <td>NaN</td>\n      <td>NaN</td>\n      <td>NaN</td>\n      <td>NaN</td>\n      <td>0.000278</td>\n      <td>1.000012</td>\n      <td>0</td>\n      <td>0</td>\n    </tr>\n    <tr>\n      <th>2</th>\n      <td>0</td>\n      <td>59.000</td>\n      <td>W</td>\n      <td>4663</td>\n      <td>490.0</td>\n      <td>150.0</td>\n      <td>visa</td>\n      <td>166.0</td>\n      <td>debit</td>\n      <td>330.0</td>\n      <td>...</td>\n      <td>NaN</td>\n      <td>NaN</td>\n      <td>NaN</td>\n      <td>NaN</td>\n      <td>NaN</td>\n      <td>NaN</td>\n      <td>0.019167</td>\n      <td>1.000799</td>\n      <td>0</td>\n      <td>0</td>\n    </tr>\n    <tr>\n      <th>3</th>\n      <td>0</td>\n      <td>50.000</td>\n      <td>W</td>\n      <td>18132</td>\n      <td>567.0</td>\n      <td>150.0</td>\n      <td>mastercard</td>\n      <td>117.0</td>\n      <td>debit</td>\n      <td>476.0</td>\n      <td>...</td>\n      <td>NaN</td>\n      <td>NaN</td>\n      <td>NaN</td>\n      <td>NaN</td>\n      <td>NaN</td>\n      <td>NaN</td>\n      <td>0.027500</td>\n      <td>1.001146</td>\n      <td>0</td>\n      <td>0</td>\n    </tr>\n    <tr>\n      <th>4</th>\n      <td>0</td>\n      <td>50.000</td>\n      <td>H</td>\n      <td>4497</td>\n      <td>514.0</td>\n      <td>150.0</td>\n      <td>mastercard</td>\n      <td>102.0</td>\n      <td>credit</td>\n      <td>420.0</td>\n      <td>...</td>\n      <td>T</td>\n      <td>F</td>\n      <td>T</td>\n      <td>T</td>\n      <td>mobile</td>\n      <td>SAMSUNG SM-G892A Build/NRD90M</td>\n      <td>0.029444</td>\n      <td>1.001227</td>\n      <td>0</td>\n      <td>0</td>\n    </tr>\n    <tr>\n      <th>...</th>\n      <td>...</td>\n      <td>...</td>\n      <td>...</td>\n      <td>...</td>\n      <td>...</td>\n      <td>...</td>\n      <td>...</td>\n      <td>...</td>\n      <td>...</td>\n      <td>...</td>\n      <td>...</td>\n      <td>...</td>\n      <td>...</td>\n      <td>...</td>\n      <td>...</td>\n      <td>...</td>\n      <td>...</td>\n      <td>...</td>\n      <td>...</td>\n      <td>...</td>\n      <td>...</td>\n    </tr>\n    <tr>\n      <th>1003795</th>\n      <td>1</td>\n      <td>1224.000</td>\n      <td>W</td>\n      <td>3278</td>\n      <td>453.0</td>\n      <td>150.0</td>\n      <td>visa</td>\n      <td>226.0</td>\n      <td>debit</td>\n      <td>191.0</td>\n      <td>...</td>\n      <td>NaN</td>\n      <td>NaN</td>\n      <td>NaN</td>\n      <td>NaN</td>\n      <td>NaN</td>\n      <td>NaN</td>\n      <td>22.935556</td>\n      <td>0.955648</td>\n      <td>0</td>\n      <td>0</td>\n    </tr>\n    <tr>\n      <th>1003796</th>\n      <td>1</td>\n      <td>69.964</td>\n      <td>C</td>\n      <td>5812</td>\n      <td>408.0</td>\n      <td>185.0</td>\n      <td>mastercard</td>\n      <td>224.0</td>\n      <td>debit</td>\n      <td>NaN</td>\n      <td>...</td>\n      <td>F</td>\n      <td>F</td>\n      <td>T</td>\n      <td>F</td>\n      <td>mobile</td>\n      <td>SAMSUNG SM-J700M Build/MMB29K</td>\n      <td>22.976667</td>\n      <td>0.957361</td>\n      <td>0</td>\n      <td>0</td>\n    </tr>\n    <tr>\n      <th>1003797</th>\n      <td>1</td>\n      <td>100.000</td>\n      <td>H</td>\n      <td>6758</td>\n      <td>399.0</td>\n      <td>150.0</td>\n      <td>american express</td>\n      <td>146.0</td>\n      <td>credit</td>\n      <td>299.0</td>\n      <td>...</td>\n      <td>T</td>\n      <td>F</td>\n      <td>F</td>\n      <td>T</td>\n      <td>mobile</td>\n      <td>iOS Device</td>\n      <td>23.021389</td>\n      <td>0.959225</td>\n      <td>0</td>\n      <td>0</td>\n    </tr>\n    <tr>\n      <th>1003798</th>\n      <td>1</td>\n      <td>117.000</td>\n      <td>W</td>\n      <td>14037</td>\n      <td>111.0</td>\n      <td>150.0</td>\n      <td>visa</td>\n      <td>226.0</td>\n      <td>credit</td>\n      <td>272.0</td>\n      <td>...</td>\n      <td>NaN</td>\n      <td>NaN</td>\n      <td>NaN</td>\n      <td>NaN</td>\n      <td>NaN</td>\n      <td>NaN</td>\n      <td>23.043889</td>\n      <td>0.960162</td>\n      <td>0</td>\n      <td>0</td>\n    </tr>\n    <tr>\n      <th>1003799</th>\n      <td>1</td>\n      <td>250.000</td>\n      <td>R</td>\n      <td>1214</td>\n      <td>174.0</td>\n      <td>150.0</td>\n      <td>visa</td>\n      <td>226.0</td>\n      <td>credit</td>\n      <td>272.0</td>\n      <td>...</td>\n      <td>T</td>\n      <td>F</td>\n      <td>T</td>\n      <td>F</td>\n      <td>mobile</td>\n      <td>A574BL Build/NMF26F</td>\n      <td>23.910000</td>\n      <td>0.996250</td>\n      <td>0</td>\n      <td>0</td>\n    </tr>\n  </tbody>\n</table>\n<p>1003800 rows × 422 columns</p>\n</div>"
     },
     "execution_count": 17,
     "metadata": {},
     "output_type": "execute_result"
    }
   ],
   "source": [
    "aux_balanced=aux\n",
    "for i in range(20):\n",
    "    aux_balanced=pd.concat([aux_balanced,aux_isFraud],ignore_index=True)\n",
    "aux_balanced"
   ],
   "metadata": {
    "collapsed": false,
    "pycharm": {
     "name": "#%%\n"
    }
   }
  },
  {
   "cell_type": "code",
   "execution_count": 20,
   "outputs": [
    {
     "data": {
      "text/plain": "<AxesSubplot:ylabel='Density'>"
     },
     "execution_count": 20,
     "metadata": {},
     "output_type": "execute_result"
    },
    {
     "data": {
      "text/plain": "<Figure size 432x288 with 1 Axes>",
      "image/png": "[encoded data removed]"
     },
     "metadata": {
      "needs_background": "light"
     },
     "output_type": "display_data"
    }
   ],
   "source": [
    "aux_balanced.plot(x='TransactionHour',y='isFraud',kind='kde')"
   ],
   "metadata": {
    "collapsed": false,
    "pycharm": {
     "name": "#%%\n"
    }
   }
  },
  {
   "cell_type": "code",
   "execution_count": 18,
   "outputs": [
    {
     "data": {
      "text/plain": "         isFraud  TransactionAmt ProductCD  card1  card2  card3       card4  \\\n0              1         150.000         H   4806  490.0  150.0        visa   \n1              1         450.000         H  13749  321.0  150.0        visa   \n2              0          43.142         C   5442  555.0  182.0        visa   \n3              0          59.000         W  17482  194.0  150.0  mastercard   \n4              1         300.000         H   6021  321.0  150.0        visa   \n...          ...             ...       ...    ...    ...    ...         ...   \n1003795        0         118.020         W   7987  532.0  150.0  mastercard   \n1003796        1         159.950         W   1724  583.0  150.0        visa   \n1003797        1          49.555         C   5365  177.0  185.0  mastercard   \n1003798        1           7.251         C  12730  266.0  185.0  mastercard   \n1003799        1         175.000         S  12583  404.0  150.0  mastercard   \n\n         card5   card6  addr1  ...  id_35  id_36  id_37  id_38  DeviceType  \\\n0        226.0   debit  315.0  ...      T      F      F      T     desktop   \n1        226.0  credit  126.0  ...      T      F      T      T      mobile   \n2        226.0  credit    NaN  ...      F      F      T      F     desktop   \n3        166.0   debit  330.0  ...    NaN    NaN    NaN    NaN         NaN   \n4        226.0  credit  299.0  ...      T      F      T      T     desktop   \n...        ...     ...    ...  ...    ...    ...    ...    ...         ...   \n1003795  224.0   debit  158.0  ...    NaN    NaN    NaN    NaN         NaN   \n1003796  226.0  credit  325.0  ...    NaN    NaN    NaN    NaN         NaN   \n1003797  224.0  credit    NaN  ...      F      F      T      T      mobile   \n1003798  224.0  credit    NaN  ...      F      F      T      F     desktop   \n1003799  102.0  credit  330.0  ...      T      F      T      T      mobile   \n\n                               DeviceInfo  TransactionHour  TransactionDay  \\\n0                                   MacOS         0.968611        6.040359   \n1                               LM-X210(G        19.345833        5.806076   \n2                                     NaN        17.705556        1.737731   \n3                                     NaN        22.535556        6.938981   \n4                                 Windows        16.272778        3.678032   \n...                                   ...              ...             ...   \n1003795                               NaN        23.287500        4.970313   \n1003796                               NaN        12.687222        1.528634   \n1003797  Moto Z2 Play Build/NPS26.74-16-1        22.653333        4.943889   \n1003798                           Windows         0.121667        0.005069   \n1003799               KFFOWI Build/LVY48F         0.909722        0.037905   \n\n         DifferentEmailDomain  MissingEmailDomain  \n0                           0                   0  \n1                           0                   0  \n2                           0                   0  \n3                           0                   0  \n4                           0                   0  \n...                       ...                 ...  \n1003795                     0                   0  \n1003796                     0                   0  \n1003797                     0                   0  \n1003798                     0                   0  \n1003799                     0                   0  \n\n[1003800 rows x 422 columns]",
      "text/html": "<div>\n<style scoped>\n    .dataframe tbody tr th:only-of-type {\n        vertical-align: middle;\n    }\n\n    .dataframe tbody tr th {\n        vertical-align: top;\n    }\n\n    .dataframe thead th {\n        text-align: right;\n    }\n</style>\n<table border=\"1\" class=\"dataframe\">\n  <thead>\n    <tr style=\"text-align: right;\">\n      <th></th>\n      <th>isFraud</th>\n      <th>TransactionAmt</th>\n      <th>ProductCD</th>\n      <th>card1</th>\n      <th>card2</th>\n      <th>card3</th>\n      <th>card4</th>\n      <th>card5</th>\n      <th>card6</th>\n      <th>addr1</th>\n      <th>...</th>\n      <th>id_35</th>\n      <th>id_36</th>\n      <th>id_37</th>\n      <th>id_38</th>\n      <th>DeviceType</th>\n      <th>DeviceInfo</th>\n      <th>TransactionHour</th>\n      <th>TransactionDay</th>\n      <th>DifferentEmailDomain</th>\n      <th>MissingEmailDomain</th>\n    </tr>\n  </thead>\n  <tbody>\n    <tr>\n      <th>0</th>\n      <td>1</td>\n      <td>150.000</td>\n      <td>H</td>\n      <td>4806</td>\n      <td>490.0</td>\n      <td>150.0</td>\n      <td>visa</td>\n      <td>226.0</td>\n      <td>debit</td>\n      <td>315.0</td>\n      <td>...</td>\n      <td>T</td>\n      <td>F</td>\n      <td>F</td>\n      <td>T</td>\n      <td>desktop</td>\n      <td>MacOS</td>\n      <td>0.968611</td>\n      <td>6.040359</td>\n      <td>0</td>\n      <td>0</td>\n    </tr>\n    <tr>\n      <th>1</th>\n      <td>1</td>\n      <td>450.000</td>\n      <td>H</td>\n      <td>13749</td>\n      <td>321.0</td>\n      <td>150.0</td>\n      <td>visa</td>\n      <td>226.0</td>\n      <td>credit</td>\n      <td>126.0</td>\n      <td>...</td>\n      <td>T</td>\n      <td>F</td>\n      <td>T</td>\n      <td>T</td>\n      <td>mobile</td>\n      <td>LM-X210(G</td>\n      <td>19.345833</td>\n      <td>5.806076</td>\n      <td>0</td>\n      <td>0</td>\n    </tr>\n    <tr>\n      <th>2</th>\n      <td>0</td>\n      <td>43.142</td>\n      <td>C</td>\n      <td>5442</td>\n      <td>555.0</td>\n      <td>182.0</td>\n      <td>visa</td>\n      <td>226.0</td>\n      <td>credit</td>\n      <td>NaN</td>\n      <td>...</td>\n      <td>F</td>\n      <td>F</td>\n      <td>T</td>\n      <td>F</td>\n      <td>desktop</td>\n      <td>NaN</td>\n      <td>17.705556</td>\n      <td>1.737731</td>\n      <td>0</td>\n      <td>0</td>\n    </tr>\n    <tr>\n      <th>3</th>\n      <td>0</td>\n      <td>59.000</td>\n      <td>W</td>\n      <td>17482</td>\n      <td>194.0</td>\n      <td>150.0</td>\n      <td>mastercard</td>\n      <td>166.0</td>\n      <td>debit</td>\n      <td>330.0</td>\n      <td>...</td>\n      <td>NaN</td>\n      <td>NaN</td>\n      <td>NaN</td>\n      <td>NaN</td>\n      <td>NaN</td>\n      <td>NaN</td>\n      <td>22.535556</td>\n      <td>6.938981</td>\n      <td>0</td>\n      <td>0</td>\n    </tr>\n    <tr>\n      <th>4</th>\n      <td>1</td>\n      <td>300.000</td>\n      <td>H</td>\n      <td>6021</td>\n      <td>321.0</td>\n      <td>150.0</td>\n      <td>visa</td>\n      <td>226.0</td>\n      <td>credit</td>\n      <td>299.0</td>\n      <td>...</td>\n      <td>T</td>\n      <td>F</td>\n      <td>T</td>\n      <td>T</td>\n      <td>desktop</td>\n      <td>Windows</td>\n      <td>16.272778</td>\n      <td>3.678032</td>\n      <td>0</td>\n      <td>0</td>\n    </tr>\n    <tr>\n      <th>...</th>\n      <td>...</td>\n      <td>...</td>\n      <td>...</td>\n      <td>...</td>\n      <td>...</td>\n      <td>...</td>\n      <td>...</td>\n      <td>...</td>\n      <td>...</td>\n      <td>...</td>\n      <td>...</td>\n      <td>...</td>\n      <td>...</td>\n      <td>...</td>\n      <td>...</td>\n      <td>...</td>\n      <td>...</td>\n      <td>...</td>\n      <td>...</td>\n      <td>...</td>\n      <td>...</td>\n    </tr>\n    <tr>\n      <th>1003795</th>\n      <td>0</td>\n      <td>118.020</td>\n      <td>W</td>\n      <td>7987</td>\n      <td>532.0</td>\n      <td>150.0</td>\n      <td>mastercard</td>\n      <td>224.0</td>\n      <td>debit</td>\n      <td>158.0</td>\n      <td>...</td>\n      <td>NaN</td>\n      <td>NaN</td>\n      <td>NaN</td>\n      <td>NaN</td>\n      <td>NaN</td>\n      <td>NaN</td>\n      <td>23.287500</td>\n      <td>4.970313</td>\n      <td>0</td>\n      <td>0</td>\n    </tr>\n    <tr>\n      <th>1003796</th>\n      <td>1</td>\n      <td>159.950</td>\n      <td>W</td>\n      <td>1724</td>\n      <td>583.0</td>\n      <td>150.0</td>\n      <td>visa</td>\n      <td>226.0</td>\n      <td>credit</td>\n      <td>325.0</td>\n      <td>...</td>\n      <td>NaN</td>\n      <td>NaN</td>\n      <td>NaN</td>\n      <td>NaN</td>\n      <td>NaN</td>\n      <td>NaN</td>\n      <td>12.687222</td>\n      <td>1.528634</td>\n      <td>0</td>\n      <td>0</td>\n    </tr>\n    <tr>\n      <th>1003797</th>\n      <td>1</td>\n      <td>49.555</td>\n      <td>C</td>\n      <td>5365</td>\n      <td>177.0</td>\n      <td>185.0</td>\n      <td>mastercard</td>\n      <td>224.0</td>\n      <td>credit</td>\n      <td>NaN</td>\n      <td>...</td>\n      <td>F</td>\n      <td>F</td>\n      <td>T</td>\n      <td>T</td>\n      <td>mobile</td>\n      <td>Moto Z2 Play Build/NPS26.74-16-1</td>\n      <td>22.653333</td>\n      <td>4.943889</td>\n      <td>0</td>\n      <td>0</td>\n    </tr>\n    <tr>\n      <th>1003798</th>\n      <td>1</td>\n      <td>7.251</td>\n      <td>C</td>\n      <td>12730</td>\n      <td>266.0</td>\n      <td>185.0</td>\n      <td>mastercard</td>\n      <td>224.0</td>\n      <td>credit</td>\n      <td>NaN</td>\n      <td>...</td>\n      <td>F</td>\n      <td>F</td>\n      <td>T</td>\n      <td>F</td>\n      <td>desktop</td>\n      <td>Windows</td>\n      <td>0.121667</td>\n      <td>0.005069</td>\n      <td>0</td>\n      <td>0</td>\n    </tr>\n    <tr>\n      <th>1003799</th>\n      <td>1</td>\n      <td>175.000</td>\n      <td>S</td>\n      <td>12583</td>\n      <td>404.0</td>\n      <td>150.0</td>\n      <td>mastercard</td>\n      <td>102.0</td>\n      <td>credit</td>\n      <td>330.0</td>\n      <td>...</td>\n      <td>T</td>\n      <td>F</td>\n      <td>T</td>\n      <td>T</td>\n      <td>mobile</td>\n      <td>KFFOWI Build/LVY48F</td>\n      <td>0.909722</td>\n      <td>0.037905</td>\n      <td>0</td>\n      <td>0</td>\n    </tr>\n  </tbody>\n</table>\n<p>1003800 rows × 422 columns</p>\n</div>"
     },
     "execution_count": 18,
     "metadata": {},
     "output_type": "execute_result"
    }
   ],
   "source": [
    "aux_balanced = aux_balanced.sample(frac=1).reset_index(drop=True)\n",
    "aux_balanced"
   ],
   "metadata": {
    "collapsed": false,
    "pycharm": {
     "name": "#%%\n"
    }
   }
  },
  {
   "cell_type": "markdown",
   "source": [
    "Resovle category string features"
   ],
   "metadata": {
    "collapsed": false,
    "pycharm": {
     "name": "#%% md\n"
    }
   }
  },
  {
   "cell_type": "code",
   "execution_count": 19,
   "outputs": [
    {
     "data": {
      "text/plain": "   isFraud  TransactionAmt  card1  card2  card3  card5  addr1  addr2  dist1  \\\n0        0            68.5  13926    NaN  150.0  142.0  315.0   87.0   19.0   \n1        0            29.0   2755  404.0  150.0  102.0  325.0   87.0    NaN   \n2        0            59.0   4663  490.0  150.0  166.0  330.0   87.0  287.0   \n3        0            50.0  18132  567.0  150.0  117.0  476.0   87.0    NaN   \n4        0            50.0   4497  514.0  150.0  102.0  420.0   87.0    NaN   \n5        0            49.0   5937  555.0  150.0  226.0  272.0   87.0   36.0   \n6        0           159.0  12308  360.0  150.0  166.0  126.0   87.0    0.0   \n7        0           422.5  12695  490.0  150.0  226.0  325.0   87.0    NaN   \n8        0            15.0   2803  100.0  150.0  226.0  337.0   87.0    NaN   \n9        0           117.0  17399  111.0  150.0  224.0  204.0   87.0   19.0   \n\n    C1  ...  id_36_missing  id_37_F  id_37_T  id_37_missing  id_38_F  id_38_T  \\\n0  1.0  ...              1        0        0              1        0        0   \n1  1.0  ...              1        0        0              1        0        0   \n2  1.0  ...              1        0        0              1        0        0   \n3  2.0  ...              1        0        0              1        0        0   \n4  1.0  ...              0        0        1              0        0        1   \n5  1.0  ...              1        0        0              1        0        0   \n6  1.0  ...              1        0        0              1        0        0   \n7  1.0  ...              1        0        0              1        0        0   \n8  1.0  ...              0        1        0              0        0        1   \n9  2.0  ...              1        0        0              1        0        0   \n\n   id_38_missing  DeviceType_desktop  DeviceType_missing  DeviceType_mobile  \n0              1                   0                   1                  0  \n1              1                   0                   1                  0  \n2              1                   0                   1                  0  \n3              1                   0                   1                  0  \n4              0                   0                   0                  1  \n5              1                   0                   1                  0  \n6              1                   0                   1                  0  \n7              1                   0                   1                  0  \n8              0                   0                   0                  1  \n9              1                   0                   1                  0  \n\n[10 rows x 474 columns]",
      "text/html": "<div>\n<style scoped>\n    .dataframe tbody tr th:only-of-type {\n        vertical-align: middle;\n    }\n\n    .dataframe tbody tr th {\n        vertical-align: top;\n    }\n\n    .dataframe thead th {\n        text-align: right;\n    }\n</style>\n<table border=\"1\" class=\"dataframe\">\n  <thead>\n    <tr style=\"text-align: right;\">\n      <th></th>\n      <th>isFraud</th>\n      <th>TransactionAmt</th>\n      <th>card1</th>\n      <th>card2</th>\n      <th>card3</th>\n      <th>card5</th>\n      <th>addr1</th>\n      <th>addr2</th>\n      <th>dist1</th>\n      <th>C1</th>\n      <th>...</th>\n      <th>id_36_missing</th>\n      <th>id_37_F</th>\n      <th>id_37_T</th>\n      <th>id_37_missing</th>\n      <th>id_38_F</th>\n      <th>id_38_T</th>\n      <th>id_38_missing</th>\n      <th>DeviceType_desktop</th>\n      <th>DeviceType_missing</th>\n      <th>DeviceType_mobile</th>\n    </tr>\n  </thead>\n  <tbody>\n    <tr>\n      <th>0</th>\n      <td>0</td>\n      <td>68.5</td>\n      <td>13926</td>\n      <td>NaN</td>\n      <td>150.0</td>\n      <td>142.0</td>\n      <td>315.0</td>\n      <td>87.0</td>\n      <td>19.0</td>\n      <td>1.0</td>\n      <td>...</td>\n      <td>1</td>\n      <td>0</td>\n      <td>0</td>\n      <td>1</td>\n      <td>0</td>\n      <td>0</td>\n      <td>1</td>\n      <td>0</td>\n      <td>1</td>\n      <td>0</td>\n    </tr>\n    <tr>\n      <th>1</th>\n      <td>0</td>\n      <td>29.0</td>\n      <td>2755</td>\n      <td>404.0</td>\n      <td>150.0</td>\n      <td>102.0</td>\n      <td>325.0</td>\n      <td>87.0</td>\n      <td>NaN</td>\n      <td>1.0</td>\n      <td>...</td>\n      <td>1</td>\n      <td>0</td>\n      <td>0</td>\n      <td>1</td>\n      <td>0</td>\n      <td>0</td>\n      <td>1</td>\n      <td>0</td>\n      <td>1</td>\n      <td>0</td>\n    </tr>\n    <tr>\n      <th>2</th>\n      <td>0</td>\n      <td>59.0</td>\n      <td>4663</td>\n      <td>490.0</td>\n      <td>150.0</td>\n      <td>166.0</td>\n      <td>330.0</td>\n      <td>87.0</td>\n      <td>287.0</td>\n      <td>1.0</td>\n      <td>...</td>\n      <td>1</td>\n      <td>0</td>\n      <td>0</td>\n      <td>1</td>\n      <td>0</td>\n      <td>0</td>\n      <td>1</td>\n      <td>0</td>\n      <td>1</td>\n      <td>0</td>\n    </tr>\n    <tr>\n      <th>3</th>\n      <td>0</td>\n      <td>50.0</td>\n      <td>18132</td>\n      <td>567.0</td>\n      <td>150.0</td>\n      <td>117.0</td>\n      <td>476.0</td>\n      <td>87.0</td>\n      <td>NaN</td>\n      <td>2.0</td>\n      <td>...</td>\n      <td>1</td>\n      <td>0</td>\n      <td>0</td>\n      <td>1</td>\n      <td>0</td>\n      <td>0</td>\n      <td>1</td>\n      <td>0</td>\n      <td>1</td>\n      <td>0</td>\n    </tr>\n    <tr>\n      <th>4</th>\n      <td>0</td>\n      <td>50.0</td>\n      <td>4497</td>\n      <td>514.0</td>\n      <td>150.0</td>\n      <td>102.0</td>\n      <td>420.0</td>\n      <td>87.0</td>\n      <td>NaN</td>\n      <td>1.0</td>\n      <td>...</td>\n      <td>0</td>\n      <td>0</td>\n      <td>1</td>\n      <td>0</td>\n      <td>0</td>\n      <td>1</td>\n      <td>0</td>\n      <td>0</td>\n      <td>0</td>\n      <td>1</td>\n    </tr>\n    <tr>\n      <th>5</th>\n      <td>0</td>\n      <td>49.0</td>\n      <td>5937</td>\n      <td>555.0</td>\n      <td>150.0</td>\n      <td>226.0</td>\n      <td>272.0</td>\n      <td>87.0</td>\n      <td>36.0</td>\n      <td>1.0</td>\n      <td>...</td>\n      <td>1</td>\n      <td>0</td>\n      <td>0</td>\n      <td>1</td>\n      <td>0</td>\n      <td>0</td>\n      <td>1</td>\n      <td>0</td>\n      <td>1</td>\n      <td>0</td>\n    </tr>\n    <tr>\n      <th>6</th>\n      <td>0</td>\n      <td>159.0</td>\n      <td>12308</td>\n      <td>360.0</td>\n      <td>150.0</td>\n      <td>166.0</td>\n      <td>126.0</td>\n      <td>87.0</td>\n      <td>0.0</td>\n      <td>1.0</td>\n      <td>...</td>\n      <td>1</td>\n      <td>0</td>\n      <td>0</td>\n      <td>1</td>\n      <td>0</td>\n      <td>0</td>\n      <td>1</td>\n      <td>0</td>\n      <td>1</td>\n      <td>0</td>\n    </tr>\n    <tr>\n      <th>7</th>\n      <td>0</td>\n      <td>422.5</td>\n      <td>12695</td>\n      <td>490.0</td>\n      <td>150.0</td>\n      <td>226.0</td>\n      <td>325.0</td>\n      <td>87.0</td>\n      <td>NaN</td>\n      <td>1.0</td>\n      <td>...</td>\n      <td>1</td>\n      <td>0</td>\n      <td>0</td>\n      <td>1</td>\n      <td>0</td>\n      <td>0</td>\n      <td>1</td>\n      <td>0</td>\n      <td>1</td>\n      <td>0</td>\n    </tr>\n    <tr>\n      <th>8</th>\n      <td>0</td>\n      <td>15.0</td>\n      <td>2803</td>\n      <td>100.0</td>\n      <td>150.0</td>\n      <td>226.0</td>\n      <td>337.0</td>\n      <td>87.0</td>\n      <td>NaN</td>\n      <td>1.0</td>\n      <td>...</td>\n      <td>0</td>\n      <td>1</td>\n      <td>0</td>\n      <td>0</td>\n      <td>0</td>\n      <td>1</td>\n      <td>0</td>\n      <td>0</td>\n      <td>0</td>\n      <td>1</td>\n    </tr>\n    <tr>\n      <th>9</th>\n      <td>0</td>\n      <td>117.0</td>\n      <td>17399</td>\n      <td>111.0</td>\n      <td>150.0</td>\n      <td>224.0</td>\n      <td>204.0</td>\n      <td>87.0</td>\n      <td>19.0</td>\n      <td>2.0</td>\n      <td>...</td>\n      <td>1</td>\n      <td>0</td>\n      <td>0</td>\n      <td>1</td>\n      <td>0</td>\n      <td>0</td>\n      <td>1</td>\n      <td>0</td>\n      <td>1</td>\n      <td>0</td>\n    </tr>\n  </tbody>\n</table>\n<p>10 rows × 474 columns</p>\n</div>"
     },
     "execution_count": 19,
     "metadata": {},
     "output_type": "execute_result"
    }
   ],
   "source": [
    "remain_string=aux.select_dtypes(include=[\"object\"]).columns.tolist()\n",
    "aux2=aux.copy()\n",
    "for col in remain_string :\n",
    "    if len(aux[col].unique()) > 10 :\n",
    "        aux.drop(col,axis=1,inplace=True)\n",
    "\n",
    "remain_string=aux.select_dtypes(include=[\"object\"]).columns.tolist()\n",
    "for col in remain_string:\n",
    "    aux[col].fillna(value=\"missing\",inplace=True)\n",
    "    aux=pd.get_dummies(aux,columns=[col])\n",
    "   # aux.drop(col,axis=1,inplace=True)\n",
    "aux.head(n=10)\n"
   ],
   "metadata": {
    "collapsed": false,
    "pycharm": {
     "name": "#%%\n"
    }
   }
  },
  {
   "cell_type": "code",
   "execution_count": 23,
   "outputs": [
    {
     "data": {
      "text/plain": "[]"
     },
     "execution_count": 23,
     "metadata": {},
     "output_type": "execute_result"
    }
   ],
   "source": [
    "aux.select_dtypes(include=[\"object\"]).columns.tolist()"
   ],
   "metadata": {
    "collapsed": false,
    "pycharm": {
     "name": "#%%\n"
    }
   }
  },
  {
   "cell_type": "code",
   "execution_count": 20,
   "outputs": [],
   "source": [
    "remain_string=aux_balanced.select_dtypes(include=[\"object\"]).columns.tolist()\n",
    "for col in remain_string :\n",
    "    if len(aux_balanced[col].unique()) > 10 :\n",
    "        aux_balanced.drop(col,axis=1,inplace=True)\n",
    "\n",
    "remain_string=aux_balanced.select_dtypes(include=[\"object\"]).columns.tolist()\n",
    "for col in remain_string:\n",
    "    aux_balanced[col].fillna(value=\"missing\",inplace=True)\n",
    "    aux_balanced=pd.get_dummies(aux_balanced,columns=[col])\n",
    "   # aux.drop(col,axis=1,inplace=True)\n",
    "#aux.head(n=10)"
   ],
   "metadata": {
    "collapsed": false,
    "pycharm": {
     "name": "#%%\n"
    }
   }
  },
  {
   "cell_type": "markdown",
   "source": [
    "FILL NANS"
   ],
   "metadata": {
    "collapsed": false,
    "pycharm": {
     "name": "#%% md\n"
    }
   }
  },
  {
   "cell_type": "code",
   "execution_count": 154,
   "outputs": [
    {
     "data": {
      "text/plain": "        isFraud  TransactionAmt ProductCD  card1  card2  card3       card4  \\\n0             0           68.50         W  13926    NaN  150.0    discover   \n1             0           29.00         W   2755  404.0  150.0  mastercard   \n2             0           59.00         W   4663  490.0  150.0        visa   \n3             0           50.00         W  18132  567.0  150.0  mastercard   \n4             0           50.00         H   4497  514.0  150.0  mastercard   \n...         ...             ...       ...    ...    ...    ...         ...   \n590535        0           49.00         W   6550    NaN  150.0        visa   \n590536        0           39.50         W  10444  225.0  150.0  mastercard   \n590537        0           30.95         W  12037  595.0  150.0  mastercard   \n590538        0          117.00         W   7826  481.0  150.0  mastercard   \n590539        0          279.95         W  15066  170.0  150.0  mastercard   \n\n        card5   card6  addr1  ...  id_35  id_36  id_37  id_38  DeviceType  \\\n0       142.0  credit  315.0  ...    NaN    NaN    NaN    NaN         NaN   \n1       102.0  credit  325.0  ...    NaN    NaN    NaN    NaN         NaN   \n2       166.0   debit  330.0  ...    NaN    NaN    NaN    NaN         NaN   \n3       117.0   debit  476.0  ...    NaN    NaN    NaN    NaN         NaN   \n4       102.0  credit  420.0  ...      T      F      T      T      mobile   \n...       ...     ...    ...  ...    ...    ...    ...    ...         ...   \n590535  226.0   debit  272.0  ...    NaN    NaN    NaN    NaN         NaN   \n590536  224.0   debit  204.0  ...    NaN    NaN    NaN    NaN         NaN   \n590537  224.0   debit  231.0  ...    NaN    NaN    NaN    NaN         NaN   \n590538  224.0   debit  387.0  ...    NaN    NaN    NaN    NaN         NaN   \n590539  102.0  credit  299.0  ...    NaN    NaN    NaN    NaN         NaN   \n\n                           DeviceInfo  TransactionHour  TransactionDay  \\\n0                                 NaN         0.000000        1.000000   \n1                                 NaN         0.000278        1.000012   \n2                                 NaN         0.019167        1.000799   \n3                                 NaN         0.027500        1.001146   \n4       SAMSUNG SM-G892A Build/NRD90M         0.029444        1.001227   \n...                               ...              ...             ...   \n590535                            NaN        23.957500        0.998229   \n590536                            NaN        23.958056        0.998252   \n590537                            NaN        23.966389        0.998600   \n590538                            NaN        23.968889        0.998704   \n590539                            NaN        23.980833        0.999201   \n\n        DifferentEmailDomain  MissingEmailDomain  \n0                          0                   1  \n1                          0                   0  \n2                          0                   0  \n3                          0                   0  \n4                          0                   0  \n...                      ...                 ...  \n590535                     0                   1  \n590536                     0                   0  \n590537                     0                   0  \n590538                     0                   0  \n590539                     0                   0  \n\n[590540 rows x 422 columns]",
      "text/html": "<div>\n<style scoped>\n    .dataframe tbody tr th:only-of-type {\n        vertical-align: middle;\n    }\n\n    .dataframe tbody tr th {\n        vertical-align: top;\n    }\n\n    .dataframe thead th {\n        text-align: right;\n    }\n</style>\n<table border=\"1\" class=\"dataframe\">\n  <thead>\n    <tr style=\"text-align: right;\">\n      <th></th>\n      <th>isFraud</th>\n      <th>TransactionAmt</th>\n      <th>ProductCD</th>\n      <th>card1</th>\n      <th>card2</th>\n      <th>card3</th>\n      <th>card4</th>\n      <th>card5</th>\n      <th>card6</th>\n      <th>addr1</th>\n      <th>...</th>\n      <th>id_35</th>\n      <th>id_36</th>\n      <th>id_37</th>\n      <th>id_38</th>\n      <th>DeviceType</th>\n      <th>DeviceInfo</th>\n      <th>TransactionHour</th>\n      <th>TransactionDay</th>\n      <th>DifferentEmailDomain</th>\n      <th>MissingEmailDomain</th>\n    </tr>\n  </thead>\n  <tbody>\n    <tr>\n      <th>0</th>\n      <td>0</td>\n      <td>68.50</td>\n      <td>W</td>\n      <td>13926</td>\n      <td>NaN</td>\n      <td>150.0</td>\n      <td>discover</td>\n      <td>142.0</td>\n      <td>credit</td>\n      <td>315.0</td>\n      <td>...</td>\n      <td>NaN</td>\n      <td>NaN</td>\n      <td>NaN</td>\n      <td>NaN</td>\n      <td>NaN</td>\n      <td>NaN</td>\n      <td>0.000000</td>\n      <td>1.000000</td>\n      <td>0</td>\n      <td>1</td>\n    </tr>\n    <tr>\n      <th>1</th>\n      <td>0</td>\n      <td>29.00</td>\n      <td>W</td>\n      <td>2755</td>\n      <td>404.0</td>\n      <td>150.0</td>\n      <td>mastercard</td>\n      <td>102.0</td>\n      <td>credit</td>\n      <td>325.0</td>\n      <td>...</td>\n      <td>NaN</td>\n      <td>NaN</td>\n      <td>NaN</td>\n      <td>NaN</td>\n      <td>NaN</td>\n      <td>NaN</td>\n      <td>0.000278</td>\n      <td>1.000012</td>\n      <td>0</td>\n      <td>0</td>\n    </tr>\n    <tr>\n      <th>2</th>\n      <td>0</td>\n      <td>59.00</td>\n      <td>W</td>\n      <td>4663</td>\n      <td>490.0</td>\n      <td>150.0</td>\n      <td>visa</td>\n      <td>166.0</td>\n      <td>debit</td>\n      <td>330.0</td>\n      <td>...</td>\n      <td>NaN</td>\n      <td>NaN</td>\n      <td>NaN</td>\n      <td>NaN</td>\n      <td>NaN</td>\n      <td>NaN</td>\n      <td>0.019167</td>\n      <td>1.000799</td>\n      <td>0</td>\n      <td>0</td>\n    </tr>\n    <tr>\n      <th>3</th>\n      <td>0</td>\n      <td>50.00</td>\n      <td>W</td>\n      <td>18132</td>\n      <td>567.0</td>\n      <td>150.0</td>\n      <td>mastercard</td>\n      <td>117.0</td>\n      <td>debit</td>\n      <td>476.0</td>\n      <td>...</td>\n      <td>NaN</td>\n      <td>NaN</td>\n      <td>NaN</td>\n      <td>NaN</td>\n      <td>NaN</td>\n      <td>NaN</td>\n      <td>0.027500</td>\n      <td>1.001146</td>\n      <td>0</td>\n      <td>0</td>\n    </tr>\n    <tr>\n      <th>4</th>\n      <td>0</td>\n      <td>50.00</td>\n      <td>H</td>\n      <td>4497</td>\n      <td>514.0</td>\n      <td>150.0</td>\n      <td>mastercard</td>\n      <td>102.0</td>\n      <td>credit</td>\n      <td>420.0</td>\n      <td>...</td>\n      <td>T</td>\n      <td>F</td>\n      <td>T</td>\n      <td>T</td>\n      <td>mobile</td>\n      <td>SAMSUNG SM-G892A Build/NRD90M</td>\n      <td>0.029444</td>\n      <td>1.001227</td>\n      <td>0</td>\n      <td>0</td>\n    </tr>\n    <tr>\n      <th>...</th>\n      <td>...</td>\n      <td>...</td>\n      <td>...</td>\n      <td>...</td>\n      <td>...</td>\n      <td>...</td>\n      <td>...</td>\n      <td>...</td>\n      <td>...</td>\n      <td>...</td>\n      <td>...</td>\n      <td>...</td>\n      <td>...</td>\n      <td>...</td>\n      <td>...</td>\n      <td>...</td>\n      <td>...</td>\n      <td>...</td>\n      <td>...</td>\n      <td>...</td>\n      <td>...</td>\n    </tr>\n    <tr>\n      <th>590535</th>\n      <td>0</td>\n      <td>49.00</td>\n      <td>W</td>\n      <td>6550</td>\n      <td>NaN</td>\n      <td>150.0</td>\n      <td>visa</td>\n      <td>226.0</td>\n      <td>debit</td>\n      <td>272.0</td>\n      <td>...</td>\n      <td>NaN</td>\n      <td>NaN</td>\n      <td>NaN</td>\n      <td>NaN</td>\n      <td>NaN</td>\n      <td>NaN</td>\n      <td>23.957500</td>\n      <td>0.998229</td>\n      <td>0</td>\n      <td>1</td>\n    </tr>\n    <tr>\n      <th>590536</th>\n      <td>0</td>\n      <td>39.50</td>\n      <td>W</td>\n      <td>10444</td>\n      <td>225.0</td>\n      <td>150.0</td>\n      <td>mastercard</td>\n      <td>224.0</td>\n      <td>debit</td>\n      <td>204.0</td>\n      <td>...</td>\n      <td>NaN</td>\n      <td>NaN</td>\n      <td>NaN</td>\n      <td>NaN</td>\n      <td>NaN</td>\n      <td>NaN</td>\n      <td>23.958056</td>\n      <td>0.998252</td>\n      <td>0</td>\n      <td>0</td>\n    </tr>\n    <tr>\n      <th>590537</th>\n      <td>0</td>\n      <td>30.95</td>\n      <td>W</td>\n      <td>12037</td>\n      <td>595.0</td>\n      <td>150.0</td>\n      <td>mastercard</td>\n      <td>224.0</td>\n      <td>debit</td>\n      <td>231.0</td>\n      <td>...</td>\n      <td>NaN</td>\n      <td>NaN</td>\n      <td>NaN</td>\n      <td>NaN</td>\n      <td>NaN</td>\n      <td>NaN</td>\n      <td>23.966389</td>\n      <td>0.998600</td>\n      <td>0</td>\n      <td>0</td>\n    </tr>\n    <tr>\n      <th>590538</th>\n      <td>0</td>\n      <td>117.00</td>\n      <td>W</td>\n      <td>7826</td>\n      <td>481.0</td>\n      <td>150.0</td>\n      <td>mastercard</td>\n      <td>224.0</td>\n      <td>debit</td>\n      <td>387.0</td>\n      <td>...</td>\n      <td>NaN</td>\n      <td>NaN</td>\n      <td>NaN</td>\n      <td>NaN</td>\n      <td>NaN</td>\n      <td>NaN</td>\n      <td>23.968889</td>\n      <td>0.998704</td>\n      <td>0</td>\n      <td>0</td>\n    </tr>\n    <tr>\n      <th>590539</th>\n      <td>0</td>\n      <td>279.95</td>\n      <td>W</td>\n      <td>15066</td>\n      <td>170.0</td>\n      <td>150.0</td>\n      <td>mastercard</td>\n      <td>102.0</td>\n      <td>credit</td>\n      <td>299.0</td>\n      <td>...</td>\n      <td>NaN</td>\n      <td>NaN</td>\n      <td>NaN</td>\n      <td>NaN</td>\n      <td>NaN</td>\n      <td>NaN</td>\n      <td>23.980833</td>\n      <td>0.999201</td>\n      <td>0</td>\n      <td>0</td>\n    </tr>\n  </tbody>\n</table>\n<p>590540 rows × 422 columns</p>\n</div>"
     },
     "execution_count": 154,
     "metadata": {},
     "output_type": "execute_result"
    }
   ],
   "source": [
    "aux"
   ],
   "metadata": {
    "collapsed": false,
    "pycharm": {
     "name": "#%%\n"
    }
   }
  },
  {
   "cell_type": "code",
   "execution_count": 58,
   "outputs": [
    {
     "data": {
      "text/plain": "1269"
     },
     "execution_count": 58,
     "metadata": {},
     "output_type": "execute_result"
    }
   ],
   "source": [
    "aux['D1'].isna().sum()"
   ],
   "metadata": {
    "collapsed": false,
    "pycharm": {
     "name": "#%%\n"
    }
   }
  },
  {
   "cell_type": "code",
   "execution_count": 157,
   "outputs": [
    {
     "data": {
      "text/plain": "             isFraud  TransactionAmt          card1          card2  \\\ncount  590540.000000   590540.000000  590540.000000  581607.000000   \nmean        0.034990      135.027176    9898.734658     362.555488   \nstd         0.183755      239.162522    4901.170153     157.793246   \nmin         0.000000        0.251000    1000.000000     100.000000   \n25%         0.000000       43.321000    6019.000000     214.000000   \n50%         0.000000       68.769000    9678.000000     361.000000   \n75%         0.000000      125.000000   14184.000000     512.000000   \nmax         1.000000    31937.391000   18396.000000     600.000000   \n\n               card3          card5          addr1          addr2  \\\ncount  588975.000000  586281.000000  524834.000000  524834.000000   \nmean      153.194925     199.278897     290.733794      86.800630   \nstd        11.336444      41.244453     101.741072       2.690623   \nmin       100.000000     100.000000     100.000000      10.000000   \n25%       150.000000     166.000000     204.000000      87.000000   \n50%       150.000000     226.000000     299.000000      87.000000   \n75%       150.000000     226.000000     330.000000      87.000000   \nmax       231.000000     237.000000     540.000000     102.000000   \n\n               dist1             C1  ...  id_36_missing        id_37_F  \\\ncount  238269.000000  590540.000000  ...  590540.000000  590540.000000   \nmean      118.502180      14.092458  ...       0.761261       0.051704   \nstd       371.872026     133.569018  ...       0.426313       0.221428   \nmin         0.000000       0.000000  ...       0.000000       0.000000   \n25%         3.000000       1.000000  ...       1.000000       0.000000   \n50%         8.000000       1.000000  ...       1.000000       0.000000   \n75%        24.000000       3.000000  ...       1.000000       0.000000   \nmax     10286.000000    4685.000000  ...       1.000000       1.000000   \n\n             id_37_T  id_37_missing        id_38_F        id_38_T  \\\ncount  590540.000000  590540.000000  590540.000000  590540.000000   \nmean        0.187036       0.761261       0.125177       0.113562   \nstd         0.389940       0.426313       0.330920       0.317279   \nmin         0.000000       0.000000       0.000000       0.000000   \n25%         0.000000       1.000000       0.000000       0.000000   \n50%         0.000000       1.000000       0.000000       0.000000   \n75%         0.000000       1.000000       0.000000       0.000000   \nmax         1.000000       1.000000       1.000000       1.000000   \n\n       id_38_missing  DeviceType_desktop  DeviceType_missing  \\\ncount  590540.000000       590540.000000       590540.000000   \nmean        0.761261            0.144215            0.761557   \nstd         0.426313            0.351308            0.426132   \nmin         0.000000            0.000000            0.000000   \n25%         1.000000            0.000000            1.000000   \n50%         1.000000            0.000000            1.000000   \n75%         1.000000            0.000000            1.000000   \nmax         1.000000            1.000000            1.000000   \n\n       DeviceType_mobile  \ncount      590540.000000  \nmean            0.094227  \nstd             0.292145  \nmin             0.000000  \n25%             0.000000  \n50%             0.000000  \n75%             0.000000  \nmax             1.000000  \n\n[8 rows x 474 columns]",
      "text/html": "<div>\n<style scoped>\n    .dataframe tbody tr th:only-of-type {\n        vertical-align: middle;\n    }\n\n    .dataframe tbody tr th {\n        vertical-align: top;\n    }\n\n    .dataframe thead th {\n        text-align: right;\n    }\n</style>\n<table border=\"1\" class=\"dataframe\">\n  <thead>\n    <tr style=\"text-align: right;\">\n      <th></th>\n      <th>isFraud</th>\n      <th>TransactionAmt</th>\n      <th>card1</th>\n      <th>card2</th>\n      <th>card3</th>\n      <th>card5</th>\n      <th>addr1</th>\n      <th>addr2</th>\n      <th>dist1</th>\n      <th>C1</th>\n      <th>...</th>\n      <th>id_36_missing</th>\n      <th>id_37_F</th>\n      <th>id_37_T</th>\n      <th>id_37_missing</th>\n      <th>id_38_F</th>\n      <th>id_38_T</th>\n      <th>id_38_missing</th>\n      <th>DeviceType_desktop</th>\n      <th>DeviceType_missing</th>\n      <th>DeviceType_mobile</th>\n    </tr>\n  </thead>\n  <tbody>\n    <tr>\n      <th>count</th>\n      <td>590540.000000</td>\n      <td>590540.000000</td>\n      <td>590540.000000</td>\n      <td>581607.000000</td>\n      <td>588975.000000</td>\n      <td>586281.000000</td>\n      <td>524834.000000</td>\n      <td>524834.000000</td>\n      <td>238269.000000</td>\n      <td>590540.000000</td>\n      <td>...</td>\n      <td>590540.000000</td>\n      <td>590540.000000</td>\n      <td>590540.000000</td>\n      <td>590540.000000</td>\n      <td>590540.000000</td>\n      <td>590540.000000</td>\n      <td>590540.000000</td>\n      <td>590540.000000</td>\n      <td>590540.000000</td>\n      <td>590540.000000</td>\n    </tr>\n    <tr>\n      <th>mean</th>\n      <td>0.034990</td>\n      <td>135.027176</td>\n      <td>9898.734658</td>\n      <td>362.555488</td>\n      <td>153.194925</td>\n      <td>199.278897</td>\n      <td>290.733794</td>\n      <td>86.800630</td>\n      <td>118.502180</td>\n      <td>14.092458</td>\n      <td>...</td>\n      <td>0.761261</td>\n      <td>0.051704</td>\n      <td>0.187036</td>\n      <td>0.761261</td>\n      <td>0.125177</td>\n      <td>0.113562</td>\n      <td>0.761261</td>\n      <td>0.144215</td>\n      <td>0.761557</td>\n      <td>0.094227</td>\n    </tr>\n    <tr>\n      <th>std</th>\n      <td>0.183755</td>\n      <td>239.162522</td>\n      <td>4901.170153</td>\n      <td>157.793246</td>\n      <td>11.336444</td>\n      <td>41.244453</td>\n      <td>101.741072</td>\n      <td>2.690623</td>\n      <td>371.872026</td>\n      <td>133.569018</td>\n      <td>...</td>\n      <td>0.426313</td>\n      <td>0.221428</td>\n      <td>0.389940</td>\n      <td>0.426313</td>\n      <td>0.330920</td>\n      <td>0.317279</td>\n      <td>0.426313</td>\n      <td>0.351308</td>\n      <td>0.426132</td>\n      <td>0.292145</td>\n    </tr>\n    <tr>\n      <th>min</th>\n      <td>0.000000</td>\n      <td>0.251000</td>\n      <td>1000.000000</td>\n      <td>100.000000</td>\n      <td>100.000000</td>\n      <td>100.000000</td>\n      <td>100.000000</td>\n      <td>10.000000</td>\n      <td>0.000000</td>\n      <td>0.000000</td>\n      <td>...</td>\n      <td>0.000000</td>\n      <td>0.000000</td>\n      <td>0.000000</td>\n      <td>0.000000</td>\n      <td>0.000000</td>\n      <td>0.000000</td>\n      <td>0.000000</td>\n      <td>0.000000</td>\n      <td>0.000000</td>\n      <td>0.000000</td>\n    </tr>\n    <tr>\n      <th>25%</th>\n      <td>0.000000</td>\n      <td>43.321000</td>\n      <td>6019.000000</td>\n      <td>214.000000</td>\n      <td>150.000000</td>\n      <td>166.000000</td>\n      <td>204.000000</td>\n      <td>87.000000</td>\n      <td>3.000000</td>\n      <td>1.000000</td>\n      <td>...</td>\n      <td>1.000000</td>\n      <td>0.000000</td>\n      <td>0.000000</td>\n      <td>1.000000</td>\n      <td>0.000000</td>\n      <td>0.000000</td>\n      <td>1.000000</td>\n      <td>0.000000</td>\n      <td>1.000000</td>\n      <td>0.000000</td>\n    </tr>\n    <tr>\n      <th>50%</th>\n      <td>0.000000</td>\n      <td>68.769000</td>\n      <td>9678.000000</td>\n      <td>361.000000</td>\n      <td>150.000000</td>\n      <td>226.000000</td>\n      <td>299.000000</td>\n      <td>87.000000</td>\n      <td>8.000000</td>\n      <td>1.000000</td>\n      <td>...</td>\n      <td>1.000000</td>\n      <td>0.000000</td>\n      <td>0.000000</td>\n      <td>1.000000</td>\n      <td>0.000000</td>\n      <td>0.000000</td>\n      <td>1.000000</td>\n      <td>0.000000</td>\n      <td>1.000000</td>\n      <td>0.000000</td>\n    </tr>\n    <tr>\n      <th>75%</th>\n      <td>0.000000</td>\n      <td>125.000000</td>\n      <td>14184.000000</td>\n      <td>512.000000</td>\n      <td>150.000000</td>\n      <td>226.000000</td>\n      <td>330.000000</td>\n      <td>87.000000</td>\n      <td>24.000000</td>\n      <td>3.000000</td>\n      <td>...</td>\n      <td>1.000000</td>\n      <td>0.000000</td>\n      <td>0.000000</td>\n      <td>1.000000</td>\n      <td>0.000000</td>\n      <td>0.000000</td>\n      <td>1.000000</td>\n      <td>0.000000</td>\n      <td>1.000000</td>\n      <td>0.000000</td>\n    </tr>\n    <tr>\n      <th>max</th>\n      <td>1.000000</td>\n      <td>31937.391000</td>\n      <td>18396.000000</td>\n      <td>600.000000</td>\n      <td>231.000000</td>\n      <td>237.000000</td>\n      <td>540.000000</td>\n      <td>102.000000</td>\n      <td>10286.000000</td>\n      <td>4685.000000</td>\n      <td>...</td>\n      <td>1.000000</td>\n      <td>1.000000</td>\n      <td>1.000000</td>\n      <td>1.000000</td>\n      <td>1.000000</td>\n      <td>1.000000</td>\n      <td>1.000000</td>\n      <td>1.000000</td>\n      <td>1.000000</td>\n      <td>1.000000</td>\n    </tr>\n  </tbody>\n</table>\n<p>8 rows × 474 columns</p>\n</div>"
     },
     "execution_count": 157,
     "metadata": {},
     "output_type": "execute_result"
    }
   ],
   "source": [
    "aux.describe()"
   ],
   "metadata": {
    "collapsed": false,
    "pycharm": {
     "name": "#%%\n"
    }
   }
  },
  {
   "cell_type": "code",
   "execution_count": 88,
   "outputs": [],
   "source": [
    "def print_num_cat_features(df):\n",
    "    feat=[]\n",
    "    for col in df.columns:\n",
    "        if 1.*df[col].value_counts().max()/df[col].count() < 0.5:\n",
    "            feat.append(col)\n",
    "    print(feat)"
   ],
   "metadata": {
    "collapsed": false,
    "pycharm": {
     "name": "#%%\n"
    }
   }
  },
  {
   "cell_type": "code",
   "execution_count": 89,
   "outputs": [
    {
     "name": "stdout",
     "output_type": "stream",
     "text": [
      "['TransactionAmt', 'card1', 'card2', 'addr1', 'dist1', 'C9', 'C13', 'D1', 'D2', 'D3', 'D4', 'D5', 'D8', 'D9', 'D10', 'D11', 'D15', 'V283', 'id_02', 'id_13', 'id_19', 'id_20', 'TransactionHour', 'TransactionDay']\n"
     ]
    }
   ],
   "source": [
    "print_num_cat_features(aux)"
   ],
   "metadata": {
    "collapsed": false,
    "pycharm": {
     "name": "#%%\n"
    }
   }
  },
  {
   "cell_type": "code",
   "execution_count": 158,
   "outputs": [
    {
     "name": "stdout",
     "output_type": "stream",
     "text": [
      "isFraud               False\n",
      "TransactionAmt        False\n",
      "card1                 False\n",
      "card2                  True\n",
      "card3                  True\n",
      "                      ...  \n",
      "id_38_T               False\n",
      "id_38_missing         False\n",
      "DeviceType_desktop    False\n",
      "DeviceType_missing    False\n",
      "DeviceType_mobile     False\n",
      "Length: 474, dtype: bool\n"
     ]
    }
   ],
   "source": [
    "is_na_columns = aux.isnull().any(axis=0)\n",
    "columns_with_na = is_na_columns[is_na_columns == True].index\n",
    "print(is_na_columns)"
   ],
   "metadata": {
    "collapsed": false,
    "pycharm": {
     "name": "#%%\n"
    }
   }
  },
  {
   "cell_type": "code",
   "execution_count": 159,
   "outputs": [
    {
     "data": {
      "text/plain": "isFraud                  0\nTransactionAmt           0\ncard1                    0\ncard2                 8933\ncard3                 1565\n                      ... \nid_38_T                  0\nid_38_missing            0\nDeviceType_desktop       0\nDeviceType_missing       0\nDeviceType_mobile        0\nLength: 474, dtype: int64"
     },
     "execution_count": 159,
     "metadata": {},
     "output_type": "execute_result"
    }
   ],
   "source": [
    "aux.isna().sum()"
   ],
   "metadata": {
    "collapsed": false,
    "pycharm": {
     "name": "#%%\n"
    }
   }
  },
  {
   "cell_type": "code",
   "execution_count": 21,
   "outputs": [],
   "source": [
    "aux2=aux.copy()"
   ],
   "metadata": {
    "collapsed": false,
    "pycharm": {
     "name": "#%%\n"
    }
   }
  },
  {
   "cell_type": "code",
   "execution_count": 22,
   "outputs": [],
   "source": [
    "from typing import Union\n",
    "\n",
    "\n",
    "def fill_nans2(df: pd.DataFrame, operation: Union[str, float, int] = \"mean\") -> pd.DataFrame:\n",
    "    if isinstance(operation, str):\n",
    "        assert operation in (\"mean\", \"median\")\n",
    "\n",
    "    is_na_columns = df.isnull().any(axis=0)\n",
    "    columns_with_na = is_na_columns[is_na_columns == True].index\n",
    "    df_with_nans = df[columns_with_na]\n",
    "    df_with_nans = df_with_nans.astype(\"float32\")\n",
    "    if isinstance(operation, str):\n",
    "        if operation == \"mean\":\n",
    "            fill_values = df_with_nans.mean(axis=0, skipna=True)\n",
    "        else:\n",
    "            fill_values = df_with_nans.median(axis=0, skipna=True)\n",
    "\n",
    "        for column in columns_with_na:\n",
    "            if 1.*df[column].value_counts().max()/df[column].count() < 0.5:\n",
    "                df[column] = df[column].fillna(fill_values[column])\n",
    "        for column in columns_with_na:\n",
    "            df[column] = df[column].fillna(8*df[column].max())\n",
    "    else:\n",
    "        fill_value = operation\n",
    "        df[columns_with_na] = df[columns_with_na].fillna(fill_value)\n",
    "\n",
    "    return df"
   ],
   "metadata": {
    "collapsed": false,
    "pycharm": {
     "name": "#%%\n"
    }
   }
  },
  {
   "cell_type": "code",
   "execution_count": 23,
   "outputs": [],
   "source": [
    "aux2=fill_nans2(aux2,'mean')\n",
    "aux2\n",
    "aux_balanced=fill_nans2(aux_balanced,'mean')"
   ],
   "metadata": {
    "collapsed": false,
    "pycharm": {
     "name": "#%%\n"
    }
   }
  },
  {
   "cell_type": "code",
   "execution_count": 122,
   "outputs": [
    {
     "data": {
      "text/plain": "             isFraud  TransactionAmt          card1     card2     card3  \\\ncount  590540.000000   590540.000000  590540.000000  581607.0  588975.0   \nmean        0.034990             NaN    9898.734658       NaN       NaN   \nstd         0.183755             NaN    4901.170153       NaN       0.0   \nmin         0.000000        0.250977    1000.000000     100.0     100.0   \n25%         0.000000       43.312500    6019.000000     214.0     150.0   \n50%         0.000000       68.750000    9678.000000     361.0     150.0   \n75%         0.000000      125.000000   14184.000000     512.0     150.0   \nmax         1.000000    31936.000000   18396.000000     600.0     231.0   \n\n          card5     addr1     addr2     dist1        C1  ...  id_36_missing  \\\ncount  586281.0  524834.0  524834.0  238269.0  590540.0  ...  590540.000000   \nmean        NaN       NaN       NaN       NaN       NaN  ...       0.761261   \nstd         0.0       NaN       0.0       NaN       NaN  ...       0.426313   \nmin       100.0     100.0      10.0       0.0       0.0  ...       0.000000   \n25%       166.0     204.0      87.0       3.0       1.0  ...       1.000000   \n50%       226.0     299.0      87.0       8.0       1.0  ...       1.000000   \n75%       226.0     330.0      87.0      24.0       3.0  ...       1.000000   \nmax       237.0     540.0     102.0   10288.0    4684.0  ...       1.000000   \n\n             id_37_F        id_37_T  id_37_missing        id_38_F  \\\ncount  590540.000000  590540.000000  590540.000000  590540.000000   \nmean        0.051704       0.187036       0.761261       0.125177   \nstd         0.221428       0.389940       0.426313       0.330920   \nmin         0.000000       0.000000       0.000000       0.000000   \n25%         0.000000       0.000000       1.000000       0.000000   \n50%         0.000000       0.000000       1.000000       0.000000   \n75%         0.000000       0.000000       1.000000       0.000000   \nmax         1.000000       1.000000       1.000000       1.000000   \n\n             id_38_T  id_38_missing  DeviceType_desktop  DeviceType_missing  \\\ncount  590540.000000  590540.000000       590540.000000       590540.000000   \nmean        0.113562       0.761261            0.144215            0.761557   \nstd         0.317279       0.426313            0.351308            0.426132   \nmin         0.000000       0.000000            0.000000            0.000000   \n25%         0.000000       1.000000            0.000000            1.000000   \n50%         0.000000       1.000000            0.000000            1.000000   \n75%         0.000000       1.000000            0.000000            1.000000   \nmax         1.000000       1.000000            1.000000            1.000000   \n\n       DeviceType_mobile  \ncount      590540.000000  \nmean            0.094227  \nstd             0.292145  \nmin             0.000000  \n25%             0.000000  \n50%             0.000000  \n75%             0.000000  \nmax             1.000000  \n\n[8 rows x 474 columns]",
      "text/html": "<div>\n<style scoped>\n    .dataframe tbody tr th:only-of-type {\n        vertical-align: middle;\n    }\n\n    .dataframe tbody tr th {\n        vertical-align: top;\n    }\n\n    .dataframe thead th {\n        text-align: right;\n    }\n</style>\n<table border=\"1\" class=\"dataframe\">\n  <thead>\n    <tr style=\"text-align: right;\">\n      <th></th>\n      <th>isFraud</th>\n      <th>TransactionAmt</th>\n      <th>card1</th>\n      <th>card2</th>\n      <th>card3</th>\n      <th>card5</th>\n      <th>addr1</th>\n      <th>addr2</th>\n      <th>dist1</th>\n      <th>C1</th>\n      <th>...</th>\n      <th>id_36_missing</th>\n      <th>id_37_F</th>\n      <th>id_37_T</th>\n      <th>id_37_missing</th>\n      <th>id_38_F</th>\n      <th>id_38_T</th>\n      <th>id_38_missing</th>\n      <th>DeviceType_desktop</th>\n      <th>DeviceType_missing</th>\n      <th>DeviceType_mobile</th>\n    </tr>\n  </thead>\n  <tbody>\n    <tr>\n      <th>count</th>\n      <td>590540.000000</td>\n      <td>590540.000000</td>\n      <td>590540.000000</td>\n      <td>581607.0</td>\n      <td>588975.0</td>\n      <td>586281.0</td>\n      <td>524834.0</td>\n      <td>524834.0</td>\n      <td>238269.0</td>\n      <td>590540.0</td>\n      <td>...</td>\n      <td>590540.000000</td>\n      <td>590540.000000</td>\n      <td>590540.000000</td>\n      <td>590540.000000</td>\n      <td>590540.000000</td>\n      <td>590540.000000</td>\n      <td>590540.000000</td>\n      <td>590540.000000</td>\n      <td>590540.000000</td>\n      <td>590540.000000</td>\n    </tr>\n    <tr>\n      <th>mean</th>\n      <td>0.034990</td>\n      <td>NaN</td>\n      <td>9898.734658</td>\n      <td>NaN</td>\n      <td>NaN</td>\n      <td>NaN</td>\n      <td>NaN</td>\n      <td>NaN</td>\n      <td>NaN</td>\n      <td>NaN</td>\n      <td>...</td>\n      <td>0.761261</td>\n      <td>0.051704</td>\n      <td>0.187036</td>\n      <td>0.761261</td>\n      <td>0.125177</td>\n      <td>0.113562</td>\n      <td>0.761261</td>\n      <td>0.144215</td>\n      <td>0.761557</td>\n      <td>0.094227</td>\n    </tr>\n    <tr>\n      <th>std</th>\n      <td>0.183755</td>\n      <td>NaN</td>\n      <td>4901.170153</td>\n      <td>NaN</td>\n      <td>0.0</td>\n      <td>0.0</td>\n      <td>NaN</td>\n      <td>0.0</td>\n      <td>NaN</td>\n      <td>NaN</td>\n      <td>...</td>\n      <td>0.426313</td>\n      <td>0.221428</td>\n      <td>0.389940</td>\n      <td>0.426313</td>\n      <td>0.330920</td>\n      <td>0.317279</td>\n      <td>0.426313</td>\n      <td>0.351308</td>\n      <td>0.426132</td>\n      <td>0.292145</td>\n    </tr>\n    <tr>\n      <th>min</th>\n      <td>0.000000</td>\n      <td>0.250977</td>\n      <td>1000.000000</td>\n      <td>100.0</td>\n      <td>100.0</td>\n      <td>100.0</td>\n      <td>100.0</td>\n      <td>10.0</td>\n      <td>0.0</td>\n      <td>0.0</td>\n      <td>...</td>\n      <td>0.000000</td>\n      <td>0.000000</td>\n      <td>0.000000</td>\n      <td>0.000000</td>\n      <td>0.000000</td>\n      <td>0.000000</td>\n      <td>0.000000</td>\n      <td>0.000000</td>\n      <td>0.000000</td>\n      <td>0.000000</td>\n    </tr>\n    <tr>\n      <th>25%</th>\n      <td>0.000000</td>\n      <td>43.312500</td>\n      <td>6019.000000</td>\n      <td>214.0</td>\n      <td>150.0</td>\n      <td>166.0</td>\n      <td>204.0</td>\n      <td>87.0</td>\n      <td>3.0</td>\n      <td>1.0</td>\n      <td>...</td>\n      <td>1.000000</td>\n      <td>0.000000</td>\n      <td>0.000000</td>\n      <td>1.000000</td>\n      <td>0.000000</td>\n      <td>0.000000</td>\n      <td>1.000000</td>\n      <td>0.000000</td>\n      <td>1.000000</td>\n      <td>0.000000</td>\n    </tr>\n    <tr>\n      <th>50%</th>\n      <td>0.000000</td>\n      <td>68.750000</td>\n      <td>9678.000000</td>\n      <td>361.0</td>\n      <td>150.0</td>\n      <td>226.0</td>\n      <td>299.0</td>\n      <td>87.0</td>\n      <td>8.0</td>\n      <td>1.0</td>\n      <td>...</td>\n      <td>1.000000</td>\n      <td>0.000000</td>\n      <td>0.000000</td>\n      <td>1.000000</td>\n      <td>0.000000</td>\n      <td>0.000000</td>\n      <td>1.000000</td>\n      <td>0.000000</td>\n      <td>1.000000</td>\n      <td>0.000000</td>\n    </tr>\n    <tr>\n      <th>75%</th>\n      <td>0.000000</td>\n      <td>125.000000</td>\n      <td>14184.000000</td>\n      <td>512.0</td>\n      <td>150.0</td>\n      <td>226.0</td>\n      <td>330.0</td>\n      <td>87.0</td>\n      <td>24.0</td>\n      <td>3.0</td>\n      <td>...</td>\n      <td>1.000000</td>\n      <td>0.000000</td>\n      <td>0.000000</td>\n      <td>1.000000</td>\n      <td>0.000000</td>\n      <td>0.000000</td>\n      <td>1.000000</td>\n      <td>0.000000</td>\n      <td>1.000000</td>\n      <td>0.000000</td>\n    </tr>\n    <tr>\n      <th>max</th>\n      <td>1.000000</td>\n      <td>31936.000000</td>\n      <td>18396.000000</td>\n      <td>600.0</td>\n      <td>231.0</td>\n      <td>237.0</td>\n      <td>540.0</td>\n      <td>102.0</td>\n      <td>10288.0</td>\n      <td>4684.0</td>\n      <td>...</td>\n      <td>1.000000</td>\n      <td>1.000000</td>\n      <td>1.000000</td>\n      <td>1.000000</td>\n      <td>1.000000</td>\n      <td>1.000000</td>\n      <td>1.000000</td>\n      <td>1.000000</td>\n      <td>1.000000</td>\n      <td>1.000000</td>\n    </tr>\n  </tbody>\n</table>\n<p>8 rows × 474 columns</p>\n</div>"
     },
     "execution_count": 122,
     "metadata": {},
     "output_type": "execute_result"
    }
   ],
   "source": [
    "aux.describe()"
   ],
   "metadata": {
    "collapsed": false,
    "pycharm": {
     "name": "#%%\n"
    }
   }
  },
  {
   "cell_type": "code",
   "execution_count": 123,
   "outputs": [
    {
     "name": "stderr",
     "output_type": "stream",
     "text": [
      "/Users/alexkosa/.conda/envs/AcLabs/lib/python3.10/site-packages/numpy/lib/function_base.py:4486: RuntimeWarning: invalid value encountered in subtract\n",
      "  diff_b_a = subtract(b, a)\n",
      "/Users/alexkosa/.conda/envs/AcLabs/lib/python3.10/site-packages/numpy/lib/function_base.py:4486: RuntimeWarning: invalid value encountered in subtract\n",
      "  diff_b_a = subtract(b, a)\n",
      "/Users/alexkosa/.conda/envs/AcLabs/lib/python3.10/site-packages/numpy/lib/function_base.py:4486: RuntimeWarning: invalid value encountered in subtract\n",
      "  diff_b_a = subtract(b, a)\n",
      "/Users/alexkosa/.conda/envs/AcLabs/lib/python3.10/site-packages/numpy/lib/function_base.py:4486: RuntimeWarning: invalid value encountered in subtract\n",
      "  diff_b_a = subtract(b, a)\n",
      "/Users/alexkosa/.conda/envs/AcLabs/lib/python3.10/site-packages/numpy/lib/function_base.py:4486: RuntimeWarning: invalid value encountered in subtract\n",
      "  diff_b_a = subtract(b, a)\n",
      "/Users/alexkosa/.conda/envs/AcLabs/lib/python3.10/site-packages/numpy/lib/function_base.py:4486: RuntimeWarning: invalid value encountered in subtract\n",
      "  diff_b_a = subtract(b, a)\n",
      "/Users/alexkosa/.conda/envs/AcLabs/lib/python3.10/site-packages/numpy/lib/function_base.py:4486: RuntimeWarning: invalid value encountered in subtract\n",
      "  diff_b_a = subtract(b, a)\n",
      "/Users/alexkosa/.conda/envs/AcLabs/lib/python3.10/site-packages/numpy/lib/function_base.py:4486: RuntimeWarning: invalid value encountered in subtract\n",
      "  diff_b_a = subtract(b, a)\n",
      "/Users/alexkosa/.conda/envs/AcLabs/lib/python3.10/site-packages/numpy/lib/function_base.py:4486: RuntimeWarning: invalid value encountered in subtract\n",
      "  diff_b_a = subtract(b, a)\n",
      "/Users/alexkosa/.conda/envs/AcLabs/lib/python3.10/site-packages/numpy/lib/function_base.py:4486: RuntimeWarning: invalid value encountered in subtract\n",
      "  diff_b_a = subtract(b, a)\n",
      "/Users/alexkosa/.conda/envs/AcLabs/lib/python3.10/site-packages/numpy/lib/function_base.py:4486: RuntimeWarning: invalid value encountered in subtract\n",
      "  diff_b_a = subtract(b, a)\n",
      "/Users/alexkosa/.conda/envs/AcLabs/lib/python3.10/site-packages/numpy/lib/function_base.py:4486: RuntimeWarning: invalid value encountered in subtract\n",
      "  diff_b_a = subtract(b, a)\n",
      "/Users/alexkosa/.conda/envs/AcLabs/lib/python3.10/site-packages/numpy/lib/function_base.py:4486: RuntimeWarning: invalid value encountered in subtract\n",
      "  diff_b_a = subtract(b, a)\n"
     ]
    },
    {
     "data": {
      "text/plain": "             isFraud  TransactionAmt          card1     card2     card3  \\\ncount  590540.000000   590540.000000  590540.000000  590540.0  590540.0   \nmean        0.034990             NaN    9898.734658       NaN       NaN   \nstd         0.183755             NaN    4901.170153       NaN       NaN   \nmin         0.000000        0.250977    1000.000000     100.0     100.0   \n25%         0.000000       43.312500    6019.000000     215.0     150.0   \n50%         0.000000       68.750000    9678.000000     361.0     150.0   \n75%         0.000000      125.000000   14184.000000     512.0     150.0   \nmax         1.000000    31936.000000   18396.000000     600.0     462.0   \n\n          card5      addr1     addr2     dist1        C1  ...  id_36_missing  \\\ncount  590540.0  590540.00  590540.0  590540.0  590540.0  ...  590540.000000   \nmean        NaN        NaN       NaN       NaN       NaN  ...       0.761261   \nstd         NaN        NaN       0.0       NaN       NaN  ...       0.426313   \nmin       100.0     100.00      10.0       0.0       0.0  ...       0.000000   \n25%       166.0     205.00      87.0      13.0       1.0  ...       1.000000   \n50%       226.0     290.75      87.0     118.5       1.0  ...       1.000000   \n75%       226.0     327.00      87.0     118.5       3.0  ...       1.000000   \nmax       474.0     540.00     204.0   10288.0    4684.0  ...       1.000000   \n\n             id_37_F        id_37_T  id_37_missing        id_38_F  \\\ncount  590540.000000  590540.000000  590540.000000  590540.000000   \nmean        0.051704       0.187036       0.761261       0.125177   \nstd         0.221428       0.389940       0.426313       0.330920   \nmin         0.000000       0.000000       0.000000       0.000000   \n25%         0.000000       0.000000       1.000000       0.000000   \n50%         0.000000       0.000000       1.000000       0.000000   \n75%         0.000000       0.000000       1.000000       0.000000   \nmax         1.000000       1.000000       1.000000       1.000000   \n\n             id_38_T  id_38_missing  DeviceType_desktop  DeviceType_missing  \\\ncount  590540.000000  590540.000000       590540.000000       590540.000000   \nmean        0.113562       0.761261            0.144215            0.761557   \nstd         0.317279       0.426313            0.351308            0.426132   \nmin         0.000000       0.000000            0.000000            0.000000   \n25%         0.000000       1.000000            0.000000            1.000000   \n50%         0.000000       1.000000            0.000000            1.000000   \n75%         0.000000       1.000000            0.000000            1.000000   \nmax         1.000000       1.000000            1.000000            1.000000   \n\n       DeviceType_mobile  \ncount      590540.000000  \nmean            0.094227  \nstd             0.292145  \nmin             0.000000  \n25%             0.000000  \n50%             0.000000  \n75%             0.000000  \nmax             1.000000  \n\n[8 rows x 474 columns]",
      "text/html": "<div>\n<style scoped>\n    .dataframe tbody tr th:only-of-type {\n        vertical-align: middle;\n    }\n\n    .dataframe tbody tr th {\n        vertical-align: top;\n    }\n\n    .dataframe thead th {\n        text-align: right;\n    }\n</style>\n<table border=\"1\" class=\"dataframe\">\n  <thead>\n    <tr style=\"text-align: right;\">\n      <th></th>\n      <th>isFraud</th>\n      <th>TransactionAmt</th>\n      <th>card1</th>\n      <th>card2</th>\n      <th>card3</th>\n      <th>card5</th>\n      <th>addr1</th>\n      <th>addr2</th>\n      <th>dist1</th>\n      <th>C1</th>\n      <th>...</th>\n      <th>id_36_missing</th>\n      <th>id_37_F</th>\n      <th>id_37_T</th>\n      <th>id_37_missing</th>\n      <th>id_38_F</th>\n      <th>id_38_T</th>\n      <th>id_38_missing</th>\n      <th>DeviceType_desktop</th>\n      <th>DeviceType_missing</th>\n      <th>DeviceType_mobile</th>\n    </tr>\n  </thead>\n  <tbody>\n    <tr>\n      <th>count</th>\n      <td>590540.000000</td>\n      <td>590540.000000</td>\n      <td>590540.000000</td>\n      <td>590540.0</td>\n      <td>590540.0</td>\n      <td>590540.0</td>\n      <td>590540.00</td>\n      <td>590540.0</td>\n      <td>590540.0</td>\n      <td>590540.0</td>\n      <td>...</td>\n      <td>590540.000000</td>\n      <td>590540.000000</td>\n      <td>590540.000000</td>\n      <td>590540.000000</td>\n      <td>590540.000000</td>\n      <td>590540.000000</td>\n      <td>590540.000000</td>\n      <td>590540.000000</td>\n      <td>590540.000000</td>\n      <td>590540.000000</td>\n    </tr>\n    <tr>\n      <th>mean</th>\n      <td>0.034990</td>\n      <td>NaN</td>\n      <td>9898.734658</td>\n      <td>NaN</td>\n      <td>NaN</td>\n      <td>NaN</td>\n      <td>NaN</td>\n      <td>NaN</td>\n      <td>NaN</td>\n      <td>NaN</td>\n      <td>...</td>\n      <td>0.761261</td>\n      <td>0.051704</td>\n      <td>0.187036</td>\n      <td>0.761261</td>\n      <td>0.125177</td>\n      <td>0.113562</td>\n      <td>0.761261</td>\n      <td>0.144215</td>\n      <td>0.761557</td>\n      <td>0.094227</td>\n    </tr>\n    <tr>\n      <th>std</th>\n      <td>0.183755</td>\n      <td>NaN</td>\n      <td>4901.170153</td>\n      <td>NaN</td>\n      <td>NaN</td>\n      <td>NaN</td>\n      <td>NaN</td>\n      <td>0.0</td>\n      <td>NaN</td>\n      <td>NaN</td>\n      <td>...</td>\n      <td>0.426313</td>\n      <td>0.221428</td>\n      <td>0.389940</td>\n      <td>0.426313</td>\n      <td>0.330920</td>\n      <td>0.317279</td>\n      <td>0.426313</td>\n      <td>0.351308</td>\n      <td>0.426132</td>\n      <td>0.292145</td>\n    </tr>\n    <tr>\n      <th>min</th>\n      <td>0.000000</td>\n      <td>0.250977</td>\n      <td>1000.000000</td>\n      <td>100.0</td>\n      <td>100.0</td>\n      <td>100.0</td>\n      <td>100.00</td>\n      <td>10.0</td>\n      <td>0.0</td>\n      <td>0.0</td>\n      <td>...</td>\n      <td>0.000000</td>\n      <td>0.000000</td>\n      <td>0.000000</td>\n      <td>0.000000</td>\n      <td>0.000000</td>\n      <td>0.000000</td>\n      <td>0.000000</td>\n      <td>0.000000</td>\n      <td>0.000000</td>\n      <td>0.000000</td>\n    </tr>\n    <tr>\n      <th>25%</th>\n      <td>0.000000</td>\n      <td>43.312500</td>\n      <td>6019.000000</td>\n      <td>215.0</td>\n      <td>150.0</td>\n      <td>166.0</td>\n      <td>205.00</td>\n      <td>87.0</td>\n      <td>13.0</td>\n      <td>1.0</td>\n      <td>...</td>\n      <td>1.000000</td>\n      <td>0.000000</td>\n      <td>0.000000</td>\n      <td>1.000000</td>\n      <td>0.000000</td>\n      <td>0.000000</td>\n      <td>1.000000</td>\n      <td>0.000000</td>\n      <td>1.000000</td>\n      <td>0.000000</td>\n    </tr>\n    <tr>\n      <th>50%</th>\n      <td>0.000000</td>\n      <td>68.750000</td>\n      <td>9678.000000</td>\n      <td>361.0</td>\n      <td>150.0</td>\n      <td>226.0</td>\n      <td>290.75</td>\n      <td>87.0</td>\n      <td>118.5</td>\n      <td>1.0</td>\n      <td>...</td>\n      <td>1.000000</td>\n      <td>0.000000</td>\n      <td>0.000000</td>\n      <td>1.000000</td>\n      <td>0.000000</td>\n      <td>0.000000</td>\n      <td>1.000000</td>\n      <td>0.000000</td>\n      <td>1.000000</td>\n      <td>0.000000</td>\n    </tr>\n    <tr>\n      <th>75%</th>\n      <td>0.000000</td>\n      <td>125.000000</td>\n      <td>14184.000000</td>\n      <td>512.0</td>\n      <td>150.0</td>\n      <td>226.0</td>\n      <td>327.00</td>\n      <td>87.0</td>\n      <td>118.5</td>\n      <td>3.0</td>\n      <td>...</td>\n      <td>1.000000</td>\n      <td>0.000000</td>\n      <td>0.000000</td>\n      <td>1.000000</td>\n      <td>0.000000</td>\n      <td>0.000000</td>\n      <td>1.000000</td>\n      <td>0.000000</td>\n      <td>1.000000</td>\n      <td>0.000000</td>\n    </tr>\n    <tr>\n      <th>max</th>\n      <td>1.000000</td>\n      <td>31936.000000</td>\n      <td>18396.000000</td>\n      <td>600.0</td>\n      <td>462.0</td>\n      <td>474.0</td>\n      <td>540.00</td>\n      <td>204.0</td>\n      <td>10288.0</td>\n      <td>4684.0</td>\n      <td>...</td>\n      <td>1.000000</td>\n      <td>1.000000</td>\n      <td>1.000000</td>\n      <td>1.000000</td>\n      <td>1.000000</td>\n      <td>1.000000</td>\n      <td>1.000000</td>\n      <td>1.000000</td>\n      <td>1.000000</td>\n      <td>1.000000</td>\n    </tr>\n  </tbody>\n</table>\n<p>8 rows × 474 columns</p>\n</div>"
     },
     "execution_count": 123,
     "metadata": {},
     "output_type": "execute_result"
    }
   ],
   "source": [
    "aux2.describe()"
   ],
   "metadata": {
    "collapsed": false,
    "pycharm": {
     "name": "#%%\n"
    }
   }
  },
  {
   "cell_type": "code",
   "execution_count": 163,
   "outputs": [
    {
     "data": {
      "text/plain": "isFraud               0\nTransactionAmt        0\ncard1                 0\ncard2                 0\ncard3                 0\n                     ..\nid_38_T               0\nid_38_missing         0\nDeviceType_desktop    0\nDeviceType_missing    0\nDeviceType_mobile     0\nLength: 474, dtype: int64"
     },
     "execution_count": 163,
     "metadata": {},
     "output_type": "execute_result"
    }
   ],
   "source": [
    "aux2.isna().sum()"
   ],
   "metadata": {
    "collapsed": false,
    "pycharm": {
     "name": "#%%\n"
    }
   }
  },
  {
   "cell_type": "code",
   "execution_count": 126,
   "outputs": [
    {
     "data": {
      "text/plain": "        isFraud  TransactionAmt  card1  card2  card3  card5  addr1  addr2  \\\n0             0       68.500000  13926  362.5  150.0  142.0  315.0   87.0   \n1             0       29.000000   2755  404.0  150.0  102.0  325.0   87.0   \n2             0       59.000000   4663  490.0  150.0  166.0  330.0   87.0   \n3             0       50.000000  18132  567.0  150.0  117.0  476.0   87.0   \n4             0       50.000000   4497  514.0  150.0  102.0  420.0   87.0   \n...         ...             ...    ...    ...    ...    ...    ...    ...   \n590535        0       49.000000   6550  362.5  150.0  226.0  272.0   87.0   \n590536        0       39.500000  10444  225.0  150.0  224.0  204.0   87.0   \n590537        0       30.953125  12037  595.0  150.0  224.0  231.0   87.0   \n590538        0      117.000000   7826  481.0  150.0  224.0  387.0   87.0   \n590539        0      280.000000  15066  170.0  150.0  102.0  299.0   87.0   \n\n        dist1   C1  ...  id_36_missing  id_37_F  id_37_T  id_37_missing  \\\n0        19.0  1.0  ...              1        0        0              1   \n1       118.5  1.0  ...              1        0        0              1   \n2       287.0  1.0  ...              1        0        0              1   \n3       118.5  2.0  ...              1        0        0              1   \n4       118.5  1.0  ...              0        0        1              0   \n...       ...  ...  ...            ...      ...      ...            ...   \n590535   48.0  2.0  ...              1        0        0              1   \n590536  118.5  1.0  ...              1        0        0              1   \n590537  118.5  1.0  ...              1        0        0              1   \n590538    3.0  1.0  ...              1        0        0              1   \n590539  118.5  2.0  ...              1        0        0              1   \n\n        id_38_F  id_38_T  id_38_missing  DeviceType_desktop  \\\n0             0        0              1                   0   \n1             0        0              1                   0   \n2             0        0              1                   0   \n3             0        0              1                   0   \n4             0        1              0                   0   \n...         ...      ...            ...                 ...   \n590535        0        0              1                   0   \n590536        0        0              1                   0   \n590537        0        0              1                   0   \n590538        0        0              1                   0   \n590539        0        0              1                   0   \n\n        DeviceType_missing  DeviceType_mobile  \n0                        1                  0  \n1                        1                  0  \n2                        1                  0  \n3                        1                  0  \n4                        0                  1  \n...                    ...                ...  \n590535                   1                  0  \n590536                   1                  0  \n590537                   1                  0  \n590538                   1                  0  \n590539                   1                  0  \n\n[590540 rows x 474 columns]",
      "text/html": "<div>\n<style scoped>\n    .dataframe tbody tr th:only-of-type {\n        vertical-align: middle;\n    }\n\n    .dataframe tbody tr th {\n        vertical-align: top;\n    }\n\n    .dataframe thead th {\n        text-align: right;\n    }\n</style>\n<table border=\"1\" class=\"dataframe\">\n  <thead>\n    <tr style=\"text-align: right;\">\n      <th></th>\n      <th>isFraud</th>\n      <th>TransactionAmt</th>\n      <th>card1</th>\n      <th>card2</th>\n      <th>card3</th>\n      <th>card5</th>\n      <th>addr1</th>\n      <th>addr2</th>\n      <th>dist1</th>\n      <th>C1</th>\n      <th>...</th>\n      <th>id_36_missing</th>\n      <th>id_37_F</th>\n      <th>id_37_T</th>\n      <th>id_37_missing</th>\n      <th>id_38_F</th>\n      <th>id_38_T</th>\n      <th>id_38_missing</th>\n      <th>DeviceType_desktop</th>\n      <th>DeviceType_missing</th>\n      <th>DeviceType_mobile</th>\n    </tr>\n  </thead>\n  <tbody>\n    <tr>\n      <th>0</th>\n      <td>0</td>\n      <td>68.500000</td>\n      <td>13926</td>\n      <td>362.5</td>\n      <td>150.0</td>\n      <td>142.0</td>\n      <td>315.0</td>\n      <td>87.0</td>\n      <td>19.0</td>\n      <td>1.0</td>\n      <td>...</td>\n      <td>1</td>\n      <td>0</td>\n      <td>0</td>\n      <td>1</td>\n      <td>0</td>\n      <td>0</td>\n      <td>1</td>\n      <td>0</td>\n      <td>1</td>\n      <td>0</td>\n    </tr>\n    <tr>\n      <th>1</th>\n      <td>0</td>\n      <td>29.000000</td>\n      <td>2755</td>\n      <td>404.0</td>\n      <td>150.0</td>\n      <td>102.0</td>\n      <td>325.0</td>\n      <td>87.0</td>\n      <td>118.5</td>\n      <td>1.0</td>\n      <td>...</td>\n      <td>1</td>\n      <td>0</td>\n      <td>0</td>\n      <td>1</td>\n      <td>0</td>\n      <td>0</td>\n      <td>1</td>\n      <td>0</td>\n      <td>1</td>\n      <td>0</td>\n    </tr>\n    <tr>\n      <th>2</th>\n      <td>0</td>\n      <td>59.000000</td>\n      <td>4663</td>\n      <td>490.0</td>\n      <td>150.0</td>\n      <td>166.0</td>\n      <td>330.0</td>\n      <td>87.0</td>\n      <td>287.0</td>\n      <td>1.0</td>\n      <td>...</td>\n      <td>1</td>\n      <td>0</td>\n      <td>0</td>\n      <td>1</td>\n      <td>0</td>\n      <td>0</td>\n      <td>1</td>\n      <td>0</td>\n      <td>1</td>\n      <td>0</td>\n    </tr>\n    <tr>\n      <th>3</th>\n      <td>0</td>\n      <td>50.000000</td>\n      <td>18132</td>\n      <td>567.0</td>\n      <td>150.0</td>\n      <td>117.0</td>\n      <td>476.0</td>\n      <td>87.0</td>\n      <td>118.5</td>\n      <td>2.0</td>\n      <td>...</td>\n      <td>1</td>\n      <td>0</td>\n      <td>0</td>\n      <td>1</td>\n      <td>0</td>\n      <td>0</td>\n      <td>1</td>\n      <td>0</td>\n      <td>1</td>\n      <td>0</td>\n    </tr>\n    <tr>\n      <th>4</th>\n      <td>0</td>\n      <td>50.000000</td>\n      <td>4497</td>\n      <td>514.0</td>\n      <td>150.0</td>\n      <td>102.0</td>\n      <td>420.0</td>\n      <td>87.0</td>\n      <td>118.5</td>\n      <td>1.0</td>\n      <td>...</td>\n      <td>0</td>\n      <td>0</td>\n      <td>1</td>\n      <td>0</td>\n      <td>0</td>\n      <td>1</td>\n      <td>0</td>\n      <td>0</td>\n      <td>0</td>\n      <td>1</td>\n    </tr>\n    <tr>\n      <th>...</th>\n      <td>...</td>\n      <td>...</td>\n      <td>...</td>\n      <td>...</td>\n      <td>...</td>\n      <td>...</td>\n      <td>...</td>\n      <td>...</td>\n      <td>...</td>\n      <td>...</td>\n      <td>...</td>\n      <td>...</td>\n      <td>...</td>\n      <td>...</td>\n      <td>...</td>\n      <td>...</td>\n      <td>...</td>\n      <td>...</td>\n      <td>...</td>\n      <td>...</td>\n      <td>...</td>\n    </tr>\n    <tr>\n      <th>590535</th>\n      <td>0</td>\n      <td>49.000000</td>\n      <td>6550</td>\n      <td>362.5</td>\n      <td>150.0</td>\n      <td>226.0</td>\n      <td>272.0</td>\n      <td>87.0</td>\n      <td>48.0</td>\n      <td>2.0</td>\n      <td>...</td>\n      <td>1</td>\n      <td>0</td>\n      <td>0</td>\n      <td>1</td>\n      <td>0</td>\n      <td>0</td>\n      <td>1</td>\n      <td>0</td>\n      <td>1</td>\n      <td>0</td>\n    </tr>\n    <tr>\n      <th>590536</th>\n      <td>0</td>\n      <td>39.500000</td>\n      <td>10444</td>\n      <td>225.0</td>\n      <td>150.0</td>\n      <td>224.0</td>\n      <td>204.0</td>\n      <td>87.0</td>\n      <td>118.5</td>\n      <td>1.0</td>\n      <td>...</td>\n      <td>1</td>\n      <td>0</td>\n      <td>0</td>\n      <td>1</td>\n      <td>0</td>\n      <td>0</td>\n      <td>1</td>\n      <td>0</td>\n      <td>1</td>\n      <td>0</td>\n    </tr>\n    <tr>\n      <th>590537</th>\n      <td>0</td>\n      <td>30.953125</td>\n      <td>12037</td>\n      <td>595.0</td>\n      <td>150.0</td>\n      <td>224.0</td>\n      <td>231.0</td>\n      <td>87.0</td>\n      <td>118.5</td>\n      <td>1.0</td>\n      <td>...</td>\n      <td>1</td>\n      <td>0</td>\n      <td>0</td>\n      <td>1</td>\n      <td>0</td>\n      <td>0</td>\n      <td>1</td>\n      <td>0</td>\n      <td>1</td>\n      <td>0</td>\n    </tr>\n    <tr>\n      <th>590538</th>\n      <td>0</td>\n      <td>117.000000</td>\n      <td>7826</td>\n      <td>481.0</td>\n      <td>150.0</td>\n      <td>224.0</td>\n      <td>387.0</td>\n      <td>87.0</td>\n      <td>3.0</td>\n      <td>1.0</td>\n      <td>...</td>\n      <td>1</td>\n      <td>0</td>\n      <td>0</td>\n      <td>1</td>\n      <td>0</td>\n      <td>0</td>\n      <td>1</td>\n      <td>0</td>\n      <td>1</td>\n      <td>0</td>\n    </tr>\n    <tr>\n      <th>590539</th>\n      <td>0</td>\n      <td>280.000000</td>\n      <td>15066</td>\n      <td>170.0</td>\n      <td>150.0</td>\n      <td>102.0</td>\n      <td>299.0</td>\n      <td>87.0</td>\n      <td>118.5</td>\n      <td>2.0</td>\n      <td>...</td>\n      <td>1</td>\n      <td>0</td>\n      <td>0</td>\n      <td>1</td>\n      <td>0</td>\n      <td>0</td>\n      <td>1</td>\n      <td>0</td>\n      <td>1</td>\n      <td>0</td>\n    </tr>\n  </tbody>\n</table>\n<p>590540 rows × 474 columns</p>\n</div>"
     },
     "execution_count": 126,
     "metadata": {},
     "output_type": "execute_result"
    }
   ],
   "source": [
    "aux2"
   ],
   "metadata": {
    "collapsed": false,
    "pycharm": {
     "name": "#%%\n"
    }
   }
  },
  {
   "cell_type": "markdown",
   "source": [
    "Remove correlated features"
   ],
   "metadata": {
    "collapsed": false,
    "pycharm": {
     "name": "#%% md\n"
    }
   }
  },
  {
   "cell_type": "code",
   "execution_count": 24,
   "outputs": [],
   "source": [
    "corr_mat=aux2.corr().abs()"
   ],
   "metadata": {
    "collapsed": false,
    "pycharm": {
     "name": "#%%\n"
    }
   }
  },
  {
   "cell_type": "code",
   "execution_count": 25,
   "outputs": [],
   "source": [
    "upper_tri = corr_mat.where(np.triu(np.ones(corr_mat.shape),k=1).astype(bool))"
   ],
   "metadata": {
    "collapsed": false,
    "pycharm": {
     "name": "#%%\n"
    }
   }
  },
  {
   "cell_type": "code",
   "execution_count": 26,
   "outputs": [
    {
     "name": "stdout",
     "output_type": "stream",
     "text": [
      "375\n",
      "['C2', 'C4', 'C6', 'C7', 'C8', 'C9', 'C10', 'C11', 'C12', 'C14', 'D12', 'V2', 'V3', 'V4', 'V5', 'V6', 'V7', 'V8', 'V9', 'V10', 'V11', 'V13', 'V14', 'V15', 'V16', 'V17', 'V18', 'V19', 'V20', 'V21', 'V22', 'V23', 'V24', 'V25', 'V26', 'V27', 'V28', 'V29', 'V30', 'V31', 'V32', 'V33', 'V34', 'V36', 'V37', 'V38', 'V39', 'V40', 'V41', 'V42', 'V43', 'V44', 'V45', 'V46', 'V47', 'V48', 'V49', 'V50', 'V51', 'V52', 'V53', 'V54', 'V55', 'V56', 'V57', 'V58', 'V59', 'V60', 'V61', 'V62', 'V63', 'V64', 'V65', 'V66', 'V67', 'V68', 'V69', 'V70', 'V71', 'V72', 'V73', 'V74', 'V76', 'V77', 'V78', 'V79', 'V80', 'V81', 'V82', 'V83', 'V84', 'V85', 'V86', 'V87', 'V88', 'V89', 'V90', 'V91', 'V92', 'V93', 'V94', 'V96', 'V97', 'V98', 'V99', 'V100', 'V101', 'V102', 'V103', 'V104', 'V105', 'V106', 'V107', 'V108', 'V109', 'V110', 'V111', 'V112', 'V113', 'V114', 'V115', 'V116', 'V117', 'V118', 'V119', 'V120', 'V121', 'V122', 'V123', 'V124', 'V125', 'V126', 'V127', 'V128', 'V129', 'V130', 'V131', 'V132', 'V133', 'V134', 'V135', 'V136', 'V137', 'V138', 'V139', 'V140', 'V141', 'V142', 'V143', 'V144', 'V145', 'V146', 'V147', 'V148', 'V149', 'V150', 'V151', 'V152', 'V153', 'V154', 'V155', 'V156', 'V157', 'V158', 'V159', 'V160', 'V161', 'V162', 'V163', 'V164', 'V165', 'V166', 'V168', 'V169', 'V170', 'V171', 'V172', 'V173', 'V174', 'V175', 'V176', 'V177', 'V178', 'V179', 'V180', 'V181', 'V182', 'V183', 'V184', 'V185', 'V186', 'V187', 'V188', 'V189', 'V190', 'V191', 'V192', 'V193', 'V194', 'V195', 'V196', 'V197', 'V198', 'V199', 'V200', 'V201', 'V202', 'V203', 'V204', 'V205', 'V206', 'V207', 'V208', 'V209', 'V210', 'V211', 'V212', 'V213', 'V214', 'V215', 'V216', 'V217', 'V218', 'V219', 'V220', 'V221', 'V222', 'V223', 'V224', 'V225', 'V226', 'V227', 'V228', 'V229', 'V230', 'V231', 'V232', 'V233', 'V234', 'V235', 'V236', 'V237', 'V238', 'V239', 'V240', 'V241', 'V242', 'V243', 'V244', 'V245', 'V246', 'V247', 'V248', 'V249', 'V250', 'V251', 'V252', 'V253', 'V254', 'V255', 'V256', 'V257', 'V258', 'V259', 'V260', 'V261', 'V262', 'V263', 'V264', 'V265', 'V266', 'V267', 'V268', 'V269', 'V270', 'V271', 'V272', 'V273', 'V274', 'V275', 'V276', 'V277', 'V278', 'V280', 'V282', 'V287', 'V288', 'V289', 'V291', 'V292', 'V293', 'V294', 'V295', 'V296', 'V298', 'V299', 'V300', 'V301', 'V303', 'V304', 'V305', 'V306', 'V307', 'V308', 'V309', 'V310', 'V311', 'V312', 'V313', 'V314', 'V315', 'V316', 'V317', 'V318', 'V319', 'V320', 'V321', 'V322', 'V323', 'V324', 'V325', 'V326', 'V327', 'V328', 'V329', 'V330', 'V331', 'V332', 'V333', 'V334', 'V335', 'V336', 'V337', 'V338', 'V339', 'id_05', 'id_09', 'id_11', 'id_14', 'id_17', 'id_32', 'ProductCD_C', 'ProductCD_W', 'card4_missing', 'card4_visa', 'card6_debit', 'card6_missing', 'M1_T', 'M1_missing', 'M2_missing', 'M3_missing', 'M6_missing', 'M8_missing', 'M9_missing', 'id_12_missing', 'id_15_Found', 'id_15_missing', 'id_16_Found', 'id_16_NotFound', 'id_16_missing', 'id_28_Found', 'id_28_missing', 'id_29_Found', 'id_29_NotFound', 'id_29_missing', 'id_34_missing', 'id_35_F', 'id_35_T', 'id_35_missing', 'id_36_F', 'id_36_missing', 'id_37_T', 'id_37_missing', 'id_38_missing', 'DeviceType_missing']\n"
     ]
    }
   ],
   "source": [
    "to_drop = [column for column in upper_tri.columns if any(upper_tri[column] > 0.90)]\n",
    "print(len(to_drop))\n",
    "print(to_drop)"
   ],
   "metadata": {
    "collapsed": false,
    "pycharm": {
     "name": "#%%\n"
    }
   }
  },
  {
   "cell_type": "code",
   "execution_count": 27,
   "outputs": [
    {
     "data": {
      "text/plain": "    isFraud  TransactionAmt  card1       card2  card3  card5       addr1  \\\n0         0          68.500  13926  362.555511  150.0  142.0  315.000000   \n1         0          29.000   2755  404.000000  150.0  102.0  325.000000   \n2         0          59.000   4663  490.000000  150.0  166.0  330.000000   \n3         0          50.000  18132  567.000000  150.0  117.0  476.000000   \n4         0          50.000   4497  514.000000  150.0  102.0  420.000000   \n5         0          49.000   5937  555.000000  150.0  226.0  272.000000   \n6         0         159.000  12308  360.000000  150.0  166.0  126.000000   \n7         0         422.500  12695  490.000000  150.0  226.0  325.000000   \n8         0          15.000   2803  100.000000  150.0  226.0  337.000000   \n9         0         117.000  17399  111.000000  150.0  224.0  204.000000   \n10        0          75.887  16496  352.000000  117.0  134.0  290.733826   \n11        0          16.495   4461  375.000000  185.0  224.0  290.733826   \n12        0          50.000   3786  418.000000  150.0  226.0  204.000000   \n13        0          40.000  12866  303.000000  150.0  226.0  330.000000   \n14        0          10.500  11839  490.000000  150.0  226.0  226.000000   \n\n    addr2       dist1   C1  ...  id_34_match_status:-1  id_34_match_status:0  \\\n0    87.0   19.000000  1.0  ...                      0                     0   \n1    87.0  118.502197  1.0  ...                      0                     0   \n2    87.0  287.000000  1.0  ...                      0                     0   \n3    87.0  118.502197  2.0  ...                      0                     0   \n4    87.0  118.502197  1.0  ...                      0                     0   \n5    87.0   36.000000  1.0  ...                      0                     0   \n6    87.0    0.000000  1.0  ...                      0                     0   \n7    87.0  118.502197  1.0  ...                      0                     0   \n8    87.0  118.502197  1.0  ...                      0                     0   \n9    87.0   19.000000  2.0  ...                      0                     0   \n10  816.0  118.502197  1.0  ...                      0                     0   \n11  816.0  118.502197  1.0  ...                      0                     0   \n12   87.0  118.502197  4.0  ...                      0                     0   \n13   87.0  118.502197  6.0  ...                      0                     0   \n14   87.0  118.502197  1.0  ...                      0                     0   \n\n    id_34_match_status:1  id_34_match_status:2  id_36_T  id_37_F  id_38_F  \\\n0                      0                     0        0        0        0   \n1                      0                     0        0        0        0   \n2                      0                     0        0        0        0   \n3                      0                     0        0        0        0   \n4                      0                     1        0        0        0   \n5                      0                     0        0        0        0   \n6                      0                     0        0        0        0   \n7                      0                     0        0        0        0   \n8                      1                     0        0        1        0   \n9                      0                     0        0        0        0   \n10                     0                     0        0        0        0   \n11                     0                     0        0        0        0   \n12                     0                     0        0        0        0   \n13                     0                     0        0        0        0   \n14                     0                     0        0        0        0   \n\n    id_38_T  DeviceType_desktop  DeviceType_mobile  \n0         0                   0                  0  \n1         0                   0                  0  \n2         0                   0                  0  \n3         0                   0                  0  \n4         1                   0                  1  \n5         0                   0                  0  \n6         0                   0                  0  \n7         0                   0                  0  \n8         1                   0                  1  \n9         0                   0                  0  \n10        1                   1                  0  \n11        1                   1                  0  \n12        0                   0                  0  \n13        0                   0                  0  \n14        0                   0                  0  \n\n[15 rows x 99 columns]",
      "text/html": "<div>\n<style scoped>\n    .dataframe tbody tr th:only-of-type {\n        vertical-align: middle;\n    }\n\n    .dataframe tbody tr th {\n        vertical-align: top;\n    }\n\n    .dataframe thead th {\n        text-align: right;\n    }\n</style>\n<table border=\"1\" class=\"dataframe\">\n  <thead>\n    <tr style=\"text-align: right;\">\n      <th></th>\n      <th>isFraud</th>\n      <th>TransactionAmt</th>\n      <th>card1</th>\n      <th>card2</th>\n      <th>card3</th>\n      <th>card5</th>\n      <th>addr1</th>\n      <th>addr2</th>\n      <th>dist1</th>\n      <th>C1</th>\n      <th>...</th>\n      <th>id_34_match_status:-1</th>\n      <th>id_34_match_status:0</th>\n      <th>id_34_match_status:1</th>\n      <th>id_34_match_status:2</th>\n      <th>id_36_T</th>\n      <th>id_37_F</th>\n      <th>id_38_F</th>\n      <th>id_38_T</th>\n      <th>DeviceType_desktop</th>\n      <th>DeviceType_mobile</th>\n    </tr>\n  </thead>\n  <tbody>\n    <tr>\n      <th>0</th>\n      <td>0</td>\n      <td>68.500</td>\n      <td>13926</td>\n      <td>362.555511</td>\n      <td>150.0</td>\n      <td>142.0</td>\n      <td>315.000000</td>\n      <td>87.0</td>\n      <td>19.000000</td>\n      <td>1.0</td>\n      <td>...</td>\n      <td>0</td>\n      <td>0</td>\n      <td>0</td>\n      <td>0</td>\n      <td>0</td>\n      <td>0</td>\n      <td>0</td>\n      <td>0</td>\n      <td>0</td>\n      <td>0</td>\n    </tr>\n    <tr>\n      <th>1</th>\n      <td>0</td>\n      <td>29.000</td>\n      <td>2755</td>\n      <td>404.000000</td>\n      <td>150.0</td>\n      <td>102.0</td>\n      <td>325.000000</td>\n      <td>87.0</td>\n      <td>118.502197</td>\n      <td>1.0</td>\n      <td>...</td>\n      <td>0</td>\n      <td>0</td>\n      <td>0</td>\n      <td>0</td>\n      <td>0</td>\n      <td>0</td>\n      <td>0</td>\n      <td>0</td>\n      <td>0</td>\n      <td>0</td>\n    </tr>\n    <tr>\n      <th>2</th>\n      <td>0</td>\n      <td>59.000</td>\n      <td>4663</td>\n      <td>490.000000</td>\n      <td>150.0</td>\n      <td>166.0</td>\n      <td>330.000000</td>\n      <td>87.0</td>\n      <td>287.000000</td>\n      <td>1.0</td>\n      <td>...</td>\n      <td>0</td>\n      <td>0</td>\n      <td>0</td>\n      <td>0</td>\n      <td>0</td>\n      <td>0</td>\n      <td>0</td>\n      <td>0</td>\n      <td>0</td>\n      <td>0</td>\n    </tr>\n    <tr>\n      <th>3</th>\n      <td>0</td>\n      <td>50.000</td>\n      <td>18132</td>\n      <td>567.000000</td>\n      <td>150.0</td>\n      <td>117.0</td>\n      <td>476.000000</td>\n      <td>87.0</td>\n      <td>118.502197</td>\n      <td>2.0</td>\n      <td>...</td>\n      <td>0</td>\n      <td>0</td>\n      <td>0</td>\n      <td>0</td>\n      <td>0</td>\n      <td>0</td>\n      <td>0</td>\n      <td>0</td>\n      <td>0</td>\n      <td>0</td>\n    </tr>\n    <tr>\n      <th>4</th>\n      <td>0</td>\n      <td>50.000</td>\n      <td>4497</td>\n      <td>514.000000</td>\n      <td>150.0</td>\n      <td>102.0</td>\n      <td>420.000000</td>\n      <td>87.0</td>\n      <td>118.502197</td>\n      <td>1.0</td>\n      <td>...</td>\n      <td>0</td>\n      <td>0</td>\n      <td>0</td>\n      <td>1</td>\n      <td>0</td>\n      <td>0</td>\n      <td>0</td>\n      <td>1</td>\n      <td>0</td>\n      <td>1</td>\n    </tr>\n    <tr>\n      <th>5</th>\n      <td>0</td>\n      <td>49.000</td>\n      <td>5937</td>\n      <td>555.000000</td>\n      <td>150.0</td>\n      <td>226.0</td>\n      <td>272.000000</td>\n      <td>87.0</td>\n      <td>36.000000</td>\n      <td>1.0</td>\n      <td>...</td>\n      <td>0</td>\n      <td>0</td>\n      <td>0</td>\n      <td>0</td>\n      <td>0</td>\n      <td>0</td>\n      <td>0</td>\n      <td>0</td>\n      <td>0</td>\n      <td>0</td>\n    </tr>\n    <tr>\n      <th>6</th>\n      <td>0</td>\n      <td>159.000</td>\n      <td>12308</td>\n      <td>360.000000</td>\n      <td>150.0</td>\n      <td>166.0</td>\n      <td>126.000000</td>\n      <td>87.0</td>\n      <td>0.000000</td>\n      <td>1.0</td>\n      <td>...</td>\n      <td>0</td>\n      <td>0</td>\n      <td>0</td>\n      <td>0</td>\n      <td>0</td>\n      <td>0</td>\n      <td>0</td>\n      <td>0</td>\n      <td>0</td>\n      <td>0</td>\n    </tr>\n    <tr>\n      <th>7</th>\n      <td>0</td>\n      <td>422.500</td>\n      <td>12695</td>\n      <td>490.000000</td>\n      <td>150.0</td>\n      <td>226.0</td>\n      <td>325.000000</td>\n      <td>87.0</td>\n      <td>118.502197</td>\n      <td>1.0</td>\n      <td>...</td>\n      <td>0</td>\n      <td>0</td>\n      <td>0</td>\n      <td>0</td>\n      <td>0</td>\n      <td>0</td>\n      <td>0</td>\n      <td>0</td>\n      <td>0</td>\n      <td>0</td>\n    </tr>\n    <tr>\n      <th>8</th>\n      <td>0</td>\n      <td>15.000</td>\n      <td>2803</td>\n      <td>100.000000</td>\n      <td>150.0</td>\n      <td>226.0</td>\n      <td>337.000000</td>\n      <td>87.0</td>\n      <td>118.502197</td>\n      <td>1.0</td>\n      <td>...</td>\n      <td>0</td>\n      <td>0</td>\n      <td>1</td>\n      <td>0</td>\n      <td>0</td>\n      <td>1</td>\n      <td>0</td>\n      <td>1</td>\n      <td>0</td>\n      <td>1</td>\n    </tr>\n    <tr>\n      <th>9</th>\n      <td>0</td>\n      <td>117.000</td>\n      <td>17399</td>\n      <td>111.000000</td>\n      <td>150.0</td>\n      <td>224.0</td>\n      <td>204.000000</td>\n      <td>87.0</td>\n      <td>19.000000</td>\n      <td>2.0</td>\n      <td>...</td>\n      <td>0</td>\n      <td>0</td>\n      <td>0</td>\n      <td>0</td>\n      <td>0</td>\n      <td>0</td>\n      <td>0</td>\n      <td>0</td>\n      <td>0</td>\n      <td>0</td>\n    </tr>\n    <tr>\n      <th>10</th>\n      <td>0</td>\n      <td>75.887</td>\n      <td>16496</td>\n      <td>352.000000</td>\n      <td>117.0</td>\n      <td>134.0</td>\n      <td>290.733826</td>\n      <td>816.0</td>\n      <td>118.502197</td>\n      <td>1.0</td>\n      <td>...</td>\n      <td>0</td>\n      <td>0</td>\n      <td>0</td>\n      <td>0</td>\n      <td>0</td>\n      <td>0</td>\n      <td>0</td>\n      <td>1</td>\n      <td>1</td>\n      <td>0</td>\n    </tr>\n    <tr>\n      <th>11</th>\n      <td>0</td>\n      <td>16.495</td>\n      <td>4461</td>\n      <td>375.000000</td>\n      <td>185.0</td>\n      <td>224.0</td>\n      <td>290.733826</td>\n      <td>816.0</td>\n      <td>118.502197</td>\n      <td>1.0</td>\n      <td>...</td>\n      <td>0</td>\n      <td>0</td>\n      <td>0</td>\n      <td>0</td>\n      <td>0</td>\n      <td>0</td>\n      <td>0</td>\n      <td>1</td>\n      <td>1</td>\n      <td>0</td>\n    </tr>\n    <tr>\n      <th>12</th>\n      <td>0</td>\n      <td>50.000</td>\n      <td>3786</td>\n      <td>418.000000</td>\n      <td>150.0</td>\n      <td>226.0</td>\n      <td>204.000000</td>\n      <td>87.0</td>\n      <td>118.502197</td>\n      <td>4.0</td>\n      <td>...</td>\n      <td>0</td>\n      <td>0</td>\n      <td>0</td>\n      <td>0</td>\n      <td>0</td>\n      <td>0</td>\n      <td>0</td>\n      <td>0</td>\n      <td>0</td>\n      <td>0</td>\n    </tr>\n    <tr>\n      <th>13</th>\n      <td>0</td>\n      <td>40.000</td>\n      <td>12866</td>\n      <td>303.000000</td>\n      <td>150.0</td>\n      <td>226.0</td>\n      <td>330.000000</td>\n      <td>87.0</td>\n      <td>118.502197</td>\n      <td>6.0</td>\n      <td>...</td>\n      <td>0</td>\n      <td>0</td>\n      <td>0</td>\n      <td>0</td>\n      <td>0</td>\n      <td>0</td>\n      <td>0</td>\n      <td>0</td>\n      <td>0</td>\n      <td>0</td>\n    </tr>\n    <tr>\n      <th>14</th>\n      <td>0</td>\n      <td>10.500</td>\n      <td>11839</td>\n      <td>490.000000</td>\n      <td>150.0</td>\n      <td>226.0</td>\n      <td>226.000000</td>\n      <td>87.0</td>\n      <td>118.502197</td>\n      <td>1.0</td>\n      <td>...</td>\n      <td>0</td>\n      <td>0</td>\n      <td>0</td>\n      <td>0</td>\n      <td>0</td>\n      <td>0</td>\n      <td>0</td>\n      <td>0</td>\n      <td>0</td>\n      <td>0</td>\n    </tr>\n  </tbody>\n</table>\n<p>15 rows × 99 columns</p>\n</div>"
     },
     "execution_count": 27,
     "metadata": {},
     "output_type": "execute_result"
    }
   ],
   "source": [
    "aux2.drop(aux2[to_drop],axis=1,inplace=True)\n",
    "aux2.head(n=15)"
   ],
   "metadata": {
    "collapsed": false,
    "pycharm": {
     "name": "#%%\n"
    }
   }
  },
  {
   "cell_type": "markdown",
   "source": [
    "FEATURE SCALLING"
   ],
   "metadata": {
    "collapsed": false,
    "pycharm": {
     "name": "#%% md\n"
    }
   }
  },
  {
   "cell_type": "code",
   "execution_count": 32,
   "outputs": [],
   "source": [
    "from sklearn.preprocessing import MinMaxScaler"
   ],
   "metadata": {
    "collapsed": false,
    "pycharm": {
     "name": "#%%\n"
    }
   }
  },
  {
   "cell_type": "code",
   "execution_count": 144,
   "outputs": [
    {
     "data": {
      "text/plain": "        isFraud  TransactionAmt     card1     card2     card3     card5  \\\n0           0.0        0.002137  0.743044  0.525111  0.138122  0.112299   \n1           0.0        0.000900  0.100885  0.608000  0.138122  0.005348   \n2           0.0        0.001840  0.210566  0.780000  0.138122  0.176471   \n3           0.0        0.001558  0.984824  0.934000  0.138122  0.045455   \n4           0.0        0.001558  0.201023  0.828000  0.138122  0.005348   \n...         ...             ...       ...       ...       ...       ...   \n590535      0.0        0.001526  0.319039  0.525111  0.138122  0.336898   \n590536      0.0        0.001229  0.542883  0.250000  0.138122  0.331551   \n590537      0.0        0.000961  0.634456  0.990000  0.138122  0.331551   \n590538      0.0        0.003656  0.392389  0.762000  0.138122  0.331551   \n590539      0.0        0.008758  0.808577  0.140000  0.138122  0.005348   \n\n           addr1     addr2     dist1        C1  ...  id_34_match_status:-1  \\\n0       0.488636  0.396907  0.001847  0.000213  ...                    0.0   \n1       0.511364  0.396907  0.011521  0.000213  ...                    0.0   \n2       0.522727  0.396907  0.027902  0.000213  ...                    0.0   \n3       0.854545  0.396907  0.011521  0.000427  ...                    0.0   \n4       0.727273  0.396907  0.011521  0.000213  ...                    0.0   \n...          ...       ...       ...       ...  ...                    ...   \n590535  0.390909  0.396907  0.004667  0.000427  ...                    0.0   \n590536  0.236364  0.396907  0.011521  0.000213  ...                    0.0   \n590537  0.297727  0.396907  0.011521  0.000213  ...                    0.0   \n590538  0.652273  0.396907  0.000292  0.000213  ...                    0.0   \n590539  0.452273  0.396907  0.011521  0.000427  ...                    0.0   \n\n        id_34_match_status:0  id_34_match_status:1  id_34_match_status:2  \\\n0                        0.0                   0.0                   0.0   \n1                        0.0                   0.0                   0.0   \n2                        0.0                   0.0                   0.0   \n3                        0.0                   0.0                   0.0   \n4                        0.0                   0.0                   1.0   \n...                      ...                   ...                   ...   \n590535                   0.0                   0.0                   0.0   \n590536                   0.0                   0.0                   0.0   \n590537                   0.0                   0.0                   0.0   \n590538                   0.0                   0.0                   0.0   \n590539                   0.0                   0.0                   0.0   \n\n        id_36_T  id_37_F  id_38_F  id_38_T  DeviceType_desktop  \\\n0           0.0      0.0      0.0      0.0                 0.0   \n1           0.0      0.0      0.0      0.0                 0.0   \n2           0.0      0.0      0.0      0.0                 0.0   \n3           0.0      0.0      0.0      0.0                 0.0   \n4           0.0      0.0      0.0      1.0                 0.0   \n...         ...      ...      ...      ...                 ...   \n590535      0.0      0.0      0.0      0.0                 0.0   \n590536      0.0      0.0      0.0      0.0                 0.0   \n590537      0.0      0.0      0.0      0.0                 0.0   \n590538      0.0      0.0      0.0      0.0                 0.0   \n590539      0.0      0.0      0.0      0.0                 0.0   \n\n        DeviceType_mobile  \n0                     0.0  \n1                     0.0  \n2                     0.0  \n3                     0.0  \n4                     1.0  \n...                   ...  \n590535                0.0  \n590536                0.0  \n590537                0.0  \n590538                0.0  \n590539                0.0  \n\n[590540 rows x 113 columns]",
      "text/html": "<div>\n<style scoped>\n    .dataframe tbody tr th:only-of-type {\n        vertical-align: middle;\n    }\n\n    .dataframe tbody tr th {\n        vertical-align: top;\n    }\n\n    .dataframe thead th {\n        text-align: right;\n    }\n</style>\n<table border=\"1\" class=\"dataframe\">\n  <thead>\n    <tr style=\"text-align: right;\">\n      <th></th>\n      <th>isFraud</th>\n      <th>TransactionAmt</th>\n      <th>card1</th>\n      <th>card2</th>\n      <th>card3</th>\n      <th>card5</th>\n      <th>addr1</th>\n      <th>addr2</th>\n      <th>dist1</th>\n      <th>C1</th>\n      <th>...</th>\n      <th>id_34_match_status:-1</th>\n      <th>id_34_match_status:0</th>\n      <th>id_34_match_status:1</th>\n      <th>id_34_match_status:2</th>\n      <th>id_36_T</th>\n      <th>id_37_F</th>\n      <th>id_38_F</th>\n      <th>id_38_T</th>\n      <th>DeviceType_desktop</th>\n      <th>DeviceType_mobile</th>\n    </tr>\n  </thead>\n  <tbody>\n    <tr>\n      <th>0</th>\n      <td>0.0</td>\n      <td>0.002137</td>\n      <td>0.743044</td>\n      <td>0.525111</td>\n      <td>0.138122</td>\n      <td>0.112299</td>\n      <td>0.488636</td>\n      <td>0.396907</td>\n      <td>0.001847</td>\n      <td>0.000213</td>\n      <td>...</td>\n      <td>0.0</td>\n      <td>0.0</td>\n      <td>0.0</td>\n      <td>0.0</td>\n      <td>0.0</td>\n      <td>0.0</td>\n      <td>0.0</td>\n      <td>0.0</td>\n      <td>0.0</td>\n      <td>0.0</td>\n    </tr>\n    <tr>\n      <th>1</th>\n      <td>0.0</td>\n      <td>0.000900</td>\n      <td>0.100885</td>\n      <td>0.608000</td>\n      <td>0.138122</td>\n      <td>0.005348</td>\n      <td>0.511364</td>\n      <td>0.396907</td>\n      <td>0.011521</td>\n      <td>0.000213</td>\n      <td>...</td>\n      <td>0.0</td>\n      <td>0.0</td>\n      <td>0.0</td>\n      <td>0.0</td>\n      <td>0.0</td>\n      <td>0.0</td>\n      <td>0.0</td>\n      <td>0.0</td>\n      <td>0.0</td>\n      <td>0.0</td>\n    </tr>\n    <tr>\n      <th>2</th>\n      <td>0.0</td>\n      <td>0.001840</td>\n      <td>0.210566</td>\n      <td>0.780000</td>\n      <td>0.138122</td>\n      <td>0.176471</td>\n      <td>0.522727</td>\n      <td>0.396907</td>\n      <td>0.027902</td>\n      <td>0.000213</td>\n      <td>...</td>\n      <td>0.0</td>\n      <td>0.0</td>\n      <td>0.0</td>\n      <td>0.0</td>\n      <td>0.0</td>\n      <td>0.0</td>\n      <td>0.0</td>\n      <td>0.0</td>\n      <td>0.0</td>\n      <td>0.0</td>\n    </tr>\n    <tr>\n      <th>3</th>\n      <td>0.0</td>\n      <td>0.001558</td>\n      <td>0.984824</td>\n      <td>0.934000</td>\n      <td>0.138122</td>\n      <td>0.045455</td>\n      <td>0.854545</td>\n      <td>0.396907</td>\n      <td>0.011521</td>\n      <td>0.000427</td>\n      <td>...</td>\n      <td>0.0</td>\n      <td>0.0</td>\n      <td>0.0</td>\n      <td>0.0</td>\n      <td>0.0</td>\n      <td>0.0</td>\n      <td>0.0</td>\n      <td>0.0</td>\n      <td>0.0</td>\n      <td>0.0</td>\n    </tr>\n    <tr>\n      <th>4</th>\n      <td>0.0</td>\n      <td>0.001558</td>\n      <td>0.201023</td>\n      <td>0.828000</td>\n      <td>0.138122</td>\n      <td>0.005348</td>\n      <td>0.727273</td>\n      <td>0.396907</td>\n      <td>0.011521</td>\n      <td>0.000213</td>\n      <td>...</td>\n      <td>0.0</td>\n      <td>0.0</td>\n      <td>0.0</td>\n      <td>1.0</td>\n      <td>0.0</td>\n      <td>0.0</td>\n      <td>0.0</td>\n      <td>1.0</td>\n      <td>0.0</td>\n      <td>1.0</td>\n    </tr>\n    <tr>\n      <th>...</th>\n      <td>...</td>\n      <td>...</td>\n      <td>...</td>\n      <td>...</td>\n      <td>...</td>\n      <td>...</td>\n      <td>...</td>\n      <td>...</td>\n      <td>...</td>\n      <td>...</td>\n      <td>...</td>\n      <td>...</td>\n      <td>...</td>\n      <td>...</td>\n      <td>...</td>\n      <td>...</td>\n      <td>...</td>\n      <td>...</td>\n      <td>...</td>\n      <td>...</td>\n      <td>...</td>\n    </tr>\n    <tr>\n      <th>590535</th>\n      <td>0.0</td>\n      <td>0.001526</td>\n      <td>0.319039</td>\n      <td>0.525111</td>\n      <td>0.138122</td>\n      <td>0.336898</td>\n      <td>0.390909</td>\n      <td>0.396907</td>\n      <td>0.004667</td>\n      <td>0.000427</td>\n      <td>...</td>\n      <td>0.0</td>\n      <td>0.0</td>\n      <td>0.0</td>\n      <td>0.0</td>\n      <td>0.0</td>\n      <td>0.0</td>\n      <td>0.0</td>\n      <td>0.0</td>\n      <td>0.0</td>\n      <td>0.0</td>\n    </tr>\n    <tr>\n      <th>590536</th>\n      <td>0.0</td>\n      <td>0.001229</td>\n      <td>0.542883</td>\n      <td>0.250000</td>\n      <td>0.138122</td>\n      <td>0.331551</td>\n      <td>0.236364</td>\n      <td>0.396907</td>\n      <td>0.011521</td>\n      <td>0.000213</td>\n      <td>...</td>\n      <td>0.0</td>\n      <td>0.0</td>\n      <td>0.0</td>\n      <td>0.0</td>\n      <td>0.0</td>\n      <td>0.0</td>\n      <td>0.0</td>\n      <td>0.0</td>\n      <td>0.0</td>\n      <td>0.0</td>\n    </tr>\n    <tr>\n      <th>590537</th>\n      <td>0.0</td>\n      <td>0.000961</td>\n      <td>0.634456</td>\n      <td>0.990000</td>\n      <td>0.138122</td>\n      <td>0.331551</td>\n      <td>0.297727</td>\n      <td>0.396907</td>\n      <td>0.011521</td>\n      <td>0.000213</td>\n      <td>...</td>\n      <td>0.0</td>\n      <td>0.0</td>\n      <td>0.0</td>\n      <td>0.0</td>\n      <td>0.0</td>\n      <td>0.0</td>\n      <td>0.0</td>\n      <td>0.0</td>\n      <td>0.0</td>\n      <td>0.0</td>\n    </tr>\n    <tr>\n      <th>590538</th>\n      <td>0.0</td>\n      <td>0.003656</td>\n      <td>0.392389</td>\n      <td>0.762000</td>\n      <td>0.138122</td>\n      <td>0.331551</td>\n      <td>0.652273</td>\n      <td>0.396907</td>\n      <td>0.000292</td>\n      <td>0.000213</td>\n      <td>...</td>\n      <td>0.0</td>\n      <td>0.0</td>\n      <td>0.0</td>\n      <td>0.0</td>\n      <td>0.0</td>\n      <td>0.0</td>\n      <td>0.0</td>\n      <td>0.0</td>\n      <td>0.0</td>\n      <td>0.0</td>\n    </tr>\n    <tr>\n      <th>590539</th>\n      <td>0.0</td>\n      <td>0.008758</td>\n      <td>0.808577</td>\n      <td>0.140000</td>\n      <td>0.138122</td>\n      <td>0.005348</td>\n      <td>0.452273</td>\n      <td>0.396907</td>\n      <td>0.011521</td>\n      <td>0.000427</td>\n      <td>...</td>\n      <td>0.0</td>\n      <td>0.0</td>\n      <td>0.0</td>\n      <td>0.0</td>\n      <td>0.0</td>\n      <td>0.0</td>\n      <td>0.0</td>\n      <td>0.0</td>\n      <td>0.0</td>\n      <td>0.0</td>\n    </tr>\n  </tbody>\n</table>\n<p>590540 rows × 113 columns</p>\n</div>"
     },
     "execution_count": 144,
     "metadata": {},
     "output_type": "execute_result"
    }
   ],
   "source": [
    "scaler = MinMaxScaler()\n",
    "aux3=scaler.fit_transform(aux2)\n",
    "aux4=pd.DataFrame(aux3,index=aux2.index,columns=aux2.columns)\n",
    "aux4"
   ],
   "metadata": {
    "collapsed": false,
    "pycharm": {
     "name": "#%%\n"
    }
   }
  },
  {
   "cell_type": "code",
   "execution_count": 39,
   "outputs": [
    {
     "data": {
      "text/plain": "             isFraud  TransactionAmt          card1          card2  \\\ncount  590540.000000   590540.000000  590540.000000  590540.000000   \nmean        0.034990        0.004220       0.511539       0.525111   \nstd         0.183755        0.007489       0.281741       0.313190   \nmin         0.000000        0.000000       0.000000       0.000000   \n25%         0.000000        0.001349       0.288515       0.230000   \n50%         0.000000        0.002145       0.498850       0.522000   \n75%         0.000000        0.003906       0.757875       0.824000   \nmax         1.000000        1.000000       1.000000       1.000000   \n\n               card3          card5          addr1          addr2  \\\ncount  590540.000000  590540.000000  590540.000000  590540.000000   \nmean        0.149208       0.270749       0.433486       0.463097   \nstd         0.053865       0.126242       0.217987       0.190421   \nmin         0.000000       0.000000       0.000000       0.000000   \n25%         0.138122       0.176471       0.238636       0.396907   \n50%         0.138122       0.336898       0.433486       0.396907   \n75%         0.138122       0.336898       0.515909       0.396907   \nmax         1.000000       1.000000       1.000000       1.000000   \n\n               dist1             C1  ...  id_34_match_status:-1  \\\ncount  590540.000000  590540.000000  ...          590540.000000   \nmean        0.011521       0.003008  ...               0.000005   \nstd         0.022964       0.028510  ...               0.002254   \nmin         0.000000       0.000000  ...               0.000000   \n25%         0.001264       0.000213  ...               0.000000   \n50%         0.011521       0.000213  ...               0.000000   \n75%         0.011521       0.000640  ...               0.000000   \nmax         1.000000       1.000000  ...               1.000000   \n\n       id_34_match_status:0  id_34_match_status:1  id_34_match_status:2  \\\ncount         590540.000000         590540.000000         590540.000000   \nmean               0.000703              0.029424              0.101621   \nstd                0.026500              0.168992              0.302149   \nmin                0.000000              0.000000              0.000000   \n25%                0.000000              0.000000              0.000000   \n50%                0.000000              0.000000              0.000000   \n75%                0.000000              0.000000              0.000000   \nmax                1.000000              1.000000              1.000000   \n\n             id_36_T        id_37_F        id_38_F        id_38_T  \\\ncount  590540.000000  590540.000000  590540.000000  590540.000000   \nmean        0.011716       0.051704       0.125177       0.113562   \nstd         0.107606       0.221428       0.330920       0.317279   \nmin         0.000000       0.000000       0.000000       0.000000   \n25%         0.000000       0.000000       0.000000       0.000000   \n50%         0.000000       0.000000       0.000000       0.000000   \n75%         0.000000       0.000000       0.000000       0.000000   \nmax         1.000000       1.000000       1.000000       1.000000   \n\n       DeviceType_desktop  DeviceType_mobile  \ncount       590540.000000      590540.000000  \nmean             0.144215           0.094227  \nstd              0.351308           0.292145  \nmin              0.000000           0.000000  \n25%              0.000000           0.000000  \n50%              0.000000           0.000000  \n75%              0.000000           0.000000  \nmax              1.000000           1.000000  \n\n[8 rows x 113 columns]",
      "text/html": "<div>\n<style scoped>\n    .dataframe tbody tr th:only-of-type {\n        vertical-align: middle;\n    }\n\n    .dataframe tbody tr th {\n        vertical-align: top;\n    }\n\n    .dataframe thead th {\n        text-align: right;\n    }\n</style>\n<table border=\"1\" class=\"dataframe\">\n  <thead>\n    <tr style=\"text-align: right;\">\n      <th></th>\n      <th>isFraud</th>\n      <th>TransactionAmt</th>\n      <th>card1</th>\n      <th>card2</th>\n      <th>card3</th>\n      <th>card5</th>\n      <th>addr1</th>\n      <th>addr2</th>\n      <th>dist1</th>\n      <th>C1</th>\n      <th>...</th>\n      <th>id_34_match_status:-1</th>\n      <th>id_34_match_status:0</th>\n      <th>id_34_match_status:1</th>\n      <th>id_34_match_status:2</th>\n      <th>id_36_T</th>\n      <th>id_37_F</th>\n      <th>id_38_F</th>\n      <th>id_38_T</th>\n      <th>DeviceType_desktop</th>\n      <th>DeviceType_mobile</th>\n    </tr>\n  </thead>\n  <tbody>\n    <tr>\n      <th>count</th>\n      <td>590540.000000</td>\n      <td>590540.000000</td>\n      <td>590540.000000</td>\n      <td>590540.000000</td>\n      <td>590540.000000</td>\n      <td>590540.000000</td>\n      <td>590540.000000</td>\n      <td>590540.000000</td>\n      <td>590540.000000</td>\n      <td>590540.000000</td>\n      <td>...</td>\n      <td>590540.000000</td>\n      <td>590540.000000</td>\n      <td>590540.000000</td>\n      <td>590540.000000</td>\n      <td>590540.000000</td>\n      <td>590540.000000</td>\n      <td>590540.000000</td>\n      <td>590540.000000</td>\n      <td>590540.000000</td>\n      <td>590540.000000</td>\n    </tr>\n    <tr>\n      <th>mean</th>\n      <td>0.034990</td>\n      <td>0.004220</td>\n      <td>0.511539</td>\n      <td>0.525111</td>\n      <td>0.149208</td>\n      <td>0.270749</td>\n      <td>0.433486</td>\n      <td>0.463097</td>\n      <td>0.011521</td>\n      <td>0.003008</td>\n      <td>...</td>\n      <td>0.000005</td>\n      <td>0.000703</td>\n      <td>0.029424</td>\n      <td>0.101621</td>\n      <td>0.011716</td>\n      <td>0.051704</td>\n      <td>0.125177</td>\n      <td>0.113562</td>\n      <td>0.144215</td>\n      <td>0.094227</td>\n    </tr>\n    <tr>\n      <th>std</th>\n      <td>0.183755</td>\n      <td>0.007489</td>\n      <td>0.281741</td>\n      <td>0.313190</td>\n      <td>0.053865</td>\n      <td>0.126242</td>\n      <td>0.217987</td>\n      <td>0.190421</td>\n      <td>0.022964</td>\n      <td>0.028510</td>\n      <td>...</td>\n      <td>0.002254</td>\n      <td>0.026500</td>\n      <td>0.168992</td>\n      <td>0.302149</td>\n      <td>0.107606</td>\n      <td>0.221428</td>\n      <td>0.330920</td>\n      <td>0.317279</td>\n      <td>0.351308</td>\n      <td>0.292145</td>\n    </tr>\n    <tr>\n      <th>min</th>\n      <td>0.000000</td>\n      <td>0.000000</td>\n      <td>0.000000</td>\n      <td>0.000000</td>\n      <td>0.000000</td>\n      <td>0.000000</td>\n      <td>0.000000</td>\n      <td>0.000000</td>\n      <td>0.000000</td>\n      <td>0.000000</td>\n      <td>...</td>\n      <td>0.000000</td>\n      <td>0.000000</td>\n      <td>0.000000</td>\n      <td>0.000000</td>\n      <td>0.000000</td>\n      <td>0.000000</td>\n      <td>0.000000</td>\n      <td>0.000000</td>\n      <td>0.000000</td>\n      <td>0.000000</td>\n    </tr>\n    <tr>\n      <th>25%</th>\n      <td>0.000000</td>\n      <td>0.001349</td>\n      <td>0.288515</td>\n      <td>0.230000</td>\n      <td>0.138122</td>\n      <td>0.176471</td>\n      <td>0.238636</td>\n      <td>0.396907</td>\n      <td>0.001264</td>\n      <td>0.000213</td>\n      <td>...</td>\n      <td>0.000000</td>\n      <td>0.000000</td>\n      <td>0.000000</td>\n      <td>0.000000</td>\n      <td>0.000000</td>\n      <td>0.000000</td>\n      <td>0.000000</td>\n      <td>0.000000</td>\n      <td>0.000000</td>\n      <td>0.000000</td>\n    </tr>\n    <tr>\n      <th>50%</th>\n      <td>0.000000</td>\n      <td>0.002145</td>\n      <td>0.498850</td>\n      <td>0.522000</td>\n      <td>0.138122</td>\n      <td>0.336898</td>\n      <td>0.433486</td>\n      <td>0.396907</td>\n      <td>0.011521</td>\n      <td>0.000213</td>\n      <td>...</td>\n      <td>0.000000</td>\n      <td>0.000000</td>\n      <td>0.000000</td>\n      <td>0.000000</td>\n      <td>0.000000</td>\n      <td>0.000000</td>\n      <td>0.000000</td>\n      <td>0.000000</td>\n      <td>0.000000</td>\n      <td>0.000000</td>\n    </tr>\n    <tr>\n      <th>75%</th>\n      <td>0.000000</td>\n      <td>0.003906</td>\n      <td>0.757875</td>\n      <td>0.824000</td>\n      <td>0.138122</td>\n      <td>0.336898</td>\n      <td>0.515909</td>\n      <td>0.396907</td>\n      <td>0.011521</td>\n      <td>0.000640</td>\n      <td>...</td>\n      <td>0.000000</td>\n      <td>0.000000</td>\n      <td>0.000000</td>\n      <td>0.000000</td>\n      <td>0.000000</td>\n      <td>0.000000</td>\n      <td>0.000000</td>\n      <td>0.000000</td>\n      <td>0.000000</td>\n      <td>0.000000</td>\n    </tr>\n    <tr>\n      <th>max</th>\n      <td>1.000000</td>\n      <td>1.000000</td>\n      <td>1.000000</td>\n      <td>1.000000</td>\n      <td>1.000000</td>\n      <td>1.000000</td>\n      <td>1.000000</td>\n      <td>1.000000</td>\n      <td>1.000000</td>\n      <td>1.000000</td>\n      <td>...</td>\n      <td>1.000000</td>\n      <td>1.000000</td>\n      <td>1.000000</td>\n      <td>1.000000</td>\n      <td>1.000000</td>\n      <td>1.000000</td>\n      <td>1.000000</td>\n      <td>1.000000</td>\n      <td>1.000000</td>\n      <td>1.000000</td>\n    </tr>\n  </tbody>\n</table>\n<p>8 rows × 113 columns</p>\n</div>"
     },
     "execution_count": 39,
     "metadata": {},
     "output_type": "execute_result"
    }
   ],
   "source": [
    "\n",
    "aux4.describe()"
   ],
   "metadata": {
    "collapsed": false,
    "pycharm": {
     "name": "#%%\n"
    }
   }
  },
  {
   "cell_type": "code",
   "execution_count": 145,
   "outputs": [],
   "source": [
    "aux4['id_34_match_status:minus1']=aux4['id_34_match_status:-1']\n",
    "aux4.drop('id_34_match_status:-1',axis=1,inplace=True)\n",
    "import re\n",
    "aux4 = aux4.rename(columns = lambda x:re.sub('[^A-Za-z0-9_]+', '', x))"
   ],
   "metadata": {
    "collapsed": false,
    "pycharm": {
     "name": "#%%\n"
    }
   }
  },
  {
   "cell_type": "code",
   "execution_count": 150,
   "outputs": [
    {
     "data": {
      "text/plain": "        isFraud  TransactionAmt     card1     card2     card3     card5  \\\n0           0.0        0.002137  0.743044  0.525111  0.138122  0.112299   \n1           0.0        0.000900  0.100885  0.608000  0.138122  0.005348   \n2           0.0        0.001840  0.210566  0.780000  0.138122  0.176471   \n3           0.0        0.001558  0.984824  0.934000  0.138122  0.045455   \n4           0.0        0.001558  0.201023  0.828000  0.138122  0.005348   \n...         ...             ...       ...       ...       ...       ...   \n590535      0.0        0.001526  0.319039  0.525111  0.138122  0.336898   \n590536      0.0        0.001229  0.542883  0.250000  0.138122  0.331551   \n590537      0.0        0.000961  0.634456  0.990000  0.138122  0.331551   \n590538      0.0        0.003656  0.392389  0.762000  0.138122  0.331551   \n590539      0.0        0.008758  0.808577  0.140000  0.138122  0.005348   \n\n           addr1     addr2     dist1        C1  ...  id_34_match_status0  \\\n0       0.488636  0.396907  0.001847  0.000213  ...                  0.0   \n1       0.511364  0.396907  0.011521  0.000213  ...                  0.0   \n2       0.522727  0.396907  0.027902  0.000213  ...                  0.0   \n3       0.854545  0.396907  0.011521  0.000427  ...                  0.0   \n4       0.727273  0.396907  0.011521  0.000213  ...                  0.0   \n...          ...       ...       ...       ...  ...                  ...   \n590535  0.390909  0.396907  0.004667  0.000427  ...                  0.0   \n590536  0.236364  0.396907  0.011521  0.000213  ...                  0.0   \n590537  0.297727  0.396907  0.011521  0.000213  ...                  0.0   \n590538  0.652273  0.396907  0.000292  0.000213  ...                  0.0   \n590539  0.452273  0.396907  0.011521  0.000427  ...                  0.0   \n\n        id_34_match_status1  id_34_match_status2  id_36_T  id_37_F  id_38_F  \\\n0                       0.0                  0.0      0.0      0.0      0.0   \n1                       0.0                  0.0      0.0      0.0      0.0   \n2                       0.0                  0.0      0.0      0.0      0.0   \n3                       0.0                  0.0      0.0      0.0      0.0   \n4                       0.0                  1.0      0.0      0.0      0.0   \n...                     ...                  ...      ...      ...      ...   \n590535                  0.0                  0.0      0.0      0.0      0.0   \n590536                  0.0                  0.0      0.0      0.0      0.0   \n590537                  0.0                  0.0      0.0      0.0      0.0   \n590538                  0.0                  0.0      0.0      0.0      0.0   \n590539                  0.0                  0.0      0.0      0.0      0.0   \n\n        id_38_T  DeviceType_desktop  DeviceType_mobile  \\\n0           0.0                 0.0                0.0   \n1           0.0                 0.0                0.0   \n2           0.0                 0.0                0.0   \n3           0.0                 0.0                0.0   \n4           1.0                 0.0                1.0   \n...         ...                 ...                ...   \n590535      0.0                 0.0                0.0   \n590536      0.0                 0.0                0.0   \n590537      0.0                 0.0                0.0   \n590538      0.0                 0.0                0.0   \n590539      0.0                 0.0                0.0   \n\n        id_34_match_statusminus1  \n0                            0.0  \n1                            0.0  \n2                            0.0  \n3                            0.0  \n4                            0.0  \n...                          ...  \n590535                       0.0  \n590536                       0.0  \n590537                       0.0  \n590538                       0.0  \n590539                       0.0  \n\n[590540 rows x 113 columns]",
      "text/html": "<div>\n<style scoped>\n    .dataframe tbody tr th:only-of-type {\n        vertical-align: middle;\n    }\n\n    .dataframe tbody tr th {\n        vertical-align: top;\n    }\n\n    .dataframe thead th {\n        text-align: right;\n    }\n</style>\n<table border=\"1\" class=\"dataframe\">\n  <thead>\n    <tr style=\"text-align: right;\">\n      <th></th>\n      <th>isFraud</th>\n      <th>TransactionAmt</th>\n      <th>card1</th>\n      <th>card2</th>\n      <th>card3</th>\n      <th>card5</th>\n      <th>addr1</th>\n      <th>addr2</th>\n      <th>dist1</th>\n      <th>C1</th>\n      <th>...</th>\n      <th>id_34_match_status0</th>\n      <th>id_34_match_status1</th>\n      <th>id_34_match_status2</th>\n      <th>id_36_T</th>\n      <th>id_37_F</th>\n      <th>id_38_F</th>\n      <th>id_38_T</th>\n      <th>DeviceType_desktop</th>\n      <th>DeviceType_mobile</th>\n      <th>id_34_match_statusminus1</th>\n    </tr>\n  </thead>\n  <tbody>\n    <tr>\n      <th>0</th>\n      <td>0.0</td>\n      <td>0.002137</td>\n      <td>0.743044</td>\n      <td>0.525111</td>\n      <td>0.138122</td>\n      <td>0.112299</td>\n      <td>0.488636</td>\n      <td>0.396907</td>\n      <td>0.001847</td>\n      <td>0.000213</td>\n      <td>...</td>\n      <td>0.0</td>\n      <td>0.0</td>\n      <td>0.0</td>\n      <td>0.0</td>\n      <td>0.0</td>\n      <td>0.0</td>\n      <td>0.0</td>\n      <td>0.0</td>\n      <td>0.0</td>\n      <td>0.0</td>\n    </tr>\n    <tr>\n      <th>1</th>\n      <td>0.0</td>\n      <td>0.000900</td>\n      <td>0.100885</td>\n      <td>0.608000</td>\n      <td>0.138122</td>\n      <td>0.005348</td>\n      <td>0.511364</td>\n      <td>0.396907</td>\n      <td>0.011521</td>\n      <td>0.000213</td>\n      <td>...</td>\n      <td>0.0</td>\n      <td>0.0</td>\n      <td>0.0</td>\n      <td>0.0</td>\n      <td>0.0</td>\n      <td>0.0</td>\n      <td>0.0</td>\n      <td>0.0</td>\n      <td>0.0</td>\n      <td>0.0</td>\n    </tr>\n    <tr>\n      <th>2</th>\n      <td>0.0</td>\n      <td>0.001840</td>\n      <td>0.210566</td>\n      <td>0.780000</td>\n      <td>0.138122</td>\n      <td>0.176471</td>\n      <td>0.522727</td>\n      <td>0.396907</td>\n      <td>0.027902</td>\n      <td>0.000213</td>\n      <td>...</td>\n      <td>0.0</td>\n      <td>0.0</td>\n      <td>0.0</td>\n      <td>0.0</td>\n      <td>0.0</td>\n      <td>0.0</td>\n      <td>0.0</td>\n      <td>0.0</td>\n      <td>0.0</td>\n      <td>0.0</td>\n    </tr>\n    <tr>\n      <th>3</th>\n      <td>0.0</td>\n      <td>0.001558</td>\n      <td>0.984824</td>\n      <td>0.934000</td>\n      <td>0.138122</td>\n      <td>0.045455</td>\n      <td>0.854545</td>\n      <td>0.396907</td>\n      <td>0.011521</td>\n      <td>0.000427</td>\n      <td>...</td>\n      <td>0.0</td>\n      <td>0.0</td>\n      <td>0.0</td>\n      <td>0.0</td>\n      <td>0.0</td>\n      <td>0.0</td>\n      <td>0.0</td>\n      <td>0.0</td>\n      <td>0.0</td>\n      <td>0.0</td>\n    </tr>\n    <tr>\n      <th>4</th>\n      <td>0.0</td>\n      <td>0.001558</td>\n      <td>0.201023</td>\n      <td>0.828000</td>\n      <td>0.138122</td>\n      <td>0.005348</td>\n      <td>0.727273</td>\n      <td>0.396907</td>\n      <td>0.011521</td>\n      <td>0.000213</td>\n      <td>...</td>\n      <td>0.0</td>\n      <td>0.0</td>\n      <td>1.0</td>\n      <td>0.0</td>\n      <td>0.0</td>\n      <td>0.0</td>\n      <td>1.0</td>\n      <td>0.0</td>\n      <td>1.0</td>\n      <td>0.0</td>\n    </tr>\n    <tr>\n      <th>...</th>\n      <td>...</td>\n      <td>...</td>\n      <td>...</td>\n      <td>...</td>\n      <td>...</td>\n      <td>...</td>\n      <td>...</td>\n      <td>...</td>\n      <td>...</td>\n      <td>...</td>\n      <td>...</td>\n      <td>...</td>\n      <td>...</td>\n      <td>...</td>\n      <td>...</td>\n      <td>...</td>\n      <td>...</td>\n      <td>...</td>\n      <td>...</td>\n      <td>...</td>\n      <td>...</td>\n    </tr>\n    <tr>\n      <th>590535</th>\n      <td>0.0</td>\n      <td>0.001526</td>\n      <td>0.319039</td>\n      <td>0.525111</td>\n      <td>0.138122</td>\n      <td>0.336898</td>\n      <td>0.390909</td>\n      <td>0.396907</td>\n      <td>0.004667</td>\n      <td>0.000427</td>\n      <td>...</td>\n      <td>0.0</td>\n      <td>0.0</td>\n      <td>0.0</td>\n      <td>0.0</td>\n      <td>0.0</td>\n      <td>0.0</td>\n      <td>0.0</td>\n      <td>0.0</td>\n      <td>0.0</td>\n      <td>0.0</td>\n    </tr>\n    <tr>\n      <th>590536</th>\n      <td>0.0</td>\n      <td>0.001229</td>\n      <td>0.542883</td>\n      <td>0.250000</td>\n      <td>0.138122</td>\n      <td>0.331551</td>\n      <td>0.236364</td>\n      <td>0.396907</td>\n      <td>0.011521</td>\n      <td>0.000213</td>\n      <td>...</td>\n      <td>0.0</td>\n      <td>0.0</td>\n      <td>0.0</td>\n      <td>0.0</td>\n      <td>0.0</td>\n      <td>0.0</td>\n      <td>0.0</td>\n      <td>0.0</td>\n      <td>0.0</td>\n      <td>0.0</td>\n    </tr>\n    <tr>\n      <th>590537</th>\n      <td>0.0</td>\n      <td>0.000961</td>\n      <td>0.634456</td>\n      <td>0.990000</td>\n      <td>0.138122</td>\n      <td>0.331551</td>\n      <td>0.297727</td>\n      <td>0.396907</td>\n      <td>0.011521</td>\n      <td>0.000213</td>\n      <td>...</td>\n      <td>0.0</td>\n      <td>0.0</td>\n      <td>0.0</td>\n      <td>0.0</td>\n      <td>0.0</td>\n      <td>0.0</td>\n      <td>0.0</td>\n      <td>0.0</td>\n      <td>0.0</td>\n      <td>0.0</td>\n    </tr>\n    <tr>\n      <th>590538</th>\n      <td>0.0</td>\n      <td>0.003656</td>\n      <td>0.392389</td>\n      <td>0.762000</td>\n      <td>0.138122</td>\n      <td>0.331551</td>\n      <td>0.652273</td>\n      <td>0.396907</td>\n      <td>0.000292</td>\n      <td>0.000213</td>\n      <td>...</td>\n      <td>0.0</td>\n      <td>0.0</td>\n      <td>0.0</td>\n      <td>0.0</td>\n      <td>0.0</td>\n      <td>0.0</td>\n      <td>0.0</td>\n      <td>0.0</td>\n      <td>0.0</td>\n      <td>0.0</td>\n    </tr>\n    <tr>\n      <th>590539</th>\n      <td>0.0</td>\n      <td>0.008758</td>\n      <td>0.808577</td>\n      <td>0.140000</td>\n      <td>0.138122</td>\n      <td>0.005348</td>\n      <td>0.452273</td>\n      <td>0.396907</td>\n      <td>0.011521</td>\n      <td>0.000427</td>\n      <td>...</td>\n      <td>0.0</td>\n      <td>0.0</td>\n      <td>0.0</td>\n      <td>0.0</td>\n      <td>0.0</td>\n      <td>0.0</td>\n      <td>0.0</td>\n      <td>0.0</td>\n      <td>0.0</td>\n      <td>0.0</td>\n    </tr>\n  </tbody>\n</table>\n<p>590540 rows × 113 columns</p>\n</div>"
     },
     "execution_count": 150,
     "metadata": {},
     "output_type": "execute_result"
    }
   ],
   "source": [
    "X=aux4\n",
    "X"
   ],
   "metadata": {
    "collapsed": false,
    "pycharm": {
     "name": "#%%\n"
    }
   }
  },
  {
   "cell_type": "code",
   "execution_count": 148,
   "outputs": [],
   "source": [
    "torch.save(X,'ProcessedTrainingData.csv')"
   ],
   "metadata": {
    "collapsed": false,
    "pycharm": {
     "name": "#%%\n"
    }
   }
  },
  {
   "cell_type": "code",
   "execution_count": 149,
   "outputs": [
    {
     "data": {
      "text/plain": "        isFraud  TransactionAmt     card1     card2     card3     card5  \\\n0           0.0        0.002137  0.743044  0.525111  0.138122  0.112299   \n1           0.0        0.000900  0.100885  0.608000  0.138122  0.005348   \n2           0.0        0.001840  0.210566  0.780000  0.138122  0.176471   \n3           0.0        0.001558  0.984824  0.934000  0.138122  0.045455   \n4           0.0        0.001558  0.201023  0.828000  0.138122  0.005348   \n...         ...             ...       ...       ...       ...       ...   \n590535      0.0        0.001526  0.319039  0.525111  0.138122  0.336898   \n590536      0.0        0.001229  0.542883  0.250000  0.138122  0.331551   \n590537      0.0        0.000961  0.634456  0.990000  0.138122  0.331551   \n590538      0.0        0.003656  0.392389  0.762000  0.138122  0.331551   \n590539      0.0        0.008758  0.808577  0.140000  0.138122  0.005348   \n\n           addr1     addr2     dist1        C1  ...  id_34_match_status0  \\\n0       0.488636  0.396907  0.001847  0.000213  ...                  0.0   \n1       0.511364  0.396907  0.011521  0.000213  ...                  0.0   \n2       0.522727  0.396907  0.027902  0.000213  ...                  0.0   \n3       0.854545  0.396907  0.011521  0.000427  ...                  0.0   \n4       0.727273  0.396907  0.011521  0.000213  ...                  0.0   \n...          ...       ...       ...       ...  ...                  ...   \n590535  0.390909  0.396907  0.004667  0.000427  ...                  0.0   \n590536  0.236364  0.396907  0.011521  0.000213  ...                  0.0   \n590537  0.297727  0.396907  0.011521  0.000213  ...                  0.0   \n590538  0.652273  0.396907  0.000292  0.000213  ...                  0.0   \n590539  0.452273  0.396907  0.011521  0.000427  ...                  0.0   \n\n        id_34_match_status1  id_34_match_status2  id_36_T  id_37_F  id_38_F  \\\n0                       0.0                  0.0      0.0      0.0      0.0   \n1                       0.0                  0.0      0.0      0.0      0.0   \n2                       0.0                  0.0      0.0      0.0      0.0   \n3                       0.0                  0.0      0.0      0.0      0.0   \n4                       0.0                  1.0      0.0      0.0      0.0   \n...                     ...                  ...      ...      ...      ...   \n590535                  0.0                  0.0      0.0      0.0      0.0   \n590536                  0.0                  0.0      0.0      0.0      0.0   \n590537                  0.0                  0.0      0.0      0.0      0.0   \n590538                  0.0                  0.0      0.0      0.0      0.0   \n590539                  0.0                  0.0      0.0      0.0      0.0   \n\n        id_38_T  DeviceType_desktop  DeviceType_mobile  \\\n0           0.0                 0.0                0.0   \n1           0.0                 0.0                0.0   \n2           0.0                 0.0                0.0   \n3           0.0                 0.0                0.0   \n4           1.0                 0.0                1.0   \n...         ...                 ...                ...   \n590535      0.0                 0.0                0.0   \n590536      0.0                 0.0                0.0   \n590537      0.0                 0.0                0.0   \n590538      0.0                 0.0                0.0   \n590539      0.0                 0.0                0.0   \n\n        id_34_match_statusminus1  \n0                            0.0  \n1                            0.0  \n2                            0.0  \n3                            0.0  \n4                            0.0  \n...                          ...  \n590535                       0.0  \n590536                       0.0  \n590537                       0.0  \n590538                       0.0  \n590539                       0.0  \n\n[590540 rows x 113 columns]",
      "text/html": "<div>\n<style scoped>\n    .dataframe tbody tr th:only-of-type {\n        vertical-align: middle;\n    }\n\n    .dataframe tbody tr th {\n        vertical-align: top;\n    }\n\n    .dataframe thead th {\n        text-align: right;\n    }\n</style>\n<table border=\"1\" class=\"dataframe\">\n  <thead>\n    <tr style=\"text-align: right;\">\n      <th></th>\n      <th>isFraud</th>\n      <th>TransactionAmt</th>\n      <th>card1</th>\n      <th>card2</th>\n      <th>card3</th>\n      <th>card5</th>\n      <th>addr1</th>\n      <th>addr2</th>\n      <th>dist1</th>\n      <th>C1</th>\n      <th>...</th>\n      <th>id_34_match_status0</th>\n      <th>id_34_match_status1</th>\n      <th>id_34_match_status2</th>\n      <th>id_36_T</th>\n      <th>id_37_F</th>\n      <th>id_38_F</th>\n      <th>id_38_T</th>\n      <th>DeviceType_desktop</th>\n      <th>DeviceType_mobile</th>\n      <th>id_34_match_statusminus1</th>\n    </tr>\n  </thead>\n  <tbody>\n    <tr>\n      <th>0</th>\n      <td>0.0</td>\n      <td>0.002137</td>\n      <td>0.743044</td>\n      <td>0.525111</td>\n      <td>0.138122</td>\n      <td>0.112299</td>\n      <td>0.488636</td>\n      <td>0.396907</td>\n      <td>0.001847</td>\n      <td>0.000213</td>\n      <td>...</td>\n      <td>0.0</td>\n      <td>0.0</td>\n      <td>0.0</td>\n      <td>0.0</td>\n      <td>0.0</td>\n      <td>0.0</td>\n      <td>0.0</td>\n      <td>0.0</td>\n      <td>0.0</td>\n      <td>0.0</td>\n    </tr>\n    <tr>\n      <th>1</th>\n      <td>0.0</td>\n      <td>0.000900</td>\n      <td>0.100885</td>\n      <td>0.608000</td>\n      <td>0.138122</td>\n      <td>0.005348</td>\n      <td>0.511364</td>\n      <td>0.396907</td>\n      <td>0.011521</td>\n      <td>0.000213</td>\n      <td>...</td>\n      <td>0.0</td>\n      <td>0.0</td>\n      <td>0.0</td>\n      <td>0.0</td>\n      <td>0.0</td>\n      <td>0.0</td>\n      <td>0.0</td>\n      <td>0.0</td>\n      <td>0.0</td>\n      <td>0.0</td>\n    </tr>\n    <tr>\n      <th>2</th>\n      <td>0.0</td>\n      <td>0.001840</td>\n      <td>0.210566</td>\n      <td>0.780000</td>\n      <td>0.138122</td>\n      <td>0.176471</td>\n      <td>0.522727</td>\n      <td>0.396907</td>\n      <td>0.027902</td>\n      <td>0.000213</td>\n      <td>...</td>\n      <td>0.0</td>\n      <td>0.0</td>\n      <td>0.0</td>\n      <td>0.0</td>\n      <td>0.0</td>\n      <td>0.0</td>\n      <td>0.0</td>\n      <td>0.0</td>\n      <td>0.0</td>\n      <td>0.0</td>\n    </tr>\n    <tr>\n      <th>3</th>\n      <td>0.0</td>\n      <td>0.001558</td>\n      <td>0.984824</td>\n      <td>0.934000</td>\n      <td>0.138122</td>\n      <td>0.045455</td>\n      <td>0.854545</td>\n      <td>0.396907</td>\n      <td>0.011521</td>\n      <td>0.000427</td>\n      <td>...</td>\n      <td>0.0</td>\n      <td>0.0</td>\n      <td>0.0</td>\n      <td>0.0</td>\n      <td>0.0</td>\n      <td>0.0</td>\n      <td>0.0</td>\n      <td>0.0</td>\n      <td>0.0</td>\n      <td>0.0</td>\n    </tr>\n    <tr>\n      <th>4</th>\n      <td>0.0</td>\n      <td>0.001558</td>\n      <td>0.201023</td>\n      <td>0.828000</td>\n      <td>0.138122</td>\n      <td>0.005348</td>\n      <td>0.727273</td>\n      <td>0.396907</td>\n      <td>0.011521</td>\n      <td>0.000213</td>\n      <td>...</td>\n      <td>0.0</td>\n      <td>0.0</td>\n      <td>1.0</td>\n      <td>0.0</td>\n      <td>0.0</td>\n      <td>0.0</td>\n      <td>1.0</td>\n      <td>0.0</td>\n      <td>1.0</td>\n      <td>0.0</td>\n    </tr>\n    <tr>\n      <th>...</th>\n      <td>...</td>\n      <td>...</td>\n      <td>...</td>\n      <td>...</td>\n      <td>...</td>\n      <td>...</td>\n      <td>...</td>\n      <td>...</td>\n      <td>...</td>\n      <td>...</td>\n      <td>...</td>\n      <td>...</td>\n      <td>...</td>\n      <td>...</td>\n      <td>...</td>\n      <td>...</td>\n      <td>...</td>\n      <td>...</td>\n      <td>...</td>\n      <td>...</td>\n      <td>...</td>\n    </tr>\n    <tr>\n      <th>590535</th>\n      <td>0.0</td>\n      <td>0.001526</td>\n      <td>0.319039</td>\n      <td>0.525111</td>\n      <td>0.138122</td>\n      <td>0.336898</td>\n      <td>0.390909</td>\n      <td>0.396907</td>\n      <td>0.004667</td>\n      <td>0.000427</td>\n      <td>...</td>\n      <td>0.0</td>\n      <td>0.0</td>\n      <td>0.0</td>\n      <td>0.0</td>\n      <td>0.0</td>\n      <td>0.0</td>\n      <td>0.0</td>\n      <td>0.0</td>\n      <td>0.0</td>\n      <td>0.0</td>\n    </tr>\n    <tr>\n      <th>590536</th>\n      <td>0.0</td>\n      <td>0.001229</td>\n      <td>0.542883</td>\n      <td>0.250000</td>\n      <td>0.138122</td>\n      <td>0.331551</td>\n      <td>0.236364</td>\n      <td>0.396907</td>\n      <td>0.011521</td>\n      <td>0.000213</td>\n      <td>...</td>\n      <td>0.0</td>\n      <td>0.0</td>\n      <td>0.0</td>\n      <td>0.0</td>\n      <td>0.0</td>\n      <td>0.0</td>\n      <td>0.0</td>\n      <td>0.0</td>\n      <td>0.0</td>\n      <td>0.0</td>\n    </tr>\n    <tr>\n      <th>590537</th>\n      <td>0.0</td>\n      <td>0.000961</td>\n      <td>0.634456</td>\n      <td>0.990000</td>\n      <td>0.138122</td>\n      <td>0.331551</td>\n      <td>0.297727</td>\n      <td>0.396907</td>\n      <td>0.011521</td>\n      <td>0.000213</td>\n      <td>...</td>\n      <td>0.0</td>\n      <td>0.0</td>\n      <td>0.0</td>\n      <td>0.0</td>\n      <td>0.0</td>\n      <td>0.0</td>\n      <td>0.0</td>\n      <td>0.0</td>\n      <td>0.0</td>\n      <td>0.0</td>\n    </tr>\n    <tr>\n      <th>590538</th>\n      <td>0.0</td>\n      <td>0.003656</td>\n      <td>0.392389</td>\n      <td>0.762000</td>\n      <td>0.138122</td>\n      <td>0.331551</td>\n      <td>0.652273</td>\n      <td>0.396907</td>\n      <td>0.000292</td>\n      <td>0.000213</td>\n      <td>...</td>\n      <td>0.0</td>\n      <td>0.0</td>\n      <td>0.0</td>\n      <td>0.0</td>\n      <td>0.0</td>\n      <td>0.0</td>\n      <td>0.0</td>\n      <td>0.0</td>\n      <td>0.0</td>\n      <td>0.0</td>\n    </tr>\n    <tr>\n      <th>590539</th>\n      <td>0.0</td>\n      <td>0.008758</td>\n      <td>0.808577</td>\n      <td>0.140000</td>\n      <td>0.138122</td>\n      <td>0.005348</td>\n      <td>0.452273</td>\n      <td>0.396907</td>\n      <td>0.011521</td>\n      <td>0.000427</td>\n      <td>...</td>\n      <td>0.0</td>\n      <td>0.0</td>\n      <td>0.0</td>\n      <td>0.0</td>\n      <td>0.0</td>\n      <td>0.0</td>\n      <td>0.0</td>\n      <td>0.0</td>\n      <td>0.0</td>\n      <td>0.0</td>\n    </tr>\n  </tbody>\n</table>\n<p>590540 rows × 113 columns</p>\n</div>"
     },
     "execution_count": 149,
     "metadata": {},
     "output_type": "execute_result"
    }
   ],
   "source": [
    "Xloaded=torch.load(\"ProcessedTrainingData.csv\")\n",
    "Xloaded"
   ],
   "metadata": {
    "collapsed": false,
    "pycharm": {
     "name": "#%%\n"
    }
   }
  },
  {
   "cell_type": "code",
   "execution_count": 97,
   "outputs": [],
   "source": [
    "Xtrain, Xtest = train_test_split(X, test_size=0.2)"
   ],
   "metadata": {
    "collapsed": false,
    "pycharm": {
     "name": "#%%\n"
    }
   }
  },
  {
   "cell_type": "code",
   "execution_count": 98,
   "outputs": [],
   "source": [
    "Ytrain=Xtrain['isFraud']\n",
    "Ytest=Xtest['isFraud']"
   ],
   "metadata": {
    "collapsed": false,
    "pycharm": {
     "name": "#%%\n"
    }
   }
  },
  {
   "cell_type": "code",
   "execution_count": 78,
   "outputs": [
    {
     "data": {
      "text/plain": "384211    0.0\n46531     0.0\n168393    0.0\n373753    0.0\n127449    0.0\n         ... \n135150    0.0\n212685    0.0\n572009    0.0\n365913    0.0\n361449    0.0\nName: isFraud, Length: 118108, dtype: float64"
     },
     "execution_count": 78,
     "metadata": {},
     "output_type": "execute_result"
    }
   ],
   "source": [
    "Ytest"
   ],
   "metadata": {
    "collapsed": false,
    "pycharm": {
     "name": "#%%\n"
    }
   }
  },
  {
   "cell_type": "code",
   "execution_count": 99,
   "outputs": [],
   "source": [
    "Xtrain.drop('isFraud',axis=1,inplace=True)\n",
    "Xtest.drop('isFraud',axis=1,inplace=True)"
   ],
   "metadata": {
    "collapsed": false,
    "pycharm": {
     "name": "#%%\n"
    }
   }
  },
  {
   "cell_type": "code",
   "execution_count": 106,
   "outputs": [
    {
     "data": {
      "text/plain": "        TransactionAmt     card1  card2     card3     card5     addr1  \\\n541945        0.003311  0.849333  0.762  0.138122  0.005348  0.522727   \n287156        0.005000  0.757760  0.924  0.138122  0.005348  0.184091   \n56195         0.003656  0.650034  0.520  0.138122  0.176471  0.652273   \n54046         0.003372  0.736549  0.078  0.138122  0.045455  0.184091   \n97316         0.002403  0.210566  0.780  0.138122  0.176471  0.175000   \n...                ...       ...    ...       ...       ...       ...   \n575254        0.003389  0.290469  0.044  0.138122  0.254011  0.477273   \n192198        0.001213  0.061738  0.928  0.138122  0.336898  0.538636   \n541201        0.000556  0.276615  0.616  0.234807  0.331551  0.433486   \n257959        0.001840  0.586744  0.522  0.138122  0.336898  0.511364   \n15448         0.002341  0.330996  0.598  0.138122  0.122995  0.390909   \n\n           addr2     dist1        C1   C3  ...  id_34_match_status0  \\\n541945  0.396907  0.011521  0.001067  0.0  ...                  0.0   \n287156  0.396907  0.000486  0.000213  0.0  ...                  0.0   \n56195   0.396907  0.000875  0.000427  0.0  ...                  0.0   \n54046   0.396907  0.011521  0.000854  0.0  ...                  0.0   \n97316   0.396907  0.011521  0.000427  0.0  ...                  0.0   \n...          ...       ...       ...  ...  ...                  ...   \n575254  0.396907  0.011521  0.000213  0.0  ...                  0.0   \n192198  0.396907  0.011521  0.000427  0.0  ...                  0.0   \n541201  1.000000  0.011521  0.000213  0.0  ...                  0.0   \n257959  0.396907  0.002528  0.000640  0.0  ...                  0.0   \n15448   0.396907  0.011521  0.000213  0.0  ...                  0.0   \n\n        id_34_match_status1  id_34_match_status2  id_36_T  id_37_F  id_38_F  \\\n541945                  0.0                  1.0      0.0      0.0      0.0   \n287156                  0.0                  0.0      0.0      0.0      0.0   \n56195                   0.0                  0.0      0.0      0.0      0.0   \n54046                   0.0                  0.0      0.0      0.0      0.0   \n97316                   0.0                  0.0      0.0      0.0      0.0   \n...                     ...                  ...      ...      ...      ...   \n575254                  0.0                  0.0      0.0      0.0      0.0   \n192198                  0.0                  0.0      0.0      0.0      0.0   \n541201                  0.0                  0.0      0.0      0.0      1.0   \n257959                  0.0                  0.0      0.0      0.0      0.0   \n15448                   1.0                  0.0      1.0      0.0      0.0   \n\n        id_38_T  DeviceType_desktop  DeviceType_mobile  \\\n541945      1.0                 1.0                0.0   \n287156      0.0                 0.0                0.0   \n56195       0.0                 0.0                0.0   \n54046       0.0                 0.0                0.0   \n97316       0.0                 0.0                0.0   \n...         ...                 ...                ...   \n575254      0.0                 0.0                0.0   \n192198      0.0                 0.0                0.0   \n541201      0.0                 1.0                0.0   \n257959      0.0                 0.0                0.0   \n15448       1.0                 1.0                0.0   \n\n        id_34_match_statusminus1  \n541945                       0.0  \n287156                       0.0  \n56195                        0.0  \n54046                        0.0  \n97316                        0.0  \n...                          ...  \n575254                       0.0  \n192198                       0.0  \n541201                       0.0  \n257959                       0.0  \n15448                        0.0  \n\n[472432 rows x 112 columns]",
      "text/html": "<div>\n<style scoped>\n    .dataframe tbody tr th:only-of-type {\n        vertical-align: middle;\n    }\n\n    .dataframe tbody tr th {\n        vertical-align: top;\n    }\n\n    .dataframe thead th {\n        text-align: right;\n    }\n</style>\n<table border=\"1\" class=\"dataframe\">\n  <thead>\n    <tr style=\"text-align: right;\">\n      <th></th>\n      <th>TransactionAmt</th>\n      <th>card1</th>\n      <th>card2</th>\n      <th>card3</th>\n      <th>card5</th>\n      <th>addr1</th>\n      <th>addr2</th>\n      <th>dist1</th>\n      <th>C1</th>\n      <th>C3</th>\n      <th>...</th>\n      <th>id_34_match_status0</th>\n      <th>id_34_match_status1</th>\n      <th>id_34_match_status2</th>\n      <th>id_36_T</th>\n      <th>id_37_F</th>\n      <th>id_38_F</th>\n      <th>id_38_T</th>\n      <th>DeviceType_desktop</th>\n      <th>DeviceType_mobile</th>\n      <th>id_34_match_statusminus1</th>\n    </tr>\n  </thead>\n  <tbody>\n    <tr>\n      <th>541945</th>\n      <td>0.003311</td>\n      <td>0.849333</td>\n      <td>0.762</td>\n      <td>0.138122</td>\n      <td>0.005348</td>\n      <td>0.522727</td>\n      <td>0.396907</td>\n      <td>0.011521</td>\n      <td>0.001067</td>\n      <td>0.0</td>\n      <td>...</td>\n      <td>0.0</td>\n      <td>0.0</td>\n      <td>1.0</td>\n      <td>0.0</td>\n      <td>0.0</td>\n      <td>0.0</td>\n      <td>1.0</td>\n      <td>1.0</td>\n      <td>0.0</td>\n      <td>0.0</td>\n    </tr>\n    <tr>\n      <th>287156</th>\n      <td>0.005000</td>\n      <td>0.757760</td>\n      <td>0.924</td>\n      <td>0.138122</td>\n      <td>0.005348</td>\n      <td>0.184091</td>\n      <td>0.396907</td>\n      <td>0.000486</td>\n      <td>0.000213</td>\n      <td>0.0</td>\n      <td>...</td>\n      <td>0.0</td>\n      <td>0.0</td>\n      <td>0.0</td>\n      <td>0.0</td>\n      <td>0.0</td>\n      <td>0.0</td>\n      <td>0.0</td>\n      <td>0.0</td>\n      <td>0.0</td>\n      <td>0.0</td>\n    </tr>\n    <tr>\n      <th>56195</th>\n      <td>0.003656</td>\n      <td>0.650034</td>\n      <td>0.520</td>\n      <td>0.138122</td>\n      <td>0.176471</td>\n      <td>0.652273</td>\n      <td>0.396907</td>\n      <td>0.000875</td>\n      <td>0.000427</td>\n      <td>0.0</td>\n      <td>...</td>\n      <td>0.0</td>\n      <td>0.0</td>\n      <td>0.0</td>\n      <td>0.0</td>\n      <td>0.0</td>\n      <td>0.0</td>\n      <td>0.0</td>\n      <td>0.0</td>\n      <td>0.0</td>\n      <td>0.0</td>\n    </tr>\n    <tr>\n      <th>54046</th>\n      <td>0.003372</td>\n      <td>0.736549</td>\n      <td>0.078</td>\n      <td>0.138122</td>\n      <td>0.045455</td>\n      <td>0.184091</td>\n      <td>0.396907</td>\n      <td>0.011521</td>\n      <td>0.000854</td>\n      <td>0.0</td>\n      <td>...</td>\n      <td>0.0</td>\n      <td>0.0</td>\n      <td>0.0</td>\n      <td>0.0</td>\n      <td>0.0</td>\n      <td>0.0</td>\n      <td>0.0</td>\n      <td>0.0</td>\n      <td>0.0</td>\n      <td>0.0</td>\n    </tr>\n    <tr>\n      <th>97316</th>\n      <td>0.002403</td>\n      <td>0.210566</td>\n      <td>0.780</td>\n      <td>0.138122</td>\n      <td>0.176471</td>\n      <td>0.175000</td>\n      <td>0.396907</td>\n      <td>0.011521</td>\n      <td>0.000427</td>\n      <td>0.0</td>\n      <td>...</td>\n      <td>0.0</td>\n      <td>0.0</td>\n      <td>0.0</td>\n      <td>0.0</td>\n      <td>0.0</td>\n      <td>0.0</td>\n      <td>0.0</td>\n      <td>0.0</td>\n      <td>0.0</td>\n      <td>0.0</td>\n    </tr>\n    <tr>\n      <th>...</th>\n      <td>...</td>\n      <td>...</td>\n      <td>...</td>\n      <td>...</td>\n      <td>...</td>\n      <td>...</td>\n      <td>...</td>\n      <td>...</td>\n      <td>...</td>\n      <td>...</td>\n      <td>...</td>\n      <td>...</td>\n      <td>...</td>\n      <td>...</td>\n      <td>...</td>\n      <td>...</td>\n      <td>...</td>\n      <td>...</td>\n      <td>...</td>\n      <td>...</td>\n      <td>...</td>\n    </tr>\n    <tr>\n      <th>575254</th>\n      <td>0.003389</td>\n      <td>0.290469</td>\n      <td>0.044</td>\n      <td>0.138122</td>\n      <td>0.254011</td>\n      <td>0.477273</td>\n      <td>0.396907</td>\n      <td>0.011521</td>\n      <td>0.000213</td>\n      <td>0.0</td>\n      <td>...</td>\n      <td>0.0</td>\n      <td>0.0</td>\n      <td>0.0</td>\n      <td>0.0</td>\n      <td>0.0</td>\n      <td>0.0</td>\n      <td>0.0</td>\n      <td>0.0</td>\n      <td>0.0</td>\n      <td>0.0</td>\n    </tr>\n    <tr>\n      <th>192198</th>\n      <td>0.001213</td>\n      <td>0.061738</td>\n      <td>0.928</td>\n      <td>0.138122</td>\n      <td>0.336898</td>\n      <td>0.538636</td>\n      <td>0.396907</td>\n      <td>0.011521</td>\n      <td>0.000427</td>\n      <td>0.0</td>\n      <td>...</td>\n      <td>0.0</td>\n      <td>0.0</td>\n      <td>0.0</td>\n      <td>0.0</td>\n      <td>0.0</td>\n      <td>0.0</td>\n      <td>0.0</td>\n      <td>0.0</td>\n      <td>0.0</td>\n      <td>0.0</td>\n    </tr>\n    <tr>\n      <th>541201</th>\n      <td>0.000556</td>\n      <td>0.276615</td>\n      <td>0.616</td>\n      <td>0.234807</td>\n      <td>0.331551</td>\n      <td>0.433486</td>\n      <td>1.000000</td>\n      <td>0.011521</td>\n      <td>0.000213</td>\n      <td>0.0</td>\n      <td>...</td>\n      <td>0.0</td>\n      <td>0.0</td>\n      <td>0.0</td>\n      <td>0.0</td>\n      <td>0.0</td>\n      <td>1.0</td>\n      <td>0.0</td>\n      <td>1.0</td>\n      <td>0.0</td>\n      <td>0.0</td>\n    </tr>\n    <tr>\n      <th>257959</th>\n      <td>0.001840</td>\n      <td>0.586744</td>\n      <td>0.522</td>\n      <td>0.138122</td>\n      <td>0.336898</td>\n      <td>0.511364</td>\n      <td>0.396907</td>\n      <td>0.002528</td>\n      <td>0.000640</td>\n      <td>0.0</td>\n      <td>...</td>\n      <td>0.0</td>\n      <td>0.0</td>\n      <td>0.0</td>\n      <td>0.0</td>\n      <td>0.0</td>\n      <td>0.0</td>\n      <td>0.0</td>\n      <td>0.0</td>\n      <td>0.0</td>\n      <td>0.0</td>\n    </tr>\n    <tr>\n      <th>15448</th>\n      <td>0.002341</td>\n      <td>0.330996</td>\n      <td>0.598</td>\n      <td>0.138122</td>\n      <td>0.122995</td>\n      <td>0.390909</td>\n      <td>0.396907</td>\n      <td>0.011521</td>\n      <td>0.000213</td>\n      <td>0.0</td>\n      <td>...</td>\n      <td>0.0</td>\n      <td>1.0</td>\n      <td>0.0</td>\n      <td>1.0</td>\n      <td>0.0</td>\n      <td>0.0</td>\n      <td>1.0</td>\n      <td>1.0</td>\n      <td>0.0</td>\n      <td>0.0</td>\n    </tr>\n  </tbody>\n</table>\n<p>472432 rows × 112 columns</p>\n</div>"
     },
     "execution_count": 106,
     "metadata": {},
     "output_type": "execute_result"
    }
   ],
   "source": [
    "Xtrain"
   ],
   "metadata": {
    "collapsed": false,
    "pycharm": {
     "name": "#%%\n"
    }
   }
  },
  {
   "cell_type": "code",
   "execution_count": 125,
   "outputs": [
    {
     "data": {
      "text/plain": "16446"
     },
     "execution_count": 125,
     "metadata": {},
     "output_type": "execute_result"
    }
   ],
   "source": [
    "(Ytrain==1).sum()"
   ],
   "metadata": {
    "collapsed": false,
    "pycharm": {
     "name": "#%%\n"
    }
   }
  },
  {
   "cell_type": "markdown",
   "source": [
    "TRAINNING A MODEL"
   ],
   "metadata": {
    "collapsed": false,
    "pycharm": {
     "name": "#%% md\n"
    }
   }
  },
  {
   "cell_type": "code",
   "execution_count": 4,
   "outputs": [],
   "source": [
    "import lightgbm as lgb"
   ],
   "metadata": {
    "collapsed": false,
    "pycharm": {
     "name": "#%%\n"
    }
   }
  },
  {
   "cell_type": "code",
   "execution_count": 5,
   "outputs": [],
   "source": [
    "model=lgb.LGBMClassifier()"
   ],
   "metadata": {
    "collapsed": false,
    "pycharm": {
     "name": "#%%\n"
    }
   }
  },
  {
   "cell_type": "code",
   "execution_count": 6,
   "outputs": [
    {
     "ename": "NameError",
     "evalue": "name 'Xtrain' is not defined",
     "output_type": "error",
     "traceback": [
      "\u001B[0;31m---------------------------------------------------------------------------\u001B[0m",
      "\u001B[0;31mNameError\u001B[0m                                 Traceback (most recent call last)",
      "Input \u001B[0;32mIn [6]\u001B[0m, in \u001B[0;36m<cell line: 1>\u001B[0;34m()\u001B[0m\n\u001B[0;32m----> 1\u001B[0m model\u001B[38;5;241m.\u001B[39mfit(\u001B[43mXtrain\u001B[49m,Ytrain)\n\u001B[1;32m      2\u001B[0m lgb\u001B[38;5;241m.\u001B[39mplot_importance(model)\n",
      "\u001B[0;31mNameError\u001B[0m: name 'Xtrain' is not defined"
     ]
    }
   ],
   "source": [
    "model.fit(Xtrain,Ytrain)\n",
    "lgb.plot_importance(model)"
   ],
   "metadata": {
    "collapsed": false,
    "pycharm": {
     "name": "#%%\n"
    }
   }
  },
  {
   "cell_type": "code",
   "execution_count": 132,
   "outputs": [],
   "source": [
    "Y_test_predict=model.predict(Xtest)\n",
    "Y_train_preeict=model.predict(Xtrain)"
   ],
   "metadata": {
    "collapsed": false,
    "pycharm": {
     "name": "#%%\n"
    }
   }
  },
  {
   "cell_type": "code",
   "execution_count": 3,
   "outputs": [],
   "source": [
    "from sklearn.metrics import roc_auc_score"
   ],
   "metadata": {
    "collapsed": false,
    "pycharm": {
     "name": "#%%\n"
    }
   }
  },
  {
   "cell_type": "code",
   "execution_count": 133,
   "outputs": [
    {
     "name": "stdout",
     "output_type": "stream",
     "text": [
      "0.6915749753756857\n",
      "0.7037232273792866\n"
     ]
    }
   ],
   "source": [
    "print(roc_auc_score(Ytest,Y_test_predict))\n",
    "print(roc_auc_score(Ytrain,Y_train_preeict))"
   ],
   "metadata": {
    "collapsed": false,
    "pycharm": {
     "name": "#%%\n"
    }
   }
  },
  {
   "cell_type": "markdown",
   "source": [
    "TRAINNING BALANCED DATA"
   ],
   "metadata": {
    "collapsed": false,
    "pycharm": {
     "name": "#%% md\n"
    }
   }
  },
  {
   "cell_type": "code",
   "execution_count": 116,
   "outputs": [],
   "source": [
    "corr_mat=aux_balanced.corr().abs()"
   ],
   "metadata": {
    "collapsed": false,
    "pycharm": {
     "name": "#%%\n"
    }
   }
  },
  {
   "cell_type": "code",
   "execution_count": 117,
   "outputs": [],
   "source": [
    "upper_tri = corr_mat.where(np.triu(np.ones(corr_mat.shape),k=1).astype(bool))"
   ],
   "metadata": {
    "collapsed": false,
    "pycharm": {
     "name": "#%%\n"
    }
   }
  },
  {
   "cell_type": "code",
   "execution_count": 118,
   "outputs": [
    {
     "name": "stdout",
     "output_type": "stream",
     "text": [
      "350\n",
      "['C2', 'C4', 'C6', 'C7', 'C8', 'C9', 'C10', 'C11', 'C12', 'C14', 'D12', 'V2', 'V3', 'V4', 'V5', 'V6', 'V7', 'V8', 'V9', 'V10', 'V11', 'V12', 'V14', 'V15', 'V16', 'V17', 'V18', 'V19', 'V20', 'V21', 'V22', 'V23', 'V24', 'V25', 'V26', 'V27', 'V28', 'V29', 'V30', 'V31', 'V32', 'V33', 'V34', 'V36', 'V37', 'V38', 'V39', 'V40', 'V41', 'V42', 'V43', 'V44', 'V45', 'V46', 'V47', 'V48', 'V49', 'V50', 'V51', 'V52', 'V54', 'V56', 'V57', 'V58', 'V59', 'V60', 'V61', 'V62', 'V63', 'V64', 'V65', 'V66', 'V67', 'V68', 'V69', 'V70', 'V71', 'V72', 'V73', 'V74', 'V76', 'V77', 'V78', 'V79', 'V80', 'V81', 'V82', 'V83', 'V84', 'V85', 'V86', 'V87', 'V88', 'V89', 'V90', 'V91', 'V92', 'V93', 'V94', 'V96', 'V97', 'V100', 'V101', 'V102', 'V103', 'V105', 'V106', 'V109', 'V110', 'V111', 'V112', 'V113', 'V114', 'V115', 'V116', 'V118', 'V119', 'V121', 'V122', 'V124', 'V125', 'V126', 'V127', 'V128', 'V129', 'V130', 'V131', 'V132', 'V133', 'V134', 'V135', 'V136', 'V137', 'V141', 'V142', 'V143', 'V144', 'V145', 'V146', 'V147', 'V148', 'V149', 'V150', 'V151', 'V152', 'V153', 'V154', 'V155', 'V156', 'V157', 'V158', 'V159', 'V160', 'V161', 'V162', 'V163', 'V164', 'V165', 'V166', 'V168', 'V169', 'V170', 'V171', 'V172', 'V173', 'V174', 'V175', 'V176', 'V177', 'V178', 'V179', 'V180', 'V181', 'V182', 'V183', 'V184', 'V185', 'V186', 'V187', 'V188', 'V189', 'V190', 'V191', 'V192', 'V193', 'V194', 'V195', 'V196', 'V197', 'V198', 'V199', 'V200', 'V201', 'V202', 'V203', 'V204', 'V205', 'V206', 'V207', 'V208', 'V209', 'V210', 'V211', 'V212', 'V213', 'V214', 'V215', 'V216', 'V217', 'V219', 'V220', 'V222', 'V223', 'V224', 'V225', 'V226', 'V227', 'V228', 'V229', 'V230', 'V231', 'V232', 'V233', 'V234', 'V235', 'V236', 'V237', 'V238', 'V239', 'V240', 'V241', 'V242', 'V243', 'V244', 'V245', 'V246', 'V247', 'V248', 'V249', 'V250', 'V251', 'V252', 'V253', 'V254', 'V255', 'V256', 'V257', 'V258', 'V259', 'V260', 'V261', 'V262', 'V263', 'V266', 'V267', 'V268', 'V269', 'V270', 'V271', 'V272', 'V273', 'V274', 'V275', 'V276', 'V277', 'V278', 'V280', 'V282', 'V288', 'V289', 'V292', 'V293', 'V295', 'V299', 'V300', 'V301', 'V304', 'V306', 'V307', 'V308', 'V309', 'V310', 'V311', 'V312', 'V313', 'V314', 'V315', 'V316', 'V317', 'V318', 'V319', 'V320', 'V321', 'V322', 'V323', 'V324', 'V325', 'V326', 'V327', 'V328', 'V329', 'V330', 'V331', 'V332', 'V333', 'V334', 'V335', 'V336', 'V337', 'V338', 'V339', 'id_05', 'id_09', 'id_11', 'id_14', 'id_17', 'id_32', 'ProductCD_C', 'ProductCD_W', 'card4_visa', 'card6_debit', 'card6_missing', 'M1_T', 'M1_missing', 'M2_missing', 'M3_missing', 'M6_missing', 'M8_missing', 'M9_missing', 'id_12_missing', 'id_15_Found', 'id_15_missing', 'id_16_Found', 'id_16_NotFound', 'id_16_missing', 'id_28_Found', 'id_28_missing', 'id_29_Found', 'id_29_NotFound', 'id_29_missing', 'id_34_missing', 'id_35_F', 'id_35_T', 'id_35_missing', 'id_36_F', 'id_36_missing', 'id_37_T', 'id_37_missing', 'id_38_missing', 'DeviceType_missing']\n"
     ]
    }
   ],
   "source": [
    "to_drop = [column for column in upper_tri.columns if any(upper_tri[column] > 0.90)]\n",
    "print(len(to_drop))\n",
    "print(to_drop)"
   ],
   "metadata": {
    "collapsed": false,
    "pycharm": {
     "name": "#%%\n"
    }
   }
  },
  {
   "cell_type": "code",
   "execution_count": 134,
   "outputs": [
    {
     "data": {
      "text/plain": "    isFraud  TransactionAmt  card1  card2  card3  card5       addr1  addr2  \\\n0         0         117.000   7919  194.0  150.0  202.0  225.000000   87.0   \n1         0          24.000  18018  452.0  150.0  117.0  110.000000   87.0   \n2         1          17.082  10876  104.0  185.0  137.0  291.916046  204.0   \n3         0          60.000   5195  555.0  150.0  226.0  205.000000   87.0   \n4         0          54.500  11157  215.0  150.0  226.0  204.000000   87.0   \n5         0           5.377   3154  408.0  185.0  224.0  291.916046  204.0   \n6         1          28.858   4504  500.0  185.0  219.0  291.916046  204.0   \n7         1         117.000  13484  307.0  150.0  226.0  123.000000   87.0   \n8         1          59.000   5853  225.0  150.0  117.0  181.000000   87.0   \n9         1          97.000  10011  319.0  150.0  226.0  476.000000   87.0   \n10        0          27.068  15885  545.0  185.0  138.0  291.916046  204.0   \n11        1          22.993   9642  103.0  185.0  226.0  291.916046  204.0   \n12        1         141.000   7815  161.0  150.0  117.0  203.000000   87.0   \n13        1          20.000   7648  357.0  150.0  226.0  330.000000   87.0   \n14        1         141.404  13413  103.0  185.0  137.0  291.916046  204.0   \n\n         dist1    C1  ...  id_34_match_status:-1  id_34_match_status:0  \\\n0   615.000000   1.0  ...                      0                     0   \n1   134.502014   1.0  ...                      0                     0   \n2   134.502014   5.0  ...                      0                     0   \n3     2.000000   1.0  ...                      0                     0   \n4   134.502014   1.0  ...                      0                     0   \n5   134.502014   7.0  ...                      0                     0   \n6   134.502014  11.0  ...                      0                     0   \n7    23.000000   1.0  ...                      0                     0   \n8   134.502014   3.0  ...                      0                     0   \n9    11.000000   3.0  ...                      0                     0   \n10  134.502014   1.0  ...                      0                     0   \n11  134.502014  22.0  ...                      0                     0   \n12  134.502014   1.0  ...                      0                     0   \n13  134.502014   3.0  ...                      0                     0   \n14  134.502014   4.0  ...                      0                     0   \n\n    id_34_match_status:1  id_34_match_status:2  id_36_T  id_37_F  id_38_F  \\\n0                      0                     0        0        0        0   \n1                      0                     0        0        0        0   \n2                      0                     0        0        0        0   \n3                      0                     0        0        0        0   \n4                      0                     0        0        0        0   \n5                      0                     0        0        0        1   \n6                      0                     0        0        1        0   \n7                      0                     0        0        0        0   \n8                      0                     0        0        0        0   \n9                      0                     0        0        0        0   \n10                     0                     0        1        0        1   \n11                     0                     0        0        0        1   \n12                     0                     0        0        0        0   \n13                     0                     1        1        0        0   \n14                     0                     0        0        0        1   \n\n    id_38_T  DeviceType_desktop  DeviceType_mobile  \n0         0                   0                  0  \n1         0                   0                  0  \n2         1                   1                  0  \n3         0                   0                  0  \n4         0                   0                  0  \n5         0                   0                  1  \n6         1                   0                  1  \n7         0                   0                  0  \n8         0                   0                  0  \n9         0                   0                  0  \n10        0                   1                  0  \n11        0                   1                  0  \n12        0                   0                  0  \n13        1                   1                  0  \n14        0                   1                  0  \n\n[15 rows x 124 columns]",
      "text/html": "<div>\n<style scoped>\n    .dataframe tbody tr th:only-of-type {\n        vertical-align: middle;\n    }\n\n    .dataframe tbody tr th {\n        vertical-align: top;\n    }\n\n    .dataframe thead th {\n        text-align: right;\n    }\n</style>\n<table border=\"1\" class=\"dataframe\">\n  <thead>\n    <tr style=\"text-align: right;\">\n      <th></th>\n      <th>isFraud</th>\n      <th>TransactionAmt</th>\n      <th>card1</th>\n      <th>card2</th>\n      <th>card3</th>\n      <th>card5</th>\n      <th>addr1</th>\n      <th>addr2</th>\n      <th>dist1</th>\n      <th>C1</th>\n      <th>...</th>\n      <th>id_34_match_status:-1</th>\n      <th>id_34_match_status:0</th>\n      <th>id_34_match_status:1</th>\n      <th>id_34_match_status:2</th>\n      <th>id_36_T</th>\n      <th>id_37_F</th>\n      <th>id_38_F</th>\n      <th>id_38_T</th>\n      <th>DeviceType_desktop</th>\n      <th>DeviceType_mobile</th>\n    </tr>\n  </thead>\n  <tbody>\n    <tr>\n      <th>0</th>\n      <td>0</td>\n      <td>117.000</td>\n      <td>7919</td>\n      <td>194.0</td>\n      <td>150.0</td>\n      <td>202.0</td>\n      <td>225.000000</td>\n      <td>87.0</td>\n      <td>615.000000</td>\n      <td>1.0</td>\n      <td>...</td>\n      <td>0</td>\n      <td>0</td>\n      <td>0</td>\n      <td>0</td>\n      <td>0</td>\n      <td>0</td>\n      <td>0</td>\n      <td>0</td>\n      <td>0</td>\n      <td>0</td>\n    </tr>\n    <tr>\n      <th>1</th>\n      <td>0</td>\n      <td>24.000</td>\n      <td>18018</td>\n      <td>452.0</td>\n      <td>150.0</td>\n      <td>117.0</td>\n      <td>110.000000</td>\n      <td>87.0</td>\n      <td>134.502014</td>\n      <td>1.0</td>\n      <td>...</td>\n      <td>0</td>\n      <td>0</td>\n      <td>0</td>\n      <td>0</td>\n      <td>0</td>\n      <td>0</td>\n      <td>0</td>\n      <td>0</td>\n      <td>0</td>\n      <td>0</td>\n    </tr>\n    <tr>\n      <th>2</th>\n      <td>1</td>\n      <td>17.082</td>\n      <td>10876</td>\n      <td>104.0</td>\n      <td>185.0</td>\n      <td>137.0</td>\n      <td>291.916046</td>\n      <td>204.0</td>\n      <td>134.502014</td>\n      <td>5.0</td>\n      <td>...</td>\n      <td>0</td>\n      <td>0</td>\n      <td>0</td>\n      <td>0</td>\n      <td>0</td>\n      <td>0</td>\n      <td>0</td>\n      <td>1</td>\n      <td>1</td>\n      <td>0</td>\n    </tr>\n    <tr>\n      <th>3</th>\n      <td>0</td>\n      <td>60.000</td>\n      <td>5195</td>\n      <td>555.0</td>\n      <td>150.0</td>\n      <td>226.0</td>\n      <td>205.000000</td>\n      <td>87.0</td>\n      <td>2.000000</td>\n      <td>1.0</td>\n      <td>...</td>\n      <td>0</td>\n      <td>0</td>\n      <td>0</td>\n      <td>0</td>\n      <td>0</td>\n      <td>0</td>\n      <td>0</td>\n      <td>0</td>\n      <td>0</td>\n      <td>0</td>\n    </tr>\n    <tr>\n      <th>4</th>\n      <td>0</td>\n      <td>54.500</td>\n      <td>11157</td>\n      <td>215.0</td>\n      <td>150.0</td>\n      <td>226.0</td>\n      <td>204.000000</td>\n      <td>87.0</td>\n      <td>134.502014</td>\n      <td>1.0</td>\n      <td>...</td>\n      <td>0</td>\n      <td>0</td>\n      <td>0</td>\n      <td>0</td>\n      <td>0</td>\n      <td>0</td>\n      <td>0</td>\n      <td>0</td>\n      <td>0</td>\n      <td>0</td>\n    </tr>\n    <tr>\n      <th>5</th>\n      <td>0</td>\n      <td>5.377</td>\n      <td>3154</td>\n      <td>408.0</td>\n      <td>185.0</td>\n      <td>224.0</td>\n      <td>291.916046</td>\n      <td>204.0</td>\n      <td>134.502014</td>\n      <td>7.0</td>\n      <td>...</td>\n      <td>0</td>\n      <td>0</td>\n      <td>0</td>\n      <td>0</td>\n      <td>0</td>\n      <td>0</td>\n      <td>1</td>\n      <td>0</td>\n      <td>0</td>\n      <td>1</td>\n    </tr>\n    <tr>\n      <th>6</th>\n      <td>1</td>\n      <td>28.858</td>\n      <td>4504</td>\n      <td>500.0</td>\n      <td>185.0</td>\n      <td>219.0</td>\n      <td>291.916046</td>\n      <td>204.0</td>\n      <td>134.502014</td>\n      <td>11.0</td>\n      <td>...</td>\n      <td>0</td>\n      <td>0</td>\n      <td>0</td>\n      <td>0</td>\n      <td>0</td>\n      <td>1</td>\n      <td>0</td>\n      <td>1</td>\n      <td>0</td>\n      <td>1</td>\n    </tr>\n    <tr>\n      <th>7</th>\n      <td>1</td>\n      <td>117.000</td>\n      <td>13484</td>\n      <td>307.0</td>\n      <td>150.0</td>\n      <td>226.0</td>\n      <td>123.000000</td>\n      <td>87.0</td>\n      <td>23.000000</td>\n      <td>1.0</td>\n      <td>...</td>\n      <td>0</td>\n      <td>0</td>\n      <td>0</td>\n      <td>0</td>\n      <td>0</td>\n      <td>0</td>\n      <td>0</td>\n      <td>0</td>\n      <td>0</td>\n      <td>0</td>\n    </tr>\n    <tr>\n      <th>8</th>\n      <td>1</td>\n      <td>59.000</td>\n      <td>5853</td>\n      <td>225.0</td>\n      <td>150.0</td>\n      <td>117.0</td>\n      <td>181.000000</td>\n      <td>87.0</td>\n      <td>134.502014</td>\n      <td>3.0</td>\n      <td>...</td>\n      <td>0</td>\n      <td>0</td>\n      <td>0</td>\n      <td>0</td>\n      <td>0</td>\n      <td>0</td>\n      <td>0</td>\n      <td>0</td>\n      <td>0</td>\n      <td>0</td>\n    </tr>\n    <tr>\n      <th>9</th>\n      <td>1</td>\n      <td>97.000</td>\n      <td>10011</td>\n      <td>319.0</td>\n      <td>150.0</td>\n      <td>226.0</td>\n      <td>476.000000</td>\n      <td>87.0</td>\n      <td>11.000000</td>\n      <td>3.0</td>\n      <td>...</td>\n      <td>0</td>\n      <td>0</td>\n      <td>0</td>\n      <td>0</td>\n      <td>0</td>\n      <td>0</td>\n      <td>0</td>\n      <td>0</td>\n      <td>0</td>\n      <td>0</td>\n    </tr>\n    <tr>\n      <th>10</th>\n      <td>0</td>\n      <td>27.068</td>\n      <td>15885</td>\n      <td>545.0</td>\n      <td>185.0</td>\n      <td>138.0</td>\n      <td>291.916046</td>\n      <td>204.0</td>\n      <td>134.502014</td>\n      <td>1.0</td>\n      <td>...</td>\n      <td>0</td>\n      <td>0</td>\n      <td>0</td>\n      <td>0</td>\n      <td>1</td>\n      <td>0</td>\n      <td>1</td>\n      <td>0</td>\n      <td>1</td>\n      <td>0</td>\n    </tr>\n    <tr>\n      <th>11</th>\n      <td>1</td>\n      <td>22.993</td>\n      <td>9642</td>\n      <td>103.0</td>\n      <td>185.0</td>\n      <td>226.0</td>\n      <td>291.916046</td>\n      <td>204.0</td>\n      <td>134.502014</td>\n      <td>22.0</td>\n      <td>...</td>\n      <td>0</td>\n      <td>0</td>\n      <td>0</td>\n      <td>0</td>\n      <td>0</td>\n      <td>0</td>\n      <td>1</td>\n      <td>0</td>\n      <td>1</td>\n      <td>0</td>\n    </tr>\n    <tr>\n      <th>12</th>\n      <td>1</td>\n      <td>141.000</td>\n      <td>7815</td>\n      <td>161.0</td>\n      <td>150.0</td>\n      <td>117.0</td>\n      <td>203.000000</td>\n      <td>87.0</td>\n      <td>134.502014</td>\n      <td>1.0</td>\n      <td>...</td>\n      <td>0</td>\n      <td>0</td>\n      <td>0</td>\n      <td>0</td>\n      <td>0</td>\n      <td>0</td>\n      <td>0</td>\n      <td>0</td>\n      <td>0</td>\n      <td>0</td>\n    </tr>\n    <tr>\n      <th>13</th>\n      <td>1</td>\n      <td>20.000</td>\n      <td>7648</td>\n      <td>357.0</td>\n      <td>150.0</td>\n      <td>226.0</td>\n      <td>330.000000</td>\n      <td>87.0</td>\n      <td>134.502014</td>\n      <td>3.0</td>\n      <td>...</td>\n      <td>0</td>\n      <td>0</td>\n      <td>0</td>\n      <td>1</td>\n      <td>1</td>\n      <td>0</td>\n      <td>0</td>\n      <td>1</td>\n      <td>1</td>\n      <td>0</td>\n    </tr>\n    <tr>\n      <th>14</th>\n      <td>1</td>\n      <td>141.404</td>\n      <td>13413</td>\n      <td>103.0</td>\n      <td>185.0</td>\n      <td>137.0</td>\n      <td>291.916046</td>\n      <td>204.0</td>\n      <td>134.502014</td>\n      <td>4.0</td>\n      <td>...</td>\n      <td>0</td>\n      <td>0</td>\n      <td>0</td>\n      <td>0</td>\n      <td>0</td>\n      <td>0</td>\n      <td>1</td>\n      <td>0</td>\n      <td>1</td>\n      <td>0</td>\n    </tr>\n  </tbody>\n</table>\n<p>15 rows × 124 columns</p>\n</div>"
     },
     "execution_count": 134,
     "metadata": {},
     "output_type": "execute_result"
    }
   ],
   "source": [
    "aux_balanced.drop(aux_balanced[to_drop],axis=1,inplace=True)\n",
    "aux_balanced.head(n=15)"
   ],
   "metadata": {
    "collapsed": false,
    "pycharm": {
     "name": "#%%\n"
    }
   }
  },
  {
   "cell_type": "code",
   "execution_count": 135,
   "outputs": [
    {
     "data": {
      "text/plain": "         isFraud  TransactionAmt  card1  card2  card3  card5       addr1  \\\n0              0         117.000   7919  194.0  150.0  202.0  225.000000   \n1              0          24.000  18018  452.0  150.0  117.0  110.000000   \n2              1          17.082  10876  104.0  185.0  137.0  291.916046   \n3              0          60.000   5195  555.0  150.0  226.0  205.000000   \n4              0          54.500  11157  215.0  150.0  226.0  204.000000   \n...          ...             ...    ...    ...    ...    ...         ...   \n1003795        0          29.000  16630  242.0  150.0  166.0  184.000000   \n1003796        1         161.083   5365  177.0  185.0  224.0  291.916046   \n1003797        0          72.950   1701  383.0  150.0  226.0  498.000000   \n1003798        1         107.950  10616  583.0  150.0  226.0  110.000000   \n1003799        1          54.000   7207  111.0  150.0  226.0  441.000000   \n\n         addr2       dist1    C1  ...  id_34_match_status:-1  \\\n0         87.0  615.000000   1.0  ...                      0   \n1         87.0  134.502014   1.0  ...                      0   \n2        204.0  134.502014   5.0  ...                      0   \n3         87.0    2.000000   1.0  ...                      0   \n4         87.0  134.502014   1.0  ...                      0   \n...        ...         ...   ...  ...                    ...   \n1003795   87.0  134.502014   1.0  ...                      0   \n1003796  204.0  134.502014  12.0  ...                      0   \n1003797   87.0  134.502014   1.0  ...                      0   \n1003798   87.0  134.502014  37.0  ...                      0   \n1003799   87.0  134.502014   3.0  ...                      0   \n\n         id_34_match_status:0  id_34_match_status:1  id_34_match_status:2  \\\n0                           0                     0                     0   \n1                           0                     0                     0   \n2                           0                     0                     0   \n3                           0                     0                     0   \n4                           0                     0                     0   \n...                       ...                   ...                   ...   \n1003795                     0                     0                     0   \n1003796                     0                     0                     0   \n1003797                     0                     0                     0   \n1003798                     0                     0                     0   \n1003799                     0                     0                     0   \n\n         id_36_T  id_37_F  id_38_F  id_38_T  DeviceType_desktop  \\\n0              0        0        0        0                   0   \n1              0        0        0        0                   0   \n2              0        0        0        1                   1   \n3              0        0        0        0                   0   \n4              0        0        0        0                   0   \n...          ...      ...      ...      ...                 ...   \n1003795        0        0        0        0                   0   \n1003796        0        0        0        1                   1   \n1003797        0        0        0        0                   0   \n1003798        0        0        0        0                   0   \n1003799        0        0        0        0                   0   \n\n         DeviceType_mobile  \n0                        0  \n1                        0  \n2                        0  \n3                        0  \n4                        0  \n...                    ...  \n1003795                  0  \n1003796                  0  \n1003797                  0  \n1003798                  0  \n1003799                  0  \n\n[1003800 rows x 124 columns]",
      "text/html": "<div>\n<style scoped>\n    .dataframe tbody tr th:only-of-type {\n        vertical-align: middle;\n    }\n\n    .dataframe tbody tr th {\n        vertical-align: top;\n    }\n\n    .dataframe thead th {\n        text-align: right;\n    }\n</style>\n<table border=\"1\" class=\"dataframe\">\n  <thead>\n    <tr style=\"text-align: right;\">\n      <th></th>\n      <th>isFraud</th>\n      <th>TransactionAmt</th>\n      <th>card1</th>\n      <th>card2</th>\n      <th>card3</th>\n      <th>card5</th>\n      <th>addr1</th>\n      <th>addr2</th>\n      <th>dist1</th>\n      <th>C1</th>\n      <th>...</th>\n      <th>id_34_match_status:-1</th>\n      <th>id_34_match_status:0</th>\n      <th>id_34_match_status:1</th>\n      <th>id_34_match_status:2</th>\n      <th>id_36_T</th>\n      <th>id_37_F</th>\n      <th>id_38_F</th>\n      <th>id_38_T</th>\n      <th>DeviceType_desktop</th>\n      <th>DeviceType_mobile</th>\n    </tr>\n  </thead>\n  <tbody>\n    <tr>\n      <th>0</th>\n      <td>0</td>\n      <td>117.000</td>\n      <td>7919</td>\n      <td>194.0</td>\n      <td>150.0</td>\n      <td>202.0</td>\n      <td>225.000000</td>\n      <td>87.0</td>\n      <td>615.000000</td>\n      <td>1.0</td>\n      <td>...</td>\n      <td>0</td>\n      <td>0</td>\n      <td>0</td>\n      <td>0</td>\n      <td>0</td>\n      <td>0</td>\n      <td>0</td>\n      <td>0</td>\n      <td>0</td>\n      <td>0</td>\n    </tr>\n    <tr>\n      <th>1</th>\n      <td>0</td>\n      <td>24.000</td>\n      <td>18018</td>\n      <td>452.0</td>\n      <td>150.0</td>\n      <td>117.0</td>\n      <td>110.000000</td>\n      <td>87.0</td>\n      <td>134.502014</td>\n      <td>1.0</td>\n      <td>...</td>\n      <td>0</td>\n      <td>0</td>\n      <td>0</td>\n      <td>0</td>\n      <td>0</td>\n      <td>0</td>\n      <td>0</td>\n      <td>0</td>\n      <td>0</td>\n      <td>0</td>\n    </tr>\n    <tr>\n      <th>2</th>\n      <td>1</td>\n      <td>17.082</td>\n      <td>10876</td>\n      <td>104.0</td>\n      <td>185.0</td>\n      <td>137.0</td>\n      <td>291.916046</td>\n      <td>204.0</td>\n      <td>134.502014</td>\n      <td>5.0</td>\n      <td>...</td>\n      <td>0</td>\n      <td>0</td>\n      <td>0</td>\n      <td>0</td>\n      <td>0</td>\n      <td>0</td>\n      <td>0</td>\n      <td>1</td>\n      <td>1</td>\n      <td>0</td>\n    </tr>\n    <tr>\n      <th>3</th>\n      <td>0</td>\n      <td>60.000</td>\n      <td>5195</td>\n      <td>555.0</td>\n      <td>150.0</td>\n      <td>226.0</td>\n      <td>205.000000</td>\n      <td>87.0</td>\n      <td>2.000000</td>\n      <td>1.0</td>\n      <td>...</td>\n      <td>0</td>\n      <td>0</td>\n      <td>0</td>\n      <td>0</td>\n      <td>0</td>\n      <td>0</td>\n      <td>0</td>\n      <td>0</td>\n      <td>0</td>\n      <td>0</td>\n    </tr>\n    <tr>\n      <th>4</th>\n      <td>0</td>\n      <td>54.500</td>\n      <td>11157</td>\n      <td>215.0</td>\n      <td>150.0</td>\n      <td>226.0</td>\n      <td>204.000000</td>\n      <td>87.0</td>\n      <td>134.502014</td>\n      <td>1.0</td>\n      <td>...</td>\n      <td>0</td>\n      <td>0</td>\n      <td>0</td>\n      <td>0</td>\n      <td>0</td>\n      <td>0</td>\n      <td>0</td>\n      <td>0</td>\n      <td>0</td>\n      <td>0</td>\n    </tr>\n    <tr>\n      <th>...</th>\n      <td>...</td>\n      <td>...</td>\n      <td>...</td>\n      <td>...</td>\n      <td>...</td>\n      <td>...</td>\n      <td>...</td>\n      <td>...</td>\n      <td>...</td>\n      <td>...</td>\n      <td>...</td>\n      <td>...</td>\n      <td>...</td>\n      <td>...</td>\n      <td>...</td>\n      <td>...</td>\n      <td>...</td>\n      <td>...</td>\n      <td>...</td>\n      <td>...</td>\n      <td>...</td>\n    </tr>\n    <tr>\n      <th>1003795</th>\n      <td>0</td>\n      <td>29.000</td>\n      <td>16630</td>\n      <td>242.0</td>\n      <td>150.0</td>\n      <td>166.0</td>\n      <td>184.000000</td>\n      <td>87.0</td>\n      <td>134.502014</td>\n      <td>1.0</td>\n      <td>...</td>\n      <td>0</td>\n      <td>0</td>\n      <td>0</td>\n      <td>0</td>\n      <td>0</td>\n      <td>0</td>\n      <td>0</td>\n      <td>0</td>\n      <td>0</td>\n      <td>0</td>\n    </tr>\n    <tr>\n      <th>1003796</th>\n      <td>1</td>\n      <td>161.083</td>\n      <td>5365</td>\n      <td>177.0</td>\n      <td>185.0</td>\n      <td>224.0</td>\n      <td>291.916046</td>\n      <td>204.0</td>\n      <td>134.502014</td>\n      <td>12.0</td>\n      <td>...</td>\n      <td>0</td>\n      <td>0</td>\n      <td>0</td>\n      <td>0</td>\n      <td>0</td>\n      <td>0</td>\n      <td>0</td>\n      <td>1</td>\n      <td>1</td>\n      <td>0</td>\n    </tr>\n    <tr>\n      <th>1003797</th>\n      <td>0</td>\n      <td>72.950</td>\n      <td>1701</td>\n      <td>383.0</td>\n      <td>150.0</td>\n      <td>226.0</td>\n      <td>498.000000</td>\n      <td>87.0</td>\n      <td>134.502014</td>\n      <td>1.0</td>\n      <td>...</td>\n      <td>0</td>\n      <td>0</td>\n      <td>0</td>\n      <td>0</td>\n      <td>0</td>\n      <td>0</td>\n      <td>0</td>\n      <td>0</td>\n      <td>0</td>\n      <td>0</td>\n    </tr>\n    <tr>\n      <th>1003798</th>\n      <td>1</td>\n      <td>107.950</td>\n      <td>10616</td>\n      <td>583.0</td>\n      <td>150.0</td>\n      <td>226.0</td>\n      <td>110.000000</td>\n      <td>87.0</td>\n      <td>134.502014</td>\n      <td>37.0</td>\n      <td>...</td>\n      <td>0</td>\n      <td>0</td>\n      <td>0</td>\n      <td>0</td>\n      <td>0</td>\n      <td>0</td>\n      <td>0</td>\n      <td>0</td>\n      <td>0</td>\n      <td>0</td>\n    </tr>\n    <tr>\n      <th>1003799</th>\n      <td>1</td>\n      <td>54.000</td>\n      <td>7207</td>\n      <td>111.0</td>\n      <td>150.0</td>\n      <td>226.0</td>\n      <td>441.000000</td>\n      <td>87.0</td>\n      <td>134.502014</td>\n      <td>3.0</td>\n      <td>...</td>\n      <td>0</td>\n      <td>0</td>\n      <td>0</td>\n      <td>0</td>\n      <td>0</td>\n      <td>0</td>\n      <td>0</td>\n      <td>0</td>\n      <td>0</td>\n      <td>0</td>\n    </tr>\n  </tbody>\n</table>\n<p>1003800 rows × 124 columns</p>\n</div>"
     },
     "execution_count": 135,
     "metadata": {},
     "output_type": "execute_result"
    }
   ],
   "source": [
    "aux_balanced"
   ],
   "metadata": {
    "collapsed": false,
    "pycharm": {
     "name": "#%%\n"
    }
   }
  },
  {
   "cell_type": "code",
   "execution_count": 136,
   "outputs": [
    {
     "data": {
      "text/plain": "         isFraud  TransactionAmt     card1  card2     card3     card5  \\\n0            0.0        0.003656  0.397735  0.188  0.138122  0.744526   \n1            0.0        0.000744  0.978271  0.704  0.138122  0.124088   \n2            1.0        0.000527  0.567717  0.008  0.234807  0.270073   \n3            0.0        0.001871  0.241147  0.910  0.138122  0.919708   \n4            0.0        0.001699  0.583870  0.230  0.138122  0.919708   \n...          ...             ...       ...    ...       ...       ...   \n1003795      0.0        0.000900  0.898482  0.284  0.138122  0.481752   \n1003796      1.0        0.005036  0.250920  0.154  0.234807  0.905109   \n1003797      0.0        0.002276  0.040297  0.566  0.138122  0.919708   \n1003798      1.0        0.003372  0.552771  0.966  0.138122  0.919708   \n1003799      1.0        0.001683  0.356806  0.022  0.138122  0.919708   \n\n            addr1     addr2     dist1        C1  ...  id_34_match_status:-1  \\\n0        0.284091  0.396907  0.059790  0.000213  ...                    0.0   \n1        0.022727  0.396907  0.013076  0.000213  ...                    0.0   \n2        0.436173  1.000000  0.013076  0.001067  ...                    0.0   \n3        0.238636  0.396907  0.000194  0.000213  ...                    0.0   \n4        0.236364  0.396907  0.013076  0.000213  ...                    0.0   \n...           ...       ...       ...       ...  ...                    ...   \n1003795  0.190909  0.396907  0.013076  0.000213  ...                    0.0   \n1003796  0.436173  1.000000  0.013076  0.002561  ...                    0.0   \n1003797  0.904545  0.396907  0.013076  0.000213  ...                    0.0   \n1003798  0.022727  0.396907  0.013076  0.007898  ...                    0.0   \n1003799  0.775000  0.396907  0.013076  0.000640  ...                    0.0   \n\n         id_34_match_status:0  id_34_match_status:1  id_34_match_status:2  \\\n0                         0.0                   0.0                   0.0   \n1                         0.0                   0.0                   0.0   \n2                         0.0                   0.0                   0.0   \n3                         0.0                   0.0                   0.0   \n4                         0.0                   0.0                   0.0   \n...                       ...                   ...                   ...   \n1003795                   0.0                   0.0                   0.0   \n1003796                   0.0                   0.0                   0.0   \n1003797                   0.0                   0.0                   0.0   \n1003798                   0.0                   0.0                   0.0   \n1003799                   0.0                   0.0                   0.0   \n\n         id_36_T  id_37_F  id_38_F  id_38_T  DeviceType_desktop  \\\n0            0.0      0.0      0.0      0.0                 0.0   \n1            0.0      0.0      0.0      0.0                 0.0   \n2            0.0      0.0      0.0      1.0                 1.0   \n3            0.0      0.0      0.0      0.0                 0.0   \n4            0.0      0.0      0.0      0.0                 0.0   \n...          ...      ...      ...      ...                 ...   \n1003795      0.0      0.0      0.0      0.0                 0.0   \n1003796      0.0      0.0      0.0      1.0                 1.0   \n1003797      0.0      0.0      0.0      0.0                 0.0   \n1003798      0.0      0.0      0.0      0.0                 0.0   \n1003799      0.0      0.0      0.0      0.0                 0.0   \n\n         DeviceType_mobile  \n0                      0.0  \n1                      0.0  \n2                      0.0  \n3                      0.0  \n4                      0.0  \n...                    ...  \n1003795                0.0  \n1003796                0.0  \n1003797                0.0  \n1003798                0.0  \n1003799                0.0  \n\n[1003800 rows x 124 columns]",
      "text/html": "<div>\n<style scoped>\n    .dataframe tbody tr th:only-of-type {\n        vertical-align: middle;\n    }\n\n    .dataframe tbody tr th {\n        vertical-align: top;\n    }\n\n    .dataframe thead th {\n        text-align: right;\n    }\n</style>\n<table border=\"1\" class=\"dataframe\">\n  <thead>\n    <tr style=\"text-align: right;\">\n      <th></th>\n      <th>isFraud</th>\n      <th>TransactionAmt</th>\n      <th>card1</th>\n      <th>card2</th>\n      <th>card3</th>\n      <th>card5</th>\n      <th>addr1</th>\n      <th>addr2</th>\n      <th>dist1</th>\n      <th>C1</th>\n      <th>...</th>\n      <th>id_34_match_status:-1</th>\n      <th>id_34_match_status:0</th>\n      <th>id_34_match_status:1</th>\n      <th>id_34_match_status:2</th>\n      <th>id_36_T</th>\n      <th>id_37_F</th>\n      <th>id_38_F</th>\n      <th>id_38_T</th>\n      <th>DeviceType_desktop</th>\n      <th>DeviceType_mobile</th>\n    </tr>\n  </thead>\n  <tbody>\n    <tr>\n      <th>0</th>\n      <td>0.0</td>\n      <td>0.003656</td>\n      <td>0.397735</td>\n      <td>0.188</td>\n      <td>0.138122</td>\n      <td>0.744526</td>\n      <td>0.284091</td>\n      <td>0.396907</td>\n      <td>0.059790</td>\n      <td>0.000213</td>\n      <td>...</td>\n      <td>0.0</td>\n      <td>0.0</td>\n      <td>0.0</td>\n      <td>0.0</td>\n      <td>0.0</td>\n      <td>0.0</td>\n      <td>0.0</td>\n      <td>0.0</td>\n      <td>0.0</td>\n      <td>0.0</td>\n    </tr>\n    <tr>\n      <th>1</th>\n      <td>0.0</td>\n      <td>0.000744</td>\n      <td>0.978271</td>\n      <td>0.704</td>\n      <td>0.138122</td>\n      <td>0.124088</td>\n      <td>0.022727</td>\n      <td>0.396907</td>\n      <td>0.013076</td>\n      <td>0.000213</td>\n      <td>...</td>\n      <td>0.0</td>\n      <td>0.0</td>\n      <td>0.0</td>\n      <td>0.0</td>\n      <td>0.0</td>\n      <td>0.0</td>\n      <td>0.0</td>\n      <td>0.0</td>\n      <td>0.0</td>\n      <td>0.0</td>\n    </tr>\n    <tr>\n      <th>2</th>\n      <td>1.0</td>\n      <td>0.000527</td>\n      <td>0.567717</td>\n      <td>0.008</td>\n      <td>0.234807</td>\n      <td>0.270073</td>\n      <td>0.436173</td>\n      <td>1.000000</td>\n      <td>0.013076</td>\n      <td>0.001067</td>\n      <td>...</td>\n      <td>0.0</td>\n      <td>0.0</td>\n      <td>0.0</td>\n      <td>0.0</td>\n      <td>0.0</td>\n      <td>0.0</td>\n      <td>0.0</td>\n      <td>1.0</td>\n      <td>1.0</td>\n      <td>0.0</td>\n    </tr>\n    <tr>\n      <th>3</th>\n      <td>0.0</td>\n      <td>0.001871</td>\n      <td>0.241147</td>\n      <td>0.910</td>\n      <td>0.138122</td>\n      <td>0.919708</td>\n      <td>0.238636</td>\n      <td>0.396907</td>\n      <td>0.000194</td>\n      <td>0.000213</td>\n      <td>...</td>\n      <td>0.0</td>\n      <td>0.0</td>\n      <td>0.0</td>\n      <td>0.0</td>\n      <td>0.0</td>\n      <td>0.0</td>\n      <td>0.0</td>\n      <td>0.0</td>\n      <td>0.0</td>\n      <td>0.0</td>\n    </tr>\n    <tr>\n      <th>4</th>\n      <td>0.0</td>\n      <td>0.001699</td>\n      <td>0.583870</td>\n      <td>0.230</td>\n      <td>0.138122</td>\n      <td>0.919708</td>\n      <td>0.236364</td>\n      <td>0.396907</td>\n      <td>0.013076</td>\n      <td>0.000213</td>\n      <td>...</td>\n      <td>0.0</td>\n      <td>0.0</td>\n      <td>0.0</td>\n      <td>0.0</td>\n      <td>0.0</td>\n      <td>0.0</td>\n      <td>0.0</td>\n      <td>0.0</td>\n      <td>0.0</td>\n      <td>0.0</td>\n    </tr>\n    <tr>\n      <th>...</th>\n      <td>...</td>\n      <td>...</td>\n      <td>...</td>\n      <td>...</td>\n      <td>...</td>\n      <td>...</td>\n      <td>...</td>\n      <td>...</td>\n      <td>...</td>\n      <td>...</td>\n      <td>...</td>\n      <td>...</td>\n      <td>...</td>\n      <td>...</td>\n      <td>...</td>\n      <td>...</td>\n      <td>...</td>\n      <td>...</td>\n      <td>...</td>\n      <td>...</td>\n      <td>...</td>\n    </tr>\n    <tr>\n      <th>1003795</th>\n      <td>0.0</td>\n      <td>0.000900</td>\n      <td>0.898482</td>\n      <td>0.284</td>\n      <td>0.138122</td>\n      <td>0.481752</td>\n      <td>0.190909</td>\n      <td>0.396907</td>\n      <td>0.013076</td>\n      <td>0.000213</td>\n      <td>...</td>\n      <td>0.0</td>\n      <td>0.0</td>\n      <td>0.0</td>\n      <td>0.0</td>\n      <td>0.0</td>\n      <td>0.0</td>\n      <td>0.0</td>\n      <td>0.0</td>\n      <td>0.0</td>\n      <td>0.0</td>\n    </tr>\n    <tr>\n      <th>1003796</th>\n      <td>1.0</td>\n      <td>0.005036</td>\n      <td>0.250920</td>\n      <td>0.154</td>\n      <td>0.234807</td>\n      <td>0.905109</td>\n      <td>0.436173</td>\n      <td>1.000000</td>\n      <td>0.013076</td>\n      <td>0.002561</td>\n      <td>...</td>\n      <td>0.0</td>\n      <td>0.0</td>\n      <td>0.0</td>\n      <td>0.0</td>\n      <td>0.0</td>\n      <td>0.0</td>\n      <td>0.0</td>\n      <td>1.0</td>\n      <td>1.0</td>\n      <td>0.0</td>\n    </tr>\n    <tr>\n      <th>1003797</th>\n      <td>0.0</td>\n      <td>0.002276</td>\n      <td>0.040297</td>\n      <td>0.566</td>\n      <td>0.138122</td>\n      <td>0.919708</td>\n      <td>0.904545</td>\n      <td>0.396907</td>\n      <td>0.013076</td>\n      <td>0.000213</td>\n      <td>...</td>\n      <td>0.0</td>\n      <td>0.0</td>\n      <td>0.0</td>\n      <td>0.0</td>\n      <td>0.0</td>\n      <td>0.0</td>\n      <td>0.0</td>\n      <td>0.0</td>\n      <td>0.0</td>\n      <td>0.0</td>\n    </tr>\n    <tr>\n      <th>1003798</th>\n      <td>1.0</td>\n      <td>0.003372</td>\n      <td>0.552771</td>\n      <td>0.966</td>\n      <td>0.138122</td>\n      <td>0.919708</td>\n      <td>0.022727</td>\n      <td>0.396907</td>\n      <td>0.013076</td>\n      <td>0.007898</td>\n      <td>...</td>\n      <td>0.0</td>\n      <td>0.0</td>\n      <td>0.0</td>\n      <td>0.0</td>\n      <td>0.0</td>\n      <td>0.0</td>\n      <td>0.0</td>\n      <td>0.0</td>\n      <td>0.0</td>\n      <td>0.0</td>\n    </tr>\n    <tr>\n      <th>1003799</th>\n      <td>1.0</td>\n      <td>0.001683</td>\n      <td>0.356806</td>\n      <td>0.022</td>\n      <td>0.138122</td>\n      <td>0.919708</td>\n      <td>0.775000</td>\n      <td>0.396907</td>\n      <td>0.013076</td>\n      <td>0.000640</td>\n      <td>...</td>\n      <td>0.0</td>\n      <td>0.0</td>\n      <td>0.0</td>\n      <td>0.0</td>\n      <td>0.0</td>\n      <td>0.0</td>\n      <td>0.0</td>\n      <td>0.0</td>\n      <td>0.0</td>\n      <td>0.0</td>\n    </tr>\n  </tbody>\n</table>\n<p>1003800 rows × 124 columns</p>\n</div>"
     },
     "execution_count": 136,
     "metadata": {},
     "output_type": "execute_result"
    }
   ],
   "source": [
    "scaler = MinMaxScaler()\n",
    "aux3=scaler.fit_transform(aux_balanced)\n",
    "aux_balanced1=pd.DataFrame(aux3,index=aux_balanced.index,columns=aux_balanced.columns)\n",
    "aux_balanced1"
   ],
   "metadata": {
    "collapsed": false,
    "pycharm": {
     "name": "#%%\n"
    }
   }
  },
  {
   "cell_type": "code",
   "execution_count": 137,
   "outputs": [],
   "source": [
    "aux_balanced1['id_34_match_status:minus1']=aux_balanced1['id_34_match_status:-1']\n",
    "aux_balanced1.drop('id_34_match_status:-1',axis=1,inplace=True)\n",
    "import re\n",
    "aux_balanced1 = aux_balanced1.rename(columns = lambda x:re.sub('[^A-Za-z0-9_]+', '', x))"
   ],
   "metadata": {
    "collapsed": false,
    "pycharm": {
     "name": "#%%\n"
    }
   }
  },
  {
   "cell_type": "code",
   "execution_count": 138,
   "outputs": [],
   "source": [
    "X = aux_balanced1\n",
    "Xtrain, Xtest = train_test_split(X, test_size=0.2)\n",
    "Ytrain = Xtrain['isFraud']\n",
    "Ytest = Xtest['isFraud']"
   ],
   "metadata": {
    "collapsed": false,
    "pycharm": {
     "name": "#%%\n"
    }
   }
  },
  {
   "cell_type": "code",
   "execution_count": 139,
   "outputs": [],
   "source": [
    "Xtrain.drop('isFraud',axis=1,inplace=True)\n",
    "Xtest.drop('isFraud',axis=1,inplace=True)"
   ],
   "metadata": {
    "collapsed": false,
    "pycharm": {
     "name": "#%%\n"
    }
   }
  },
  {
   "cell_type": "code",
   "execution_count": 140,
   "outputs": [
    {
     "data": {
      "text/plain": "        TransactionAmt     card1     card2     card3     card5     addr1  \\\n465350        0.002341  0.849333  0.762000  0.138122  0.014599  0.522727   \n574202        0.012030  0.808577  0.140000  0.138122  0.014599  0.052273   \n945241        0.001040  0.869855  0.022000  0.138122  0.919708  0.452273   \n191039        0.001840  0.703265  0.396000  0.138122  0.919708  0.236364   \n629199        0.000643  0.808404  0.527421  0.138122  0.919708  0.436173   \n...                ...       ...       ...       ...       ...       ...   \n990589        0.001558  0.425730  0.328000  0.138122  0.919708  0.538636   \n69118         0.004689  0.378535  0.906000  0.138122  0.919708  0.384091   \n663545        0.000618  0.922913  0.586000  0.138122  0.124088  0.522727   \n12381         0.002754  0.072201  0.890000  0.234807  0.919708  0.436173   \n815098        0.006661  0.092895  0.454000  0.138122  0.014599  0.184091   \n\n           addr2     dist1        C1   C3  ...  id_34_match_status0  \\\n465350  0.396907  0.013076  0.001067  0.0  ...                  0.0   \n574202  0.396907  0.013076  0.000213  0.0  ...                  0.0   \n945241  0.396907  0.013076  0.000427  0.0  ...                  0.0   \n191039  0.396907  0.013076  0.000213  0.0  ...                  0.0   \n629199  1.000000  0.013076  0.000213  0.0  ...                  0.0   \n...          ...       ...       ...  ...  ...                  ...   \n990589  0.396907  0.013076  0.000213  0.0  ...                  0.0   \n69118   0.396907  0.013076  0.000213  0.0  ...                  0.0   \n663545  0.396907  0.013076  0.001281  0.0  ...                  0.0   \n12381   1.000000  0.013076  0.000213  0.0  ...                  0.0   \n815098  0.396907  0.013076  0.000427  0.0  ...                  0.0   \n\n        id_34_match_status1  id_34_match_status2  id_36_T  id_37_F  id_38_F  \\\n465350                  0.0                  1.0      0.0      0.0      1.0   \n574202                  0.0                  0.0      0.0      0.0      0.0   \n945241                  0.0                  0.0      0.0      0.0      0.0   \n191039                  0.0                  0.0      0.0      0.0      0.0   \n629199                  0.0                  0.0      0.0      0.0      1.0   \n...                     ...                  ...      ...      ...      ...   \n990589                  0.0                  1.0      0.0      0.0      0.0   \n69118                   1.0                  0.0      0.0      1.0      1.0   \n663545                  0.0                  1.0      0.0      0.0      0.0   \n12381                   0.0                  0.0      0.0      0.0      0.0   \n815098                  0.0                  0.0      0.0      0.0      0.0   \n\n        id_38_T  DeviceType_desktop  DeviceType_mobile  \\\n465350      0.0                 1.0                0.0   \n574202      0.0                 0.0                0.0   \n945241      0.0                 0.0                0.0   \n191039      0.0                 0.0                0.0   \n629199      0.0                 0.0                1.0   \n...         ...                 ...                ...   \n990589      1.0                 1.0                0.0   \n69118       0.0                 0.0                1.0   \n663545      1.0                 1.0                0.0   \n12381       0.0                 0.0                0.0   \n815098      0.0                 0.0                0.0   \n\n        id_34_match_statusminus1  \n465350                       0.0  \n574202                       0.0  \n945241                       0.0  \n191039                       0.0  \n629199                       0.0  \n...                          ...  \n990589                       0.0  \n69118                        0.0  \n663545                       0.0  \n12381                        0.0  \n815098                       0.0  \n\n[803040 rows x 123 columns]",
      "text/html": "<div>\n<style scoped>\n    .dataframe tbody tr th:only-of-type {\n        vertical-align: middle;\n    }\n\n    .dataframe tbody tr th {\n        vertical-align: top;\n    }\n\n    .dataframe thead th {\n        text-align: right;\n    }\n</style>\n<table border=\"1\" class=\"dataframe\">\n  <thead>\n    <tr style=\"text-align: right;\">\n      <th></th>\n      <th>TransactionAmt</th>\n      <th>card1</th>\n      <th>card2</th>\n      <th>card3</th>\n      <th>card5</th>\n      <th>addr1</th>\n      <th>addr2</th>\n      <th>dist1</th>\n      <th>C1</th>\n      <th>C3</th>\n      <th>...</th>\n      <th>id_34_match_status0</th>\n      <th>id_34_match_status1</th>\n      <th>id_34_match_status2</th>\n      <th>id_36_T</th>\n      <th>id_37_F</th>\n      <th>id_38_F</th>\n      <th>id_38_T</th>\n      <th>DeviceType_desktop</th>\n      <th>DeviceType_mobile</th>\n      <th>id_34_match_statusminus1</th>\n    </tr>\n  </thead>\n  <tbody>\n    <tr>\n      <th>465350</th>\n      <td>0.002341</td>\n      <td>0.849333</td>\n      <td>0.762000</td>\n      <td>0.138122</td>\n      <td>0.014599</td>\n      <td>0.522727</td>\n      <td>0.396907</td>\n      <td>0.013076</td>\n      <td>0.001067</td>\n      <td>0.0</td>\n      <td>...</td>\n      <td>0.0</td>\n      <td>0.0</td>\n      <td>1.0</td>\n      <td>0.0</td>\n      <td>0.0</td>\n      <td>1.0</td>\n      <td>0.0</td>\n      <td>1.0</td>\n      <td>0.0</td>\n      <td>0.0</td>\n    </tr>\n    <tr>\n      <th>574202</th>\n      <td>0.012030</td>\n      <td>0.808577</td>\n      <td>0.140000</td>\n      <td>0.138122</td>\n      <td>0.014599</td>\n      <td>0.052273</td>\n      <td>0.396907</td>\n      <td>0.013076</td>\n      <td>0.000213</td>\n      <td>0.0</td>\n      <td>...</td>\n      <td>0.0</td>\n      <td>0.0</td>\n      <td>0.0</td>\n      <td>0.0</td>\n      <td>0.0</td>\n      <td>0.0</td>\n      <td>0.0</td>\n      <td>0.0</td>\n      <td>0.0</td>\n      <td>0.0</td>\n    </tr>\n    <tr>\n      <th>945241</th>\n      <td>0.001040</td>\n      <td>0.869855</td>\n      <td>0.022000</td>\n      <td>0.138122</td>\n      <td>0.919708</td>\n      <td>0.452273</td>\n      <td>0.396907</td>\n      <td>0.013076</td>\n      <td>0.000427</td>\n      <td>0.0</td>\n      <td>...</td>\n      <td>0.0</td>\n      <td>0.0</td>\n      <td>0.0</td>\n      <td>0.0</td>\n      <td>0.0</td>\n      <td>0.0</td>\n      <td>0.0</td>\n      <td>0.0</td>\n      <td>0.0</td>\n      <td>0.0</td>\n    </tr>\n    <tr>\n      <th>191039</th>\n      <td>0.001840</td>\n      <td>0.703265</td>\n      <td>0.396000</td>\n      <td>0.138122</td>\n      <td>0.919708</td>\n      <td>0.236364</td>\n      <td>0.396907</td>\n      <td>0.013076</td>\n      <td>0.000213</td>\n      <td>0.0</td>\n      <td>...</td>\n      <td>0.0</td>\n      <td>0.0</td>\n      <td>0.0</td>\n      <td>0.0</td>\n      <td>0.0</td>\n      <td>0.0</td>\n      <td>0.0</td>\n      <td>0.0</td>\n      <td>0.0</td>\n      <td>0.0</td>\n    </tr>\n    <tr>\n      <th>629199</th>\n      <td>0.000643</td>\n      <td>0.808404</td>\n      <td>0.527421</td>\n      <td>0.138122</td>\n      <td>0.919708</td>\n      <td>0.436173</td>\n      <td>1.000000</td>\n      <td>0.013076</td>\n      <td>0.000213</td>\n      <td>0.0</td>\n      <td>...</td>\n      <td>0.0</td>\n      <td>0.0</td>\n      <td>0.0</td>\n      <td>0.0</td>\n      <td>0.0</td>\n      <td>1.0</td>\n      <td>0.0</td>\n      <td>0.0</td>\n      <td>1.0</td>\n      <td>0.0</td>\n    </tr>\n    <tr>\n      <th>...</th>\n      <td>...</td>\n      <td>...</td>\n      <td>...</td>\n      <td>...</td>\n      <td>...</td>\n      <td>...</td>\n      <td>...</td>\n      <td>...</td>\n      <td>...</td>\n      <td>...</td>\n      <td>...</td>\n      <td>...</td>\n      <td>...</td>\n      <td>...</td>\n      <td>...</td>\n      <td>...</td>\n      <td>...</td>\n      <td>...</td>\n      <td>...</td>\n      <td>...</td>\n      <td>...</td>\n    </tr>\n    <tr>\n      <th>990589</th>\n      <td>0.001558</td>\n      <td>0.425730</td>\n      <td>0.328000</td>\n      <td>0.138122</td>\n      <td>0.919708</td>\n      <td>0.538636</td>\n      <td>0.396907</td>\n      <td>0.013076</td>\n      <td>0.000213</td>\n      <td>0.0</td>\n      <td>...</td>\n      <td>0.0</td>\n      <td>0.0</td>\n      <td>1.0</td>\n      <td>0.0</td>\n      <td>0.0</td>\n      <td>0.0</td>\n      <td>1.0</td>\n      <td>1.0</td>\n      <td>0.0</td>\n      <td>0.0</td>\n    </tr>\n    <tr>\n      <th>69118</th>\n      <td>0.004689</td>\n      <td>0.378535</td>\n      <td>0.906000</td>\n      <td>0.138122</td>\n      <td>0.919708</td>\n      <td>0.384091</td>\n      <td>0.396907</td>\n      <td>0.013076</td>\n      <td>0.000213</td>\n      <td>0.0</td>\n      <td>...</td>\n      <td>0.0</td>\n      <td>1.0</td>\n      <td>0.0</td>\n      <td>0.0</td>\n      <td>1.0</td>\n      <td>1.0</td>\n      <td>0.0</td>\n      <td>0.0</td>\n      <td>1.0</td>\n      <td>0.0</td>\n    </tr>\n    <tr>\n      <th>663545</th>\n      <td>0.000618</td>\n      <td>0.922913</td>\n      <td>0.586000</td>\n      <td>0.138122</td>\n      <td>0.124088</td>\n      <td>0.522727</td>\n      <td>0.396907</td>\n      <td>0.013076</td>\n      <td>0.001281</td>\n      <td>0.0</td>\n      <td>...</td>\n      <td>0.0</td>\n      <td>0.0</td>\n      <td>1.0</td>\n      <td>0.0</td>\n      <td>0.0</td>\n      <td>0.0</td>\n      <td>1.0</td>\n      <td>1.0</td>\n      <td>0.0</td>\n      <td>0.0</td>\n    </tr>\n    <tr>\n      <th>12381</th>\n      <td>0.002754</td>\n      <td>0.072201</td>\n      <td>0.890000</td>\n      <td>0.234807</td>\n      <td>0.919708</td>\n      <td>0.436173</td>\n      <td>1.000000</td>\n      <td>0.013076</td>\n      <td>0.000213</td>\n      <td>0.0</td>\n      <td>...</td>\n      <td>0.0</td>\n      <td>0.0</td>\n      <td>0.0</td>\n      <td>0.0</td>\n      <td>0.0</td>\n      <td>0.0</td>\n      <td>0.0</td>\n      <td>0.0</td>\n      <td>0.0</td>\n      <td>0.0</td>\n    </tr>\n    <tr>\n      <th>815098</th>\n      <td>0.006661</td>\n      <td>0.092895</td>\n      <td>0.454000</td>\n      <td>0.138122</td>\n      <td>0.014599</td>\n      <td>0.184091</td>\n      <td>0.396907</td>\n      <td>0.013076</td>\n      <td>0.000427</td>\n      <td>0.0</td>\n      <td>...</td>\n      <td>0.0</td>\n      <td>0.0</td>\n      <td>0.0</td>\n      <td>0.0</td>\n      <td>0.0</td>\n      <td>0.0</td>\n      <td>0.0</td>\n      <td>0.0</td>\n      <td>0.0</td>\n      <td>0.0</td>\n    </tr>\n  </tbody>\n</table>\n<p>803040 rows × 123 columns</p>\n</div>"
     },
     "execution_count": 140,
     "metadata": {},
     "output_type": "execute_result"
    }
   ],
   "source": [
    "Xtrain"
   ],
   "metadata": {
    "collapsed": false,
    "pycharm": {
     "name": "#%%\n"
    }
   }
  },
  {
   "cell_type": "code",
   "execution_count": 141,
   "outputs": [
    {
     "data": {
      "text/plain": "465350    0.0\n574202    0.0\n945241    0.0\n191039    0.0\n629199    1.0\n         ... \n990589    1.0\n69118     0.0\n663545    0.0\n12381     1.0\n815098    1.0\nName: isFraud, Length: 803040, dtype: float64"
     },
     "execution_count": 141,
     "metadata": {},
     "output_type": "execute_result"
    }
   ],
   "source": [
    "Ytrain"
   ],
   "metadata": {
    "collapsed": false,
    "pycharm": {
     "name": "#%%\n"
    }
   }
  },
  {
   "cell_type": "markdown",
   "source": [
    "CHECK DATA ENGINEERING WORKS"
   ],
   "metadata": {
    "collapsed": false,
    "pycharm": {
     "name": "#%% md\n"
    }
   }
  },
  {
   "cell_type": "code",
   "execution_count": 171,
   "outputs": [],
   "source": [
    "df1=torch.load(\"ProcessedTrainingData.csv\")\n",
    "df2=torch.load(\"ProcessedTrainingData1.csv\")"
   ],
   "metadata": {
    "collapsed": false,
    "pycharm": {
     "name": "#%%\n"
    }
   }
  },
  {
   "cell_type": "code",
   "execution_count": 172,
   "outputs": [
    {
     "data": {
      "text/plain": "        isFraud  TransactionAmt     card1     card2     card3     card5  \\\n0           0.0        0.002137  0.743044  0.525111  0.138122  0.112299   \n1           0.0        0.000900  0.100885  0.608000  0.138122  0.005348   \n2           0.0        0.001840  0.210566  0.780000  0.138122  0.176471   \n3           0.0        0.001558  0.984824  0.934000  0.138122  0.045455   \n4           0.0        0.001558  0.201023  0.828000  0.138122  0.005348   \n...         ...             ...       ...       ...       ...       ...   \n590535      0.0        0.001526  0.319039  0.525111  0.138122  0.336898   \n590536      0.0        0.001229  0.542883  0.250000  0.138122  0.331551   \n590537      0.0        0.000961  0.634456  0.990000  0.138122  0.331551   \n590538      0.0        0.003656  0.392389  0.762000  0.138122  0.331551   \n590539      0.0        0.008758  0.808577  0.140000  0.138122  0.005348   \n\n           addr1     addr2     dist1        C1  ...  id_34_match_status0  \\\n0       0.488636  0.396907  0.001847  0.000213  ...                  0.0   \n1       0.511364  0.396907  0.011521  0.000213  ...                  0.0   \n2       0.522727  0.396907  0.027902  0.000213  ...                  0.0   \n3       0.854545  0.396907  0.011521  0.000427  ...                  0.0   \n4       0.727273  0.396907  0.011521  0.000213  ...                  0.0   \n...          ...       ...       ...       ...  ...                  ...   \n590535  0.390909  0.396907  0.004667  0.000427  ...                  0.0   \n590536  0.236364  0.396907  0.011521  0.000213  ...                  0.0   \n590537  0.297727  0.396907  0.011521  0.000213  ...                  0.0   \n590538  0.652273  0.396907  0.000292  0.000213  ...                  0.0   \n590539  0.452273  0.396907  0.011521  0.000427  ...                  0.0   \n\n        id_34_match_status1  id_34_match_status2  id_36_T  id_37_F  id_38_F  \\\n0                       0.0                  0.0      0.0      0.0      0.0   \n1                       0.0                  0.0      0.0      0.0      0.0   \n2                       0.0                  0.0      0.0      0.0      0.0   \n3                       0.0                  0.0      0.0      0.0      0.0   \n4                       0.0                  1.0      0.0      0.0      0.0   \n...                     ...                  ...      ...      ...      ...   \n590535                  0.0                  0.0      0.0      0.0      0.0   \n590536                  0.0                  0.0      0.0      0.0      0.0   \n590537                  0.0                  0.0      0.0      0.0      0.0   \n590538                  0.0                  0.0      0.0      0.0      0.0   \n590539                  0.0                  0.0      0.0      0.0      0.0   \n\n        id_38_T  DeviceType_desktop  DeviceType_mobile  \\\n0           0.0                 0.0                0.0   \n1           0.0                 0.0                0.0   \n2           0.0                 0.0                0.0   \n3           0.0                 0.0                0.0   \n4           1.0                 0.0                1.0   \n...         ...                 ...                ...   \n590535      0.0                 0.0                0.0   \n590536      0.0                 0.0                0.0   \n590537      0.0                 0.0                0.0   \n590538      0.0                 0.0                0.0   \n590539      0.0                 0.0                0.0   \n\n        id_34_match_statusminus1  \n0                            0.0  \n1                            0.0  \n2                            0.0  \n3                            0.0  \n4                            0.0  \n...                          ...  \n590535                       0.0  \n590536                       0.0  \n590537                       0.0  \n590538                       0.0  \n590539                       0.0  \n\n[590540 rows x 113 columns]",
      "text/html": "<div>\n<style scoped>\n    .dataframe tbody tr th:only-of-type {\n        vertical-align: middle;\n    }\n\n    .dataframe tbody tr th {\n        vertical-align: top;\n    }\n\n    .dataframe thead th {\n        text-align: right;\n    }\n</style>\n<table border=\"1\" class=\"dataframe\">\n  <thead>\n    <tr style=\"text-align: right;\">\n      <th></th>\n      <th>isFraud</th>\n      <th>TransactionAmt</th>\n      <th>card1</th>\n      <th>card2</th>\n      <th>card3</th>\n      <th>card5</th>\n      <th>addr1</th>\n      <th>addr2</th>\n      <th>dist1</th>\n      <th>C1</th>\n      <th>...</th>\n      <th>id_34_match_status0</th>\n      <th>id_34_match_status1</th>\n      <th>id_34_match_status2</th>\n      <th>id_36_T</th>\n      <th>id_37_F</th>\n      <th>id_38_F</th>\n      <th>id_38_T</th>\n      <th>DeviceType_desktop</th>\n      <th>DeviceType_mobile</th>\n      <th>id_34_match_statusminus1</th>\n    </tr>\n  </thead>\n  <tbody>\n    <tr>\n      <th>0</th>\n      <td>0.0</td>\n      <td>0.002137</td>\n      <td>0.743044</td>\n      <td>0.525111</td>\n      <td>0.138122</td>\n      <td>0.112299</td>\n      <td>0.488636</td>\n      <td>0.396907</td>\n      <td>0.001847</td>\n      <td>0.000213</td>\n      <td>...</td>\n      <td>0.0</td>\n      <td>0.0</td>\n      <td>0.0</td>\n      <td>0.0</td>\n      <td>0.0</td>\n      <td>0.0</td>\n      <td>0.0</td>\n      <td>0.0</td>\n      <td>0.0</td>\n      <td>0.0</td>\n    </tr>\n    <tr>\n      <th>1</th>\n      <td>0.0</td>\n      <td>0.000900</td>\n      <td>0.100885</td>\n      <td>0.608000</td>\n      <td>0.138122</td>\n      <td>0.005348</td>\n      <td>0.511364</td>\n      <td>0.396907</td>\n      <td>0.011521</td>\n      <td>0.000213</td>\n      <td>...</td>\n      <td>0.0</td>\n      <td>0.0</td>\n      <td>0.0</td>\n      <td>0.0</td>\n      <td>0.0</td>\n      <td>0.0</td>\n      <td>0.0</td>\n      <td>0.0</td>\n      <td>0.0</td>\n      <td>0.0</td>\n    </tr>\n    <tr>\n      <th>2</th>\n      <td>0.0</td>\n      <td>0.001840</td>\n      <td>0.210566</td>\n      <td>0.780000</td>\n      <td>0.138122</td>\n      <td>0.176471</td>\n      <td>0.522727</td>\n      <td>0.396907</td>\n      <td>0.027902</td>\n      <td>0.000213</td>\n      <td>...</td>\n      <td>0.0</td>\n      <td>0.0</td>\n      <td>0.0</td>\n      <td>0.0</td>\n      <td>0.0</td>\n      <td>0.0</td>\n      <td>0.0</td>\n      <td>0.0</td>\n      <td>0.0</td>\n      <td>0.0</td>\n    </tr>\n    <tr>\n      <th>3</th>\n      <td>0.0</td>\n      <td>0.001558</td>\n      <td>0.984824</td>\n      <td>0.934000</td>\n      <td>0.138122</td>\n      <td>0.045455</td>\n      <td>0.854545</td>\n      <td>0.396907</td>\n      <td>0.011521</td>\n      <td>0.000427</td>\n      <td>...</td>\n      <td>0.0</td>\n      <td>0.0</td>\n      <td>0.0</td>\n      <td>0.0</td>\n      <td>0.0</td>\n      <td>0.0</td>\n      <td>0.0</td>\n      <td>0.0</td>\n      <td>0.0</td>\n      <td>0.0</td>\n    </tr>\n    <tr>\n      <th>4</th>\n      <td>0.0</td>\n      <td>0.001558</td>\n      <td>0.201023</td>\n      <td>0.828000</td>\n      <td>0.138122</td>\n      <td>0.005348</td>\n      <td>0.727273</td>\n      <td>0.396907</td>\n      <td>0.011521</td>\n      <td>0.000213</td>\n      <td>...</td>\n      <td>0.0</td>\n      <td>0.0</td>\n      <td>1.0</td>\n      <td>0.0</td>\n      <td>0.0</td>\n      <td>0.0</td>\n      <td>1.0</td>\n      <td>0.0</td>\n      <td>1.0</td>\n      <td>0.0</td>\n    </tr>\n    <tr>\n      <th>...</th>\n      <td>...</td>\n      <td>...</td>\n      <td>...</td>\n      <td>...</td>\n      <td>...</td>\n      <td>...</td>\n      <td>...</td>\n      <td>...</td>\n      <td>...</td>\n      <td>...</td>\n      <td>...</td>\n      <td>...</td>\n      <td>...</td>\n      <td>...</td>\n      <td>...</td>\n      <td>...</td>\n      <td>...</td>\n      <td>...</td>\n      <td>...</td>\n      <td>...</td>\n      <td>...</td>\n    </tr>\n    <tr>\n      <th>590535</th>\n      <td>0.0</td>\n      <td>0.001526</td>\n      <td>0.319039</td>\n      <td>0.525111</td>\n      <td>0.138122</td>\n      <td>0.336898</td>\n      <td>0.390909</td>\n      <td>0.396907</td>\n      <td>0.004667</td>\n      <td>0.000427</td>\n      <td>...</td>\n      <td>0.0</td>\n      <td>0.0</td>\n      <td>0.0</td>\n      <td>0.0</td>\n      <td>0.0</td>\n      <td>0.0</td>\n      <td>0.0</td>\n      <td>0.0</td>\n      <td>0.0</td>\n      <td>0.0</td>\n    </tr>\n    <tr>\n      <th>590536</th>\n      <td>0.0</td>\n      <td>0.001229</td>\n      <td>0.542883</td>\n      <td>0.250000</td>\n      <td>0.138122</td>\n      <td>0.331551</td>\n      <td>0.236364</td>\n      <td>0.396907</td>\n      <td>0.011521</td>\n      <td>0.000213</td>\n      <td>...</td>\n      <td>0.0</td>\n      <td>0.0</td>\n      <td>0.0</td>\n      <td>0.0</td>\n      <td>0.0</td>\n      <td>0.0</td>\n      <td>0.0</td>\n      <td>0.0</td>\n      <td>0.0</td>\n      <td>0.0</td>\n    </tr>\n    <tr>\n      <th>590537</th>\n      <td>0.0</td>\n      <td>0.000961</td>\n      <td>0.634456</td>\n      <td>0.990000</td>\n      <td>0.138122</td>\n      <td>0.331551</td>\n      <td>0.297727</td>\n      <td>0.396907</td>\n      <td>0.011521</td>\n      <td>0.000213</td>\n      <td>...</td>\n      <td>0.0</td>\n      <td>0.0</td>\n      <td>0.0</td>\n      <td>0.0</td>\n      <td>0.0</td>\n      <td>0.0</td>\n      <td>0.0</td>\n      <td>0.0</td>\n      <td>0.0</td>\n      <td>0.0</td>\n    </tr>\n    <tr>\n      <th>590538</th>\n      <td>0.0</td>\n      <td>0.003656</td>\n      <td>0.392389</td>\n      <td>0.762000</td>\n      <td>0.138122</td>\n      <td>0.331551</td>\n      <td>0.652273</td>\n      <td>0.396907</td>\n      <td>0.000292</td>\n      <td>0.000213</td>\n      <td>...</td>\n      <td>0.0</td>\n      <td>0.0</td>\n      <td>0.0</td>\n      <td>0.0</td>\n      <td>0.0</td>\n      <td>0.0</td>\n      <td>0.0</td>\n      <td>0.0</td>\n      <td>0.0</td>\n      <td>0.0</td>\n    </tr>\n    <tr>\n      <th>590539</th>\n      <td>0.0</td>\n      <td>0.008758</td>\n      <td>0.808577</td>\n      <td>0.140000</td>\n      <td>0.138122</td>\n      <td>0.005348</td>\n      <td>0.452273</td>\n      <td>0.396907</td>\n      <td>0.011521</td>\n      <td>0.000427</td>\n      <td>...</td>\n      <td>0.0</td>\n      <td>0.0</td>\n      <td>0.0</td>\n      <td>0.0</td>\n      <td>0.0</td>\n      <td>0.0</td>\n      <td>0.0</td>\n      <td>0.0</td>\n      <td>0.0</td>\n      <td>0.0</td>\n    </tr>\n  </tbody>\n</table>\n<p>590540 rows × 113 columns</p>\n</div>"
     },
     "execution_count": 172,
     "metadata": {},
     "output_type": "execute_result"
    }
   ],
   "source": [
    "df1"
   ],
   "metadata": {
    "collapsed": false,
    "pycharm": {
     "name": "#%%\n"
    }
   }
  },
  {
   "cell_type": "code",
   "execution_count": 173,
   "outputs": [
    {
     "data": {
      "text/plain": "        isFraud  TransactionAmt     card1     card2     card3     card5  \\\n0           0.0        0.002137  0.743044  0.525111  0.138122  0.112299   \n1           0.0        0.000900  0.100885  0.608000  0.138122  0.005348   \n2           0.0        0.001840  0.210566  0.780000  0.138122  0.176471   \n3           0.0        0.001558  0.984824  0.934000  0.138122  0.045455   \n4           0.0        0.001558  0.201023  0.828000  0.138122  0.005348   \n...         ...             ...       ...       ...       ...       ...   \n590535      0.0        0.001526  0.319039  0.525111  0.138122  0.336898   \n590536      0.0        0.001229  0.542883  0.250000  0.138122  0.331551   \n590537      0.0        0.000961  0.634456  0.990000  0.138122  0.331551   \n590538      0.0        0.003656  0.392389  0.762000  0.138122  0.331551   \n590539      0.0        0.008758  0.808577  0.140000  0.138122  0.005348   \n\n           addr1     addr2     dist1        C1  ...  id_34_match_status0  \\\n0       0.488636  0.396907  0.001847  0.000213  ...                  0.0   \n1       0.511364  0.396907  0.011521  0.000213  ...                  0.0   \n2       0.522727  0.396907  0.027902  0.000213  ...                  0.0   \n3       0.854545  0.396907  0.011521  0.000427  ...                  0.0   \n4       0.727273  0.396907  0.011521  0.000213  ...                  0.0   \n...          ...       ...       ...       ...  ...                  ...   \n590535  0.390909  0.396907  0.004667  0.000427  ...                  0.0   \n590536  0.236364  0.396907  0.011521  0.000213  ...                  0.0   \n590537  0.297727  0.396907  0.011521  0.000213  ...                  0.0   \n590538  0.652273  0.396907  0.000292  0.000213  ...                  0.0   \n590539  0.452273  0.396907  0.011521  0.000427  ...                  0.0   \n\n        id_34_match_status1  id_34_match_status2  id_36_T  id_37_F  id_38_F  \\\n0                       0.0                  0.0      0.0      0.0      0.0   \n1                       0.0                  0.0      0.0      0.0      0.0   \n2                       0.0                  0.0      0.0      0.0      0.0   \n3                       0.0                  0.0      0.0      0.0      0.0   \n4                       0.0                  1.0      0.0      0.0      0.0   \n...                     ...                  ...      ...      ...      ...   \n590535                  0.0                  0.0      0.0      0.0      0.0   \n590536                  0.0                  0.0      0.0      0.0      0.0   \n590537                  0.0                  0.0      0.0      0.0      0.0   \n590538                  0.0                  0.0      0.0      0.0      0.0   \n590539                  0.0                  0.0      0.0      0.0      0.0   \n\n        id_38_T  DeviceType_desktop  DeviceType_mobile  \\\n0           0.0                 0.0                0.0   \n1           0.0                 0.0                0.0   \n2           0.0                 0.0                0.0   \n3           0.0                 0.0                0.0   \n4           1.0                 0.0                1.0   \n...         ...                 ...                ...   \n590535      0.0                 0.0                0.0   \n590536      0.0                 0.0                0.0   \n590537      0.0                 0.0                0.0   \n590538      0.0                 0.0                0.0   \n590539      0.0                 0.0                0.0   \n\n        id_34_match_statusminus1  \n0                            0.0  \n1                            0.0  \n2                            0.0  \n3                            0.0  \n4                            0.0  \n...                          ...  \n590535                       0.0  \n590536                       0.0  \n590537                       0.0  \n590538                       0.0  \n590539                       0.0  \n\n[590540 rows x 113 columns]",
      "text/html": "<div>\n<style scoped>\n    .dataframe tbody tr th:only-of-type {\n        vertical-align: middle;\n    }\n\n    .dataframe tbody tr th {\n        vertical-align: top;\n    }\n\n    .dataframe thead th {\n        text-align: right;\n    }\n</style>\n<table border=\"1\" class=\"dataframe\">\n  <thead>\n    <tr style=\"text-align: right;\">\n      <th></th>\n      <th>isFraud</th>\n      <th>TransactionAmt</th>\n      <th>card1</th>\n      <th>card2</th>\n      <th>card3</th>\n      <th>card5</th>\n      <th>addr1</th>\n      <th>addr2</th>\n      <th>dist1</th>\n      <th>C1</th>\n      <th>...</th>\n      <th>id_34_match_status0</th>\n      <th>id_34_match_status1</th>\n      <th>id_34_match_status2</th>\n      <th>id_36_T</th>\n      <th>id_37_F</th>\n      <th>id_38_F</th>\n      <th>id_38_T</th>\n      <th>DeviceType_desktop</th>\n      <th>DeviceType_mobile</th>\n      <th>id_34_match_statusminus1</th>\n    </tr>\n  </thead>\n  <tbody>\n    <tr>\n      <th>0</th>\n      <td>0.0</td>\n      <td>0.002137</td>\n      <td>0.743044</td>\n      <td>0.525111</td>\n      <td>0.138122</td>\n      <td>0.112299</td>\n      <td>0.488636</td>\n      <td>0.396907</td>\n      <td>0.001847</td>\n      <td>0.000213</td>\n      <td>...</td>\n      <td>0.0</td>\n      <td>0.0</td>\n      <td>0.0</td>\n      <td>0.0</td>\n      <td>0.0</td>\n      <td>0.0</td>\n      <td>0.0</td>\n      <td>0.0</td>\n      <td>0.0</td>\n      <td>0.0</td>\n    </tr>\n    <tr>\n      <th>1</th>\n      <td>0.0</td>\n      <td>0.000900</td>\n      <td>0.100885</td>\n      <td>0.608000</td>\n      <td>0.138122</td>\n      <td>0.005348</td>\n      <td>0.511364</td>\n      <td>0.396907</td>\n      <td>0.011521</td>\n      <td>0.000213</td>\n      <td>...</td>\n      <td>0.0</td>\n      <td>0.0</td>\n      <td>0.0</td>\n      <td>0.0</td>\n      <td>0.0</td>\n      <td>0.0</td>\n      <td>0.0</td>\n      <td>0.0</td>\n      <td>0.0</td>\n      <td>0.0</td>\n    </tr>\n    <tr>\n      <th>2</th>\n      <td>0.0</td>\n      <td>0.001840</td>\n      <td>0.210566</td>\n      <td>0.780000</td>\n      <td>0.138122</td>\n      <td>0.176471</td>\n      <td>0.522727</td>\n      <td>0.396907</td>\n      <td>0.027902</td>\n      <td>0.000213</td>\n      <td>...</td>\n      <td>0.0</td>\n      <td>0.0</td>\n      <td>0.0</td>\n      <td>0.0</td>\n      <td>0.0</td>\n      <td>0.0</td>\n      <td>0.0</td>\n      <td>0.0</td>\n      <td>0.0</td>\n      <td>0.0</td>\n    </tr>\n    <tr>\n      <th>3</th>\n      <td>0.0</td>\n      <td>0.001558</td>\n      <td>0.984824</td>\n      <td>0.934000</td>\n      <td>0.138122</td>\n      <td>0.045455</td>\n      <td>0.854545</td>\n      <td>0.396907</td>\n      <td>0.011521</td>\n      <td>0.000427</td>\n      <td>...</td>\n      <td>0.0</td>\n      <td>0.0</td>\n      <td>0.0</td>\n      <td>0.0</td>\n      <td>0.0</td>\n      <td>0.0</td>\n      <td>0.0</td>\n      <td>0.0</td>\n      <td>0.0</td>\n      <td>0.0</td>\n    </tr>\n    <tr>\n      <th>4</th>\n      <td>0.0</td>\n      <td>0.001558</td>\n      <td>0.201023</td>\n      <td>0.828000</td>\n      <td>0.138122</td>\n      <td>0.005348</td>\n      <td>0.727273</td>\n      <td>0.396907</td>\n      <td>0.011521</td>\n      <td>0.000213</td>\n      <td>...</td>\n      <td>0.0</td>\n      <td>0.0</td>\n      <td>1.0</td>\n      <td>0.0</td>\n      <td>0.0</td>\n      <td>0.0</td>\n      <td>1.0</td>\n      <td>0.0</td>\n      <td>1.0</td>\n      <td>0.0</td>\n    </tr>\n    <tr>\n      <th>...</th>\n      <td>...</td>\n      <td>...</td>\n      <td>...</td>\n      <td>...</td>\n      <td>...</td>\n      <td>...</td>\n      <td>...</td>\n      <td>...</td>\n      <td>...</td>\n      <td>...</td>\n      <td>...</td>\n      <td>...</td>\n      <td>...</td>\n      <td>...</td>\n      <td>...</td>\n      <td>...</td>\n      <td>...</td>\n      <td>...</td>\n      <td>...</td>\n      <td>...</td>\n      <td>...</td>\n    </tr>\n    <tr>\n      <th>590535</th>\n      <td>0.0</td>\n      <td>0.001526</td>\n      <td>0.319039</td>\n      <td>0.525111</td>\n      <td>0.138122</td>\n      <td>0.336898</td>\n      <td>0.390909</td>\n      <td>0.396907</td>\n      <td>0.004667</td>\n      <td>0.000427</td>\n      <td>...</td>\n      <td>0.0</td>\n      <td>0.0</td>\n      <td>0.0</td>\n      <td>0.0</td>\n      <td>0.0</td>\n      <td>0.0</td>\n      <td>0.0</td>\n      <td>0.0</td>\n      <td>0.0</td>\n      <td>0.0</td>\n    </tr>\n    <tr>\n      <th>590536</th>\n      <td>0.0</td>\n      <td>0.001229</td>\n      <td>0.542883</td>\n      <td>0.250000</td>\n      <td>0.138122</td>\n      <td>0.331551</td>\n      <td>0.236364</td>\n      <td>0.396907</td>\n      <td>0.011521</td>\n      <td>0.000213</td>\n      <td>...</td>\n      <td>0.0</td>\n      <td>0.0</td>\n      <td>0.0</td>\n      <td>0.0</td>\n      <td>0.0</td>\n      <td>0.0</td>\n      <td>0.0</td>\n      <td>0.0</td>\n      <td>0.0</td>\n      <td>0.0</td>\n    </tr>\n    <tr>\n      <th>590537</th>\n      <td>0.0</td>\n      <td>0.000961</td>\n      <td>0.634456</td>\n      <td>0.990000</td>\n      <td>0.138122</td>\n      <td>0.331551</td>\n      <td>0.297727</td>\n      <td>0.396907</td>\n      <td>0.011521</td>\n      <td>0.000213</td>\n      <td>...</td>\n      <td>0.0</td>\n      <td>0.0</td>\n      <td>0.0</td>\n      <td>0.0</td>\n      <td>0.0</td>\n      <td>0.0</td>\n      <td>0.0</td>\n      <td>0.0</td>\n      <td>0.0</td>\n      <td>0.0</td>\n    </tr>\n    <tr>\n      <th>590538</th>\n      <td>0.0</td>\n      <td>0.003656</td>\n      <td>0.392389</td>\n      <td>0.762000</td>\n      <td>0.138122</td>\n      <td>0.331551</td>\n      <td>0.652273</td>\n      <td>0.396907</td>\n      <td>0.000292</td>\n      <td>0.000213</td>\n      <td>...</td>\n      <td>0.0</td>\n      <td>0.0</td>\n      <td>0.0</td>\n      <td>0.0</td>\n      <td>0.0</td>\n      <td>0.0</td>\n      <td>0.0</td>\n      <td>0.0</td>\n      <td>0.0</td>\n      <td>0.0</td>\n    </tr>\n    <tr>\n      <th>590539</th>\n      <td>0.0</td>\n      <td>0.008758</td>\n      <td>0.808577</td>\n      <td>0.140000</td>\n      <td>0.138122</td>\n      <td>0.005348</td>\n      <td>0.452273</td>\n      <td>0.396907</td>\n      <td>0.011521</td>\n      <td>0.000427</td>\n      <td>...</td>\n      <td>0.0</td>\n      <td>0.0</td>\n      <td>0.0</td>\n      <td>0.0</td>\n      <td>0.0</td>\n      <td>0.0</td>\n      <td>0.0</td>\n      <td>0.0</td>\n      <td>0.0</td>\n      <td>0.0</td>\n    </tr>\n  </tbody>\n</table>\n<p>590540 rows × 113 columns</p>\n</div>"
     },
     "execution_count": 173,
     "metadata": {},
     "output_type": "execute_result"
    }
   ],
   "source": [
    "df2"
   ],
   "metadata": {
    "collapsed": false,
    "pycharm": {
     "name": "#%%\n"
    }
   }
  },
  {
   "cell_type": "code",
   "execution_count": 175,
   "outputs": [
    {
     "data": {
      "text/plain": "True"
     },
     "execution_count": 175,
     "metadata": {},
     "output_type": "execute_result"
    }
   ],
   "source": [
    "\n",
    "df2.equals(df1)"
   ],
   "metadata": {
    "collapsed": false,
    "pycharm": {
     "name": "#%%\n"
    }
   }
  }
 ],
 "metadata": {
  "kernelspec": {
   "display_name": "Python 3",
   "language": "python",
   "name": "python3"
  },
  "language_info": {
   "codemirror_mode": {
    "name": "ipython",
    "version": 2
   },
   "file_extension": ".py",
   "mimetype": "text/x-python",
   "name": "python",
   "nbconvert_exporter": "python",
   "pygments_lexer": "ipython2",
   "version": "2.7.6"
  }
 },
 "nbformat": 4,
 "nbformat_minor": 0
}