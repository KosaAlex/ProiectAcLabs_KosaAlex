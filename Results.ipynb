{
 "cells": [
  {
   "cell_type": "code",
   "execution_count": 19,
   "outputs": [],
   "source": [
    "import pandas as pd\n",
    "import numpy as np\n",
    "import torch\n",
    "from sklearn.metrics import roc_auc_score\n",
    "import os\n",
    "from catboost import CatBoostClassifier\n",
    "from sklearn.linear_model import LogisticRegression\n",
    "import operator\n",
    "from typing import Union\n",
    "from sklearn.preprocessing import MinMaxScaler\n",
    "import re\n",
    "import lightgbm as lgb\n",
    "from sklearn import metrics\n",
    "import matplotlib.pyplot as plt"
   ],
   "metadata": {
    "collapsed": false,
    "pycharm": {
     "name": "#%%\n"
    }
   }
  },
  {
   "cell_type": "markdown",
   "source": [
    "LOAD DATASETS"
   ],
   "metadata": {
    "collapsed": false,
    "pycharm": {
     "name": "#%% md\n"
    }
   }
  },
  {
   "cell_type": "code",
   "execution_count": 2,
   "outputs": [],
   "source": [
    "data_dir=\"/Users/alexkosa/Desktop/AcLabs\"\n",
    "X_train_unbalanced = pd.read_csv(os.path.join(data_dir, \"X_train_unbalanced.csv\"))\n",
    "X_test_unbalanced = pd.read_csv(os.path.join(data_dir, \"X_test_unbalanced.csv\"))\n",
    "#path = open(\"/Users/alexkosa/Desktop/AcLabs/X_train_balanced.csv\")\n",
    "#X_train_balanced=np.loadtxt(path,delimiter=',',dtype='float64',skiprows=1)\n",
    "X_train_balanced = pd.read_csv(os.path.join(data_dir, \"X_train_balanced.csv\"))\n",
    "X_test_balanced = pd.read_csv(os.path.join(data_dir, \"X_test_balanced.csv\"))\n",
    "\n",
    "y_train_unbalanced = pd.read_csv(os.path.join(data_dir, \"y_train_unbalanced.csv\"))\n",
    "y_test_unbalanced = pd.read_csv(os.path.join(data_dir, \"y_test_unbalanced.csv\"))\n",
    "#path = open(\"/Users/alexkosa/Desktop/AcLabs/y_train_balanced.csv\")\n",
    "#y_train_balanced=np.loadtxt(path,delimiter=',',dtype='float64',skiprows=1)\n",
    "y_train_balanced = pd.read_csv(os.path.join(data_dir, \"y_train_balanced.csv\"))\n",
    "y_test_balanced = pd.read_csv(os.path.join(data_dir, \"y_test_balanced.csv\"))"
   ],
   "metadata": {
    "collapsed": false,
    "pycharm": {
     "name": "#%%\n"
    }
   }
  },
  {
   "cell_type": "code",
   "execution_count": 3,
   "outputs": [],
   "source": [
    "y_train_unbalanced = y_train_unbalanced.squeeze()\n",
    "y_test_unbalanced = y_test_unbalanced.squeeze()\n",
    "y_train_balanced = y_train_balanced.squeeze()\n",
    "y_test_balanced = y_test_balanced.squeeze()"
   ],
   "metadata": {
    "collapsed": false,
    "pycharm": {
     "name": "#%%\n"
    }
   }
  },
  {
   "cell_type": "markdown",
   "source": [
    "LOAD MODELS"
   ],
   "metadata": {
    "collapsed": false,
    "pycharm": {
     "name": "#%% md\n"
    }
   }
  },
  {
   "cell_type": "code",
   "execution_count": 12,
   "outputs": [],
   "source": [
    "catB=CatBoostClassifier()\n",
    "catU=CatBoostClassifier()\n",
    "catB=torch.load('CatBoostOnBalancedModel')\n",
    "catU=torch.load('CatBoostOnUnbalancedModel')\n",
    "LightGBMResults=torch.load(\"LightGBMResults\")\n",
    "logB=torch.load('LogisticRegressionOnBalanced')\n",
    "logU=torch.load('LogisticRegressionOnUnbalanced')"
   ],
   "metadata": {
    "collapsed": false,
    "pycharm": {
     "name": "#%%\n"
    }
   }
  },
  {
   "cell_type": "markdown",
   "source": [
    "PREDICT"
   ],
   "metadata": {
    "collapsed": false,
    "pycharm": {
     "name": "#%% md\n"
    }
   }
  },
  {
   "cell_type": "code",
   "execution_count": 15,
   "outputs": [],
   "source": [
    "y_predict_catB=catB.predict_proba(X_test_balanced)\n",
    "y_predict_catU=catU.predict_proba(X_test_unbalanced)\n",
    "y_predict_logB=logB.predict_proba(X_test_balanced)\n",
    "y_predict_logU=logU.predict_proba(X_test_unbalanced)"
   ],
   "metadata": {
    "collapsed": false,
    "pycharm": {
     "name": "#%%\n"
    }
   }
  },
  {
   "cell_type": "markdown",
   "source": [
    "RESULTS"
   ],
   "metadata": {
    "collapsed": false,
    "pycharm": {
     "name": "#%% md\n"
    }
   }
  },
  {
   "cell_type": "code",
   "execution_count": 17,
   "outputs": [],
   "source": [
    "CatBoostResults={\"CatBoost On Balanced\": roc_auc_score(y_test_balanced,y_predict_catB[:,1]),\"CatBoost On Unbalanced\":roc_auc_score(y_test_unbalanced,y_predict_catU[:,1])}\n",
    "LogisticRegressionResults={\"LogisticRegression On Balanced\":roc_auc_score(y_test_balanced,y_predict_logB[:,1]),\"LogisticRegression On Unbalanced\": roc_auc_score(y_test_unbalanced,y_predict_logU[:,1])}"
   ],
   "metadata": {
    "collapsed": false,
    "pycharm": {
     "name": "#%%\n"
    }
   }
  },
  {
   "cell_type": "code",
   "execution_count": 40,
   "outputs": [
    {
     "name": "stdout",
     "output_type": "stream",
     "text": [
      "{'LogisticRegression On Balanced': 0.8325474684837768, 'LogisticRegression On Unbalanced': 0.8182526376613838}\n",
      "{'LightGBM On Balanced': 0.9346706358985789, 'LightGBM On Unbalanced': 0.9224645487560548}\n",
      "{'CatBoost On Balanced': 0.985761328776019, 'CatBoost On Unbalanced': 0.9356364592068797}\n"
     ]
    }
   ],
   "source": [
    "print(LogisticRegressionResults)\n",
    "print(LightGBMResults)\n",
    "print(CatBoostResults)"
   ],
   "metadata": {
    "collapsed": false,
    "pycharm": {
     "name": "#%%\n"
    }
   }
  },
  {
   "cell_type": "markdown",
   "source": [
    "PLOT RESULTS"
   ],
   "metadata": {
    "collapsed": false,
    "pycharm": {
     "name": "#%% md\n"
    }
   }
  },
  {
   "cell_type": "code",
   "execution_count": 33,
   "outputs": [
    {
     "data": {
      "text/plain": "<Figure size 432x288 with 1 Axes>",
      "image/png": "[encoded data removed]"
     },
     "metadata": {
      "needs_background": "light"
     },
     "output_type": "display_data"
    }
   ],
   "source": [
    "Results={}\n",
    "Results.update(LogisticRegressionResults)\n",
    "Results.update(LightGBMResults)\n",
    "Results.update(CatBoostResults)\n",
    "names=list(Results.keys())\n",
    "values=list(Results.values())\n",
    "plt.barh(range(len(Results)),values,tick_label=names)\n",
    "plt.show()"
   ],
   "metadata": {
    "collapsed": false,
    "pycharm": {
     "name": "#%%\n"
    }
   }
  },
  {
   "cell_type": "markdown",
   "source": [
    "PLOT ROC"
   ],
   "metadata": {
    "collapsed": false,
    "pycharm": {
     "name": "#%% md\n"
    }
   }
  },
  {
   "cell_type": "code",
   "execution_count": 35,
   "outputs": [
    {
     "data": {
      "text/plain": "<Figure size 432x288 with 1 Axes>",
      "image/png": "[encoded data removed]"
     },
     "metadata": {
      "needs_background": "light"
     },
     "output_type": "display_data"
    }
   ],
   "source": [
    "fpr, tpr, _ = metrics.roc_curve(y_test_balanced,  y_predict_catB[:,1])\n",
    "plt.plot(fpr,tpr)\n",
    "plt.ylabel('True Positive Rate')\n",
    "plt.xlabel('False Positive Rate')\n",
    "plt.title(\"Best score ROC : CatBoost on Balanced Dataset\")\n",
    "plt.show()"
   ],
   "metadata": {
    "collapsed": false,
    "pycharm": {
     "name": "#%%\n"
    }
   }
  },
  {
   "cell_type": "code",
   "execution_count": 41,
   "outputs": [
    {
     "data": {
      "text/plain": "<Figure size 432x288 with 1 Axes>",
      "image/png": "[encoded data removed]"
     },
     "metadata": {
      "needs_background": "light"
     },
     "output_type": "display_data"
    }
   ],
   "source": [
    "fpr, tpr, _ = metrics.roc_curve(y_test_unbalanced,  y_predict_logU[:,1])\n",
    "plt.plot(fpr,tpr)\n",
    "plt.ylabel('True Positive Rate')\n",
    "plt.xlabel('False Positive Rate')\n",
    "plt.title(\"Worst score ROC : Logistic Regression  on Unbalanced Dataset\")\n",
    "plt.show()"
   ],
   "metadata": {
    "collapsed": false,
    "pycharm": {
     "name": "#%%\n"
    }
   }
  },
  {
   "cell_type": "markdown",
   "source": [
    "FEATURE IMPORTANCE ON BEST MODEL"
   ],
   "metadata": {
    "collapsed": false,
    "pycharm": {
     "name": "#%% md\n"
    }
   }
  },
  {
   "cell_type": "code",
   "execution_count": 45,
   "outputs": [
    {
     "data": {
      "text/plain": "<Figure size 720x720 with 1 Axes>",
      "image/png": "[encoded data removed]"
     },
     "metadata": {
      "needs_background": "light"
     },
     "output_type": "display_data"
    }
   ],
   "source": [
    "features = X_train_balanced.columns\n",
    "importances = catB.feature_importances_\n",
    "indices = np.argsort(importances)\n",
    "plt.figure(figsize=(10,10))\n",
    "plt.title('Feature Importances on CatBoost')\n",
    "plt.barh(range(10), importances[indices[-10:]])\n",
    "plt.yticks(range(10),[features[i] for i in indices[-10:]])\n",
    "plt.show()"
   ],
   "metadata": {
    "collapsed": false,
    "pycharm": {
     "name": "#%%\n"
    }
   }
  },
  {
   "cell_type": "markdown",
   "source": [
    "FEATURE IMPORTANCE ON WORST MODEL"
   ],
   "metadata": {
    "collapsed": false,
    "pycharm": {
     "name": "#%% md\n"
    }
   }
  },
  {
   "cell_type": "code",
   "execution_count": 51,
   "outputs": [
    {
     "data": {
      "text/plain": "<Figure size 720x720 with 1 Axes>",
      "image/png": "[encoded data removed]"
     },
     "metadata": {
      "needs_background": "light"
     },
     "output_type": "display_data"
    }
   ],
   "source": [
    "features = X_train_balanced.columns\n",
    "importances = logU.coef_[0]\n",
    "indices = np.argsort(importances)\n",
    "plt.figure(figsize=(10,10))\n",
    "plt.title('Feature Importances on LogisticRegression')\n",
    "plt.barh(range(10), importances[indices[-10:]])\n",
    "plt.yticks(range(10),[features[i] for i in indices[-10:]])\n",
    "plt.show()"
   ],
   "metadata": {
    "collapsed": false,
    "pycharm": {
     "name": "#%%\n"
    }
   }
  },
  {
   "cell_type": "code",
   "execution_count": null,
   "outputs": [],
   "source": [],
   "metadata": {
    "collapsed": false,
    "pycharm": {
     "name": "#%%\n"
    }
   }
  }
 ],
 "metadata": {
  "kernelspec": {
   "display_name": "Python 3",
   "language": "python",
   "name": "python3"
  },
  "language_info": {
   "codemirror_mode": {
    "name": "ipython",
    "version": 2
   },
   "file_extension": ".py",
   "mimetype": "text/x-python",
   "name": "python",
   "nbconvert_exporter": "python",
   "pygments_lexer": "ipython2",
   "version": "2.7.6"
  }
 },
 "nbformat": 4,
 "nbformat_minor": 0
}