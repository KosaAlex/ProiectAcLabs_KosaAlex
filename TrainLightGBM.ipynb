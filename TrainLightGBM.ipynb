{
 "cells": [
  {
   "cell_type": "code",
   "execution_count": 4,
   "outputs": [],
   "source": [
    "import pandas as pd\n",
    "import numpy as np\n",
    "import lightgbm as lgb\n",
    "import torch\n",
    "from sklearn.metrics import roc_auc_score\n",
    "import os\n",
    "\n",
    "\n"
   ],
   "metadata": {
    "collapsed": false,
    "pycharm": {
     "name": "#%%\n"
    }
   }
  },
  {
   "cell_type": "code",
   "execution_count": 10,
   "outputs": [],
   "source": [
    "data_dir=\"/Users/alexkosa/Desktop/AcLabs\"\n",
    "X_train_unbalanced = pd.read_csv(os.path.join(data_dir, \"X_train_unbalanced.csv\"))\n",
    "X_test_unbalanced = pd.read_csv(os.path.join(data_dir, \"X_test_unbalanced.csv\"))\n",
    "#path = open(\"/Users/alexkosa/Desktop/AcLabs/X_train_balanced.csv\")\n",
    "#X_train_balanced=np.loadtxt(path,delimiter=',',dtype='float64',skiprows=1)\n",
    "X_train_balanced = pd.read_csv(os.path.join(data_dir, \"X_train_balanced.csv\"))\n",
    "X_test_balanced = pd.read_csv(os.path.join(data_dir, \"X_test_balanced.csv\"))\n",
    "\n",
    "y_train_unbalanced = pd.read_csv(os.path.join(data_dir, \"y_train_unbalanced.csv\"))\n",
    "y_test_unbalanced = pd.read_csv(os.path.join(data_dir, \"y_test_unbalanced.csv\"))\n",
    "#path = open(\"/Users/alexkosa/Desktop/AcLabs/y_train_balanced.csv\")\n",
    "#y_train_balanced=np.loadtxt(path,delimiter=',',dtype='float64',skiprows=1)\n",
    "y_train_balanced = pd.read_csv(os.path.join(data_dir, \"y_train_balanced.csv\"))\n",
    "y_test_balanced = pd.read_csv(os.path.join(data_dir, \"y_test_balanced.csv\"))\n"
   ],
   "metadata": {
    "collapsed": false,
    "pycharm": {
     "name": "#%%\n"
    }
   }
  },
  {
   "cell_type": "code",
   "execution_count": 11,
   "outputs": [],
   "source": [
    "y_train_unbalanced = y_train_unbalanced.squeeze()\n",
    "y_test_unbalanced = y_test_unbalanced.squeeze()\n",
    "y_train_balanced = y_train_balanced.squeeze()\n",
    "y_test_balanced = y_test_balanced.squeeze()"
   ],
   "metadata": {
    "collapsed": false,
    "pycharm": {
     "name": "#%%\n"
    }
   }
  },
  {
   "cell_type": "code",
   "execution_count": 12,
   "outputs": [
    {
     "data": {
      "text/plain": "        TransactionAmt     card1  card2     card3     card5     addr1  \\\n0             0.003123  0.014486  0.022  0.028604  0.919708  0.538636   \n1             0.009386  0.866579  0.828  0.028604  0.014599  0.645455   \n2             0.001088  0.347034  0.710  0.028604  0.189781  0.372727   \n3             0.006254  0.580938  0.000  0.028604  0.919708  0.236364   \n4             0.001840  0.586744  0.522  0.028604  0.919708  0.236364   \n...                ...       ...    ...       ...       ...       ...   \n803035        0.003123  0.881007  0.442  0.028604  0.919708  0.390909   \n803036        0.002376  0.855656  0.890  0.048627  0.277372  0.436173   \n803037        0.001683  0.488618  0.442  0.028604  0.919708  0.522727   \n803038        0.013926  0.869855  0.022  0.028604  0.919708  0.452273   \n803039        0.008194  0.580938  0.000  0.028604  0.919708  0.538636   \n\n           addr2     dist1        C1   C3  ...  id_34_match_status0  \\\n0       0.095533  0.013076  0.001067  0.0  ...                  0.0   \n1       0.095533  0.013076  0.303735  0.0  ...                  0.0   \n2       0.095533  0.000000  0.022199  0.0  ...                  0.0   \n3       0.095533  0.013076  0.000854  0.0  ...                  0.0   \n4       0.095533  0.013076  0.000213  0.0  ...                  0.0   \n...          ...       ...       ...  ...  ...                  ...   \n803035  0.095533  0.013076  0.000213  0.0  ...                  0.0   \n803036  1.000000  0.013076  0.000213  0.0  ...                  0.0   \n803037  0.095533  0.000097  0.000854  0.0  ...                  0.0   \n803038  0.095533  0.000389  0.000427  0.0  ...                  0.0   \n803039  0.095533  0.013076  0.021131  0.0  ...                  0.0   \n\n        id_34_match_status1  id_34_match_status2  id_36_T  id_37_F  id_38_F  \\\n0                       0.0                  1.0      0.0      0.0      1.0   \n1                       1.0                  0.0      0.0      0.0      1.0   \n2                       0.0                  0.0      0.0      0.0      0.0   \n3                       1.0                  0.0      0.0      1.0      1.0   \n4                       0.0                  0.0      0.0      0.0      0.0   \n...                     ...                  ...      ...      ...      ...   \n803035                  1.0                  0.0      0.0      1.0      1.0   \n803036                  0.0                  0.0      0.0      0.0      1.0   \n803037                  0.0                  0.0      0.0      0.0      0.0   \n803038                  0.0                  0.0      0.0      0.0      0.0   \n803039                  0.0                  0.0      0.0      0.0      0.0   \n\n        id_38_T  DeviceType_desktop  DeviceType_mobile  \\\n0           0.0                 1.0                0.0   \n1           0.0                 0.0                1.0   \n2           0.0                 0.0                0.0   \n3           0.0                 0.0                1.0   \n4           0.0                 0.0                0.0   \n...         ...                 ...                ...   \n803035      0.0                 0.0                1.0   \n803036      0.0                 1.0                0.0   \n803037      0.0                 0.0                0.0   \n803038      0.0                 0.0                0.0   \n803039      0.0                 0.0                0.0   \n\n        id_34_match_statusminus1  \n0                            0.0  \n1                            0.0  \n2                            0.0  \n3                            0.0  \n4                            0.0  \n...                          ...  \n803035                       0.0  \n803036                       0.0  \n803037                       0.0  \n803038                       0.0  \n803039                       0.0  \n\n[803040 rows x 104 columns]",
      "text/html": "<div>\n<style scoped>\n    .dataframe tbody tr th:only-of-type {\n        vertical-align: middle;\n    }\n\n    .dataframe tbody tr th {\n        vertical-align: top;\n    }\n\n    .dataframe thead th {\n        text-align: right;\n    }\n</style>\n<table border=\"1\" class=\"dataframe\">\n  <thead>\n    <tr style=\"text-align: right;\">\n      <th></th>\n      <th>TransactionAmt</th>\n      <th>card1</th>\n      <th>card2</th>\n      <th>card3</th>\n      <th>card5</th>\n      <th>addr1</th>\n      <th>addr2</th>\n      <th>dist1</th>\n      <th>C1</th>\n      <th>C3</th>\n      <th>...</th>\n      <th>id_34_match_status0</th>\n      <th>id_34_match_status1</th>\n      <th>id_34_match_status2</th>\n      <th>id_36_T</th>\n      <th>id_37_F</th>\n      <th>id_38_F</th>\n      <th>id_38_T</th>\n      <th>DeviceType_desktop</th>\n      <th>DeviceType_mobile</th>\n      <th>id_34_match_statusminus1</th>\n    </tr>\n  </thead>\n  <tbody>\n    <tr>\n      <th>0</th>\n      <td>0.003123</td>\n      <td>0.014486</td>\n      <td>0.022</td>\n      <td>0.028604</td>\n      <td>0.919708</td>\n      <td>0.538636</td>\n      <td>0.095533</td>\n      <td>0.013076</td>\n      <td>0.001067</td>\n      <td>0.0</td>\n      <td>...</td>\n      <td>0.0</td>\n      <td>0.0</td>\n      <td>1.0</td>\n      <td>0.0</td>\n      <td>0.0</td>\n      <td>1.0</td>\n      <td>0.0</td>\n      <td>1.0</td>\n      <td>0.0</td>\n      <td>0.0</td>\n    </tr>\n    <tr>\n      <th>1</th>\n      <td>0.009386</td>\n      <td>0.866579</td>\n      <td>0.828</td>\n      <td>0.028604</td>\n      <td>0.014599</td>\n      <td>0.645455</td>\n      <td>0.095533</td>\n      <td>0.013076</td>\n      <td>0.303735</td>\n      <td>0.0</td>\n      <td>...</td>\n      <td>0.0</td>\n      <td>1.0</td>\n      <td>0.0</td>\n      <td>0.0</td>\n      <td>0.0</td>\n      <td>1.0</td>\n      <td>0.0</td>\n      <td>0.0</td>\n      <td>1.0</td>\n      <td>0.0</td>\n    </tr>\n    <tr>\n      <th>2</th>\n      <td>0.001088</td>\n      <td>0.347034</td>\n      <td>0.710</td>\n      <td>0.028604</td>\n      <td>0.189781</td>\n      <td>0.372727</td>\n      <td>0.095533</td>\n      <td>0.000000</td>\n      <td>0.022199</td>\n      <td>0.0</td>\n      <td>...</td>\n      <td>0.0</td>\n      <td>0.0</td>\n      <td>0.0</td>\n      <td>0.0</td>\n      <td>0.0</td>\n      <td>0.0</td>\n      <td>0.0</td>\n      <td>0.0</td>\n      <td>0.0</td>\n      <td>0.0</td>\n    </tr>\n    <tr>\n      <th>3</th>\n      <td>0.006254</td>\n      <td>0.580938</td>\n      <td>0.000</td>\n      <td>0.028604</td>\n      <td>0.919708</td>\n      <td>0.236364</td>\n      <td>0.095533</td>\n      <td>0.013076</td>\n      <td>0.000854</td>\n      <td>0.0</td>\n      <td>...</td>\n      <td>0.0</td>\n      <td>1.0</td>\n      <td>0.0</td>\n      <td>0.0</td>\n      <td>1.0</td>\n      <td>1.0</td>\n      <td>0.0</td>\n      <td>0.0</td>\n      <td>1.0</td>\n      <td>0.0</td>\n    </tr>\n    <tr>\n      <th>4</th>\n      <td>0.001840</td>\n      <td>0.586744</td>\n      <td>0.522</td>\n      <td>0.028604</td>\n      <td>0.919708</td>\n      <td>0.236364</td>\n      <td>0.095533</td>\n      <td>0.013076</td>\n      <td>0.000213</td>\n      <td>0.0</td>\n      <td>...</td>\n      <td>0.0</td>\n      <td>0.0</td>\n      <td>0.0</td>\n      <td>0.0</td>\n      <td>0.0</td>\n      <td>0.0</td>\n      <td>0.0</td>\n      <td>0.0</td>\n      <td>0.0</td>\n      <td>0.0</td>\n    </tr>\n    <tr>\n      <th>...</th>\n      <td>...</td>\n      <td>...</td>\n      <td>...</td>\n      <td>...</td>\n      <td>...</td>\n      <td>...</td>\n      <td>...</td>\n      <td>...</td>\n      <td>...</td>\n      <td>...</td>\n      <td>...</td>\n      <td>...</td>\n      <td>...</td>\n      <td>...</td>\n      <td>...</td>\n      <td>...</td>\n      <td>...</td>\n      <td>...</td>\n      <td>...</td>\n      <td>...</td>\n      <td>...</td>\n    </tr>\n    <tr>\n      <th>803035</th>\n      <td>0.003123</td>\n      <td>0.881007</td>\n      <td>0.442</td>\n      <td>0.028604</td>\n      <td>0.919708</td>\n      <td>0.390909</td>\n      <td>0.095533</td>\n      <td>0.013076</td>\n      <td>0.000213</td>\n      <td>0.0</td>\n      <td>...</td>\n      <td>0.0</td>\n      <td>1.0</td>\n      <td>0.0</td>\n      <td>0.0</td>\n      <td>1.0</td>\n      <td>1.0</td>\n      <td>0.0</td>\n      <td>0.0</td>\n      <td>1.0</td>\n      <td>0.0</td>\n    </tr>\n    <tr>\n      <th>803036</th>\n      <td>0.002376</td>\n      <td>0.855656</td>\n      <td>0.890</td>\n      <td>0.048627</td>\n      <td>0.277372</td>\n      <td>0.436173</td>\n      <td>1.000000</td>\n      <td>0.013076</td>\n      <td>0.000213</td>\n      <td>0.0</td>\n      <td>...</td>\n      <td>0.0</td>\n      <td>0.0</td>\n      <td>0.0</td>\n      <td>0.0</td>\n      <td>0.0</td>\n      <td>1.0</td>\n      <td>0.0</td>\n      <td>1.0</td>\n      <td>0.0</td>\n      <td>0.0</td>\n    </tr>\n    <tr>\n      <th>803037</th>\n      <td>0.001683</td>\n      <td>0.488618</td>\n      <td>0.442</td>\n      <td>0.028604</td>\n      <td>0.919708</td>\n      <td>0.522727</td>\n      <td>0.095533</td>\n      <td>0.000097</td>\n      <td>0.000854</td>\n      <td>0.0</td>\n      <td>...</td>\n      <td>0.0</td>\n      <td>0.0</td>\n      <td>0.0</td>\n      <td>0.0</td>\n      <td>0.0</td>\n      <td>0.0</td>\n      <td>0.0</td>\n      <td>0.0</td>\n      <td>0.0</td>\n      <td>0.0</td>\n    </tr>\n    <tr>\n      <th>803038</th>\n      <td>0.013926</td>\n      <td>0.869855</td>\n      <td>0.022</td>\n      <td>0.028604</td>\n      <td>0.919708</td>\n      <td>0.452273</td>\n      <td>0.095533</td>\n      <td>0.000389</td>\n      <td>0.000427</td>\n      <td>0.0</td>\n      <td>...</td>\n      <td>0.0</td>\n      <td>0.0</td>\n      <td>0.0</td>\n      <td>0.0</td>\n      <td>0.0</td>\n      <td>0.0</td>\n      <td>0.0</td>\n      <td>0.0</td>\n      <td>0.0</td>\n      <td>0.0</td>\n    </tr>\n    <tr>\n      <th>803039</th>\n      <td>0.008194</td>\n      <td>0.580938</td>\n      <td>0.000</td>\n      <td>0.028604</td>\n      <td>0.919708</td>\n      <td>0.538636</td>\n      <td>0.095533</td>\n      <td>0.013076</td>\n      <td>0.021131</td>\n      <td>0.0</td>\n      <td>...</td>\n      <td>0.0</td>\n      <td>0.0</td>\n      <td>0.0</td>\n      <td>0.0</td>\n      <td>0.0</td>\n      <td>0.0</td>\n      <td>0.0</td>\n      <td>0.0</td>\n      <td>0.0</td>\n      <td>0.0</td>\n    </tr>\n  </tbody>\n</table>\n<p>803040 rows × 104 columns</p>\n</div>"
     },
     "execution_count": 12,
     "metadata": {},
     "output_type": "execute_result"
    }
   ],
   "source": [
    "X_train_balanced"
   ],
   "metadata": {
    "collapsed": false,
    "pycharm": {
     "name": "#%%\n"
    }
   }
  },
  {
   "cell_type": "code",
   "execution_count": 13,
   "outputs": [
    {
     "data": {
      "text/plain": "0         0.0\n1         1.0\n2         0.0\n3         1.0\n4         0.0\n         ... \n803035    1.0\n803036    1.0\n803037    1.0\n803038    0.0\n803039    1.0\nName: isFraud, Length: 803040, dtype: float64"
     },
     "execution_count": 13,
     "metadata": {},
     "output_type": "execute_result"
    }
   ],
   "source": [
    "y_train_balanced"
   ],
   "metadata": {
    "collapsed": false,
    "pycharm": {
     "name": "#%%\n"
    }
   }
  },
  {
   "cell_type": "code",
   "execution_count": 14,
   "outputs": [],
   "source": [
    "BalancedModel=lgb.LGBMClassifier()"
   ],
   "metadata": {
    "collapsed": false,
    "pycharm": {
     "name": "#%%\n"
    }
   }
  },
  {
   "cell_type": "code",
   "execution_count": 15,
   "outputs": [
    {
     "data": {
      "text/plain": "LGBMClassifier()",
      "text/html": "<style>#sk-container-id-2 {color: black;background-color: white;}#sk-container-id-2 pre{padding: 0;}#sk-container-id-2 div.sk-toggleable {background-color: white;}#sk-container-id-2 label.sk-toggleable__label {cursor: pointer;display: block;width: 100%;margin-bottom: 0;padding: 0.3em;box-sizing: border-box;text-align: center;}#sk-container-id-2 label.sk-toggleable__label-arrow:before {content: \"▸\";float: left;margin-right: 0.25em;color: #696969;}#sk-container-id-2 label.sk-toggleable__label-arrow:hover:before {color: black;}#sk-container-id-2 div.sk-estimator:hover label.sk-toggleable__label-arrow:before {color: black;}#sk-container-id-2 div.sk-toggleable__content {max-height: 0;max-width: 0;overflow: hidden;text-align: left;background-color: #f0f8ff;}#sk-container-id-2 div.sk-toggleable__content pre {margin: 0.2em;color: black;border-radius: 0.25em;background-color: #f0f8ff;}#sk-container-id-2 input.sk-toggleable__control:checked~div.sk-toggleable__content {max-height: 200px;max-width: 100%;overflow: auto;}#sk-container-id-2 input.sk-toggleable__control:checked~label.sk-toggleable__label-arrow:before {content: \"▾\";}#sk-container-id-2 div.sk-estimator input.sk-toggleable__control:checked~label.sk-toggleable__label {background-color: #d4ebff;}#sk-container-id-2 div.sk-label input.sk-toggleable__control:checked~label.sk-toggleable__label {background-color: #d4ebff;}#sk-container-id-2 input.sk-hidden--visually {border: 0;clip: rect(1px 1px 1px 1px);clip: rect(1px, 1px, 1px, 1px);height: 1px;margin: -1px;overflow: hidden;padding: 0;position: absolute;width: 1px;}#sk-container-id-2 div.sk-estimator {font-family: monospace;background-color: #f0f8ff;border: 1px dotted black;border-radius: 0.25em;box-sizing: border-box;margin-bottom: 0.5em;}#sk-container-id-2 div.sk-estimator:hover {background-color: #d4ebff;}#sk-container-id-2 div.sk-parallel-item::after {content: \"\";width: 100%;border-bottom: 1px solid gray;flex-grow: 1;}#sk-container-id-2 div.sk-label:hover label.sk-toggleable__label {background-color: #d4ebff;}#sk-container-id-2 div.sk-serial::before {content: \"\";position: absolute;border-left: 1px solid gray;box-sizing: border-box;top: 0;bottom: 0;left: 50%;z-index: 0;}#sk-container-id-2 div.sk-serial {display: flex;flex-direction: column;align-items: center;background-color: white;padding-right: 0.2em;padding-left: 0.2em;position: relative;}#sk-container-id-2 div.sk-item {position: relative;z-index: 1;}#sk-container-id-2 div.sk-parallel {display: flex;align-items: stretch;justify-content: center;background-color: white;position: relative;}#sk-container-id-2 div.sk-item::before, #sk-container-id-2 div.sk-parallel-item::before {content: \"\";position: absolute;border-left: 1px solid gray;box-sizing: border-box;top: 0;bottom: 0;left: 50%;z-index: -1;}#sk-container-id-2 div.sk-parallel-item {display: flex;flex-direction: column;z-index: 1;position: relative;background-color: white;}#sk-container-id-2 div.sk-parallel-item:first-child::after {align-self: flex-end;width: 50%;}#sk-container-id-2 div.sk-parallel-item:last-child::after {align-self: flex-start;width: 50%;}#sk-container-id-2 div.sk-parallel-item:only-child::after {width: 0;}#sk-container-id-2 div.sk-dashed-wrapped {border: 1px dashed gray;margin: 0 0.4em 0.5em 0.4em;box-sizing: border-box;padding-bottom: 0.4em;background-color: white;}#sk-container-id-2 div.sk-label label {font-family: monospace;font-weight: bold;display: inline-block;line-height: 1.2em;}#sk-container-id-2 div.sk-label-container {text-align: center;}#sk-container-id-2 div.sk-container {/* jupyter's `normalize.less` sets `[hidden] { display: none; }` but bootstrap.min.css set `[hidden] { display: none !important; }` so we also need the `!important` here to be able to override the default hidden behavior on the sphinx rendered scikit-learn.org. See: https://github.com/scikit-learn/scikit-learn/issues/21755 */display: inline-block !important;position: relative;}#sk-container-id-2 div.sk-text-repr-fallback {display: none;}</style><div id=\"sk-container-id-2\" class=\"sk-top-container\"><div class=\"sk-text-repr-fallback\"><pre>LGBMClassifier()</pre><b>In a Jupyter environment, please rerun this cell to show the HTML representation or trust the notebook. <br />On GitHub, the HTML representation is unable to render, please try loading this page with nbviewer.org.</b></div><div class=\"sk-container\" hidden><div class=\"sk-item\"><div class=\"sk-estimator sk-toggleable\"><input class=\"sk-toggleable__control sk-hidden--visually\" id=\"sk-estimator-id-2\" type=\"checkbox\" checked><label for=\"sk-estimator-id-2\" class=\"sk-toggleable__label sk-toggleable__label-arrow\">LGBMClassifier</label><div class=\"sk-toggleable__content\"><pre>LGBMClassifier()</pre></div></div></div></div></div>"
     },
     "execution_count": 15,
     "metadata": {},
     "output_type": "execute_result"
    }
   ],
   "source": [
    "BalancedModel.fit(X_train_balanced,y_train_balanced)"
   ],
   "metadata": {
    "collapsed": false,
    "pycharm": {
     "name": "#%%\n"
    }
   }
  },
  {
   "cell_type": "code",
   "execution_count": 30,
   "outputs": [
    {
     "name": "stdout",
     "output_type": "stream",
     "text": [
      "0.9346706358985789\n"
     ]
    }
   ],
   "source": [
    "y_test_predict_balanced=BalancedModel.predict_proba(X_test_balanced)\n",
    "print(roc_auc_score(y_test_balanced,y_test_predict_balanced[:,1]))"
   ],
   "metadata": {
    "collapsed": false,
    "pycharm": {
     "name": "#%%\n"
    }
   }
  },
  {
   "cell_type": "code",
   "execution_count": 32,
   "outputs": [],
   "source": [
    "torch.save(BalancedModel,\"LightGBMOnBalanced\")"
   ],
   "metadata": {
    "collapsed": false,
    "pycharm": {
     "name": "#%%\n"
    }
   }
  },
  {
   "cell_type": "code",
   "execution_count": 19,
   "outputs": [],
   "source": [
    "UnbalancedModel=lgb.LGBMClassifier()"
   ],
   "metadata": {
    "collapsed": false,
    "pycharm": {
     "name": "#%%\n"
    }
   }
  },
  {
   "cell_type": "code",
   "execution_count": 20,
   "outputs": [
    {
     "data": {
      "text/plain": "LGBMClassifier()",
      "text/html": "<style>#sk-container-id-3 {color: black;background-color: white;}#sk-container-id-3 pre{padding: 0;}#sk-container-id-3 div.sk-toggleable {background-color: white;}#sk-container-id-3 label.sk-toggleable__label {cursor: pointer;display: block;width: 100%;margin-bottom: 0;padding: 0.3em;box-sizing: border-box;text-align: center;}#sk-container-id-3 label.sk-toggleable__label-arrow:before {content: \"▸\";float: left;margin-right: 0.25em;color: #696969;}#sk-container-id-3 label.sk-toggleable__label-arrow:hover:before {color: black;}#sk-container-id-3 div.sk-estimator:hover label.sk-toggleable__label-arrow:before {color: black;}#sk-container-id-3 div.sk-toggleable__content {max-height: 0;max-width: 0;overflow: hidden;text-align: left;background-color: #f0f8ff;}#sk-container-id-3 div.sk-toggleable__content pre {margin: 0.2em;color: black;border-radius: 0.25em;background-color: #f0f8ff;}#sk-container-id-3 input.sk-toggleable__control:checked~div.sk-toggleable__content {max-height: 200px;max-width: 100%;overflow: auto;}#sk-container-id-3 input.sk-toggleable__control:checked~label.sk-toggleable__label-arrow:before {content: \"▾\";}#sk-container-id-3 div.sk-estimator input.sk-toggleable__control:checked~label.sk-toggleable__label {background-color: #d4ebff;}#sk-container-id-3 div.sk-label input.sk-toggleable__control:checked~label.sk-toggleable__label {background-color: #d4ebff;}#sk-container-id-3 input.sk-hidden--visually {border: 0;clip: rect(1px 1px 1px 1px);clip: rect(1px, 1px, 1px, 1px);height: 1px;margin: -1px;overflow: hidden;padding: 0;position: absolute;width: 1px;}#sk-container-id-3 div.sk-estimator {font-family: monospace;background-color: #f0f8ff;border: 1px dotted black;border-radius: 0.25em;box-sizing: border-box;margin-bottom: 0.5em;}#sk-container-id-3 div.sk-estimator:hover {background-color: #d4ebff;}#sk-container-id-3 div.sk-parallel-item::after {content: \"\";width: 100%;border-bottom: 1px solid gray;flex-grow: 1;}#sk-container-id-3 div.sk-label:hover label.sk-toggleable__label {background-color: #d4ebff;}#sk-container-id-3 div.sk-serial::before {content: \"\";position: absolute;border-left: 1px solid gray;box-sizing: border-box;top: 0;bottom: 0;left: 50%;z-index: 0;}#sk-container-id-3 div.sk-serial {display: flex;flex-direction: column;align-items: center;background-color: white;padding-right: 0.2em;padding-left: 0.2em;position: relative;}#sk-container-id-3 div.sk-item {position: relative;z-index: 1;}#sk-container-id-3 div.sk-parallel {display: flex;align-items: stretch;justify-content: center;background-color: white;position: relative;}#sk-container-id-3 div.sk-item::before, #sk-container-id-3 div.sk-parallel-item::before {content: \"\";position: absolute;border-left: 1px solid gray;box-sizing: border-box;top: 0;bottom: 0;left: 50%;z-index: -1;}#sk-container-id-3 div.sk-parallel-item {display: flex;flex-direction: column;z-index: 1;position: relative;background-color: white;}#sk-container-id-3 div.sk-parallel-item:first-child::after {align-self: flex-end;width: 50%;}#sk-container-id-3 div.sk-parallel-item:last-child::after {align-self: flex-start;width: 50%;}#sk-container-id-3 div.sk-parallel-item:only-child::after {width: 0;}#sk-container-id-3 div.sk-dashed-wrapped {border: 1px dashed gray;margin: 0 0.4em 0.5em 0.4em;box-sizing: border-box;padding-bottom: 0.4em;background-color: white;}#sk-container-id-3 div.sk-label label {font-family: monospace;font-weight: bold;display: inline-block;line-height: 1.2em;}#sk-container-id-3 div.sk-label-container {text-align: center;}#sk-container-id-3 div.sk-container {/* jupyter's `normalize.less` sets `[hidden] { display: none; }` but bootstrap.min.css set `[hidden] { display: none !important; }` so we also need the `!important` here to be able to override the default hidden behavior on the sphinx rendered scikit-learn.org. See: https://github.com/scikit-learn/scikit-learn/issues/21755 */display: inline-block !important;position: relative;}#sk-container-id-3 div.sk-text-repr-fallback {display: none;}</style><div id=\"sk-container-id-3\" class=\"sk-top-container\"><div class=\"sk-text-repr-fallback\"><pre>LGBMClassifier()</pre><b>In a Jupyter environment, please rerun this cell to show the HTML representation or trust the notebook. <br />On GitHub, the HTML representation is unable to render, please try loading this page with nbviewer.org.</b></div><div class=\"sk-container\" hidden><div class=\"sk-item\"><div class=\"sk-estimator sk-toggleable\"><input class=\"sk-toggleable__control sk-hidden--visually\" id=\"sk-estimator-id-3\" type=\"checkbox\" checked><label for=\"sk-estimator-id-3\" class=\"sk-toggleable__label sk-toggleable__label-arrow\">LGBMClassifier</label><div class=\"sk-toggleable__content\"><pre>LGBMClassifier()</pre></div></div></div></div></div>"
     },
     "execution_count": 20,
     "metadata": {},
     "output_type": "execute_result"
    }
   ],
   "source": [
    "UnbalancedModel.fit(X_train_unbalanced,y_train_unbalanced)"
   ],
   "metadata": {
    "collapsed": false,
    "pycharm": {
     "name": "#%%\n"
    }
   }
  },
  {
   "cell_type": "code",
   "execution_count": 29,
   "outputs": [
    {
     "name": "stdout",
     "output_type": "stream",
     "text": [
      "0.9224645487560548\n"
     ]
    }
   ],
   "source": [
    "y_test_predict_unbalanced=UnbalancedModel.predict_proba(X_test_unbalanced)\n",
    "print(roc_auc_score(y_test_unbalanced,y_test_predict_unbalanced[:,1]))"
   ],
   "metadata": {
    "collapsed": false,
    "pycharm": {
     "name": "#%%\n"
    }
   }
  },
  {
   "cell_type": "code",
   "execution_count": 33,
   "outputs": [],
   "source": [
    "torch.save(UnbalancedModel,\"LightGBMOnUnbalanced.\")"
   ],
   "metadata": {
    "collapsed": false,
    "pycharm": {
     "name": "#%%\n"
    }
   }
  },
  {
   "cell_type": "code",
   "execution_count": 34,
   "outputs": [],
   "source": [
    "Result={\"LightGBM On Balanced\":0.9346706358985789 , \"LightGBM On Unbalanced\":0.9224645487560548}"
   ],
   "metadata": {
    "collapsed": false,
    "pycharm": {
     "name": "#%%\n"
    }
   }
  },
  {
   "cell_type": "code",
   "execution_count": 38,
   "outputs": [],
   "source": [
    "torch.save(Result,\"LightGBMResults\")"
   ],
   "metadata": {
    "collapsed": false,
    "pycharm": {
     "name": "#%%\n"
    }
   }
  },
  {
   "cell_type": "code",
   "execution_count": null,
   "outputs": [],
   "source": [],
   "metadata": {
    "collapsed": false,
    "pycharm": {
     "name": "#%%\n"
    }
   }
  }
 ],
 "metadata": {
  "kernelspec": {
   "display_name": "Python 3",
   "language": "python",
   "name": "python3"
  },
  "language_info": {
   "codemirror_mode": {
    "name": "ipython",
    "version": 2
   },
   "file_extension": ".py",
   "mimetype": "text/x-python",
   "name": "python",
   "nbconvert_exporter": "python",
   "pygments_lexer": "ipython2",
   "version": "2.7.6"
  }
 },
 "nbformat": 4,
 "nbformat_minor": 0
}